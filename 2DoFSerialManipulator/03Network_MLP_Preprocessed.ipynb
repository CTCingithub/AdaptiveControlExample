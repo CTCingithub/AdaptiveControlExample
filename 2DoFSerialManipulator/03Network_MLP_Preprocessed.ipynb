{
 "cells": [
  {
   "cell_type": "markdown",
   "metadata": {},
   "source": [
    "# MLP Network\n"
   ]
  },
  {
   "cell_type": "markdown",
   "metadata": {},
   "source": [
    "## 1. Pretreatment\n"
   ]
  },
  {
   "cell_type": "markdown",
   "metadata": {},
   "source": [
    "Read data from `.mat` files."
   ]
  },
  {
   "cell_type": "code",
   "execution_count": 16,
   "metadata": {},
   "outputs": [],
   "source": [
    "import scipy as sp\n",
    "import torch\n",
    "import torch.nn as nn\n",
    "import numpy as np\n",
    "from torchinfo import summary\n",
    "\n",
    "torch.set_default_dtype(torch.float64)\n",
    "Input = sp.io.loadmat(\"Data/KinematicsData.mat\")\n",
    "Input = Input[\"KinematicsData\"]\n",
    "Output = sp.io.loadmat(\"Data/DynRegVecData.mat\")\n",
    "Output = Output[\"DynRegData\"]"
   ]
  },
  {
   "cell_type": "markdown",
   "metadata": {},
   "source": [
    "Generate higher order terms of velocity.\n"
   ]
  },
  {
   "cell_type": "code",
   "execution_count": 17,
   "metadata": {},
   "outputs": [],
   "source": [
    "def VelocityHigherOrder(Data):\n",
    "    num_Dof = int(Data.shape[1] / 3)\n",
    "\n",
    "    Data_Processed_Left = Data[:, 0:num_Dof]\n",
    "    Data_Processed_Right = Data[:, -num_Dof:]\n",
    "\n",
    "    VelocityData = Data[:, num_Dof : 2 * num_Dof]\n",
    "    Data_Processed_Mid = np.zeros((Data.shape[0], int(num_Dof * (num_Dof + 1) / 2)))\n",
    "\n",
    "    col_index = 0\n",
    "    for i in range(num_Dof):\n",
    "        for j in range(i, num_Dof):\n",
    "            Data_Processed_Mid[:, col_index] = VelocityData[:, i] * VelocityData[:, j]\n",
    "            col_index += 1\n",
    "\n",
    "    return np.concatenate(\n",
    "        (Data_Processed_Left, Data_Processed_Mid, Data_Processed_Right), axis=1\n",
    "    )\n",
    "\n",
    "\n",
    "Input = VelocityHigherOrder(Input)"
   ]
  },
  {
   "cell_type": "markdown",
   "metadata": {},
   "source": [
    "Size of input and output data."
   ]
  },
  {
   "cell_type": "code",
   "execution_count": 18,
   "metadata": {},
   "outputs": [],
   "source": [
    "import sys\n",
    "\n",
    "sys.path.append(\"..\")\n",
    "from utils import *\n",
    "\n",
    "Input.shape, Output.shape\n",
    "Input = torch.from_numpy(Input).to(GET_DEVICE())\n",
    "Output = torch.from_numpy(Output).to(GET_DEVICE())"
   ]
  },
  {
   "cell_type": "markdown",
   "metadata": {},
   "source": [
    "Create **Training** and **Validation** datasets."
   ]
  },
  {
   "cell_type": "code",
   "execution_count": 19,
   "metadata": {},
   "outputs": [],
   "source": [
    "TrainingLoader, ValidationLoader = Split2Loaders(\n",
    "    Input, Output, BATCHSIZE=32, RATIO=0.8, SHUFFLE=True\n",
    ")"
   ]
  },
  {
   "cell_type": "markdown",
   "metadata": {},
   "source": [
    "## 2. Training\n"
   ]
  },
  {
   "cell_type": "markdown",
   "metadata": {},
   "source": [
    "Define MLP network structure."
   ]
  },
  {
   "cell_type": "code",
   "execution_count": 20,
   "metadata": {},
   "outputs": [],
   "source": [
    "class DynReg_MLP(nn.Module):\n",
    "    def __init__(self, input_size, output_size, hidden_size=None, embedding_size=8):\n",
    "        if hidden_size is None:\n",
    "            hidden_size = [16, 32, 16]\n",
    "        super().__init__()\n",
    "        self.layer_1 = nn.Linear(input_size, hidden_size[0])\n",
    "        self.layer_2 = nn.Linear(hidden_size[0], hidden_size[1])\n",
    "        self.layer_3 = nn.Linear(hidden_size[1], hidden_size[2])\n",
    "        self.layer_4 = nn.Linear(hidden_size[2], embedding_size)\n",
    "        self.LinearMapping = nn.Linear(embedding_size, output_size, bias=False)\n",
    "\n",
    "    def forward(self, x):\n",
    "        Output = x\n",
    "        Output = self.layer_1(Output)\n",
    "        Output = torch.relu(Output)\n",
    "        Output = self.layer_2(Output)\n",
    "        Output = torch.relu(Output)\n",
    "        Output = self.layer_3(Output)\n",
    "        Output = torch.relu(Output)\n",
    "        Output = self.layer_4(Output)\n",
    "        Output = torch.relu(Output)\n",
    "        return self.LinearMapping(Output)"
   ]
  },
  {
   "cell_type": "markdown",
   "metadata": {},
   "source": [
    "Define network."
   ]
  },
  {
   "cell_type": "code",
   "execution_count": 21,
   "metadata": {},
   "outputs": [
    {
     "data": {
      "text/plain": [
       "=================================================================\n",
       "Layer (type:depth-idx)                   Param #\n",
       "=================================================================\n",
       "DynReg_MLP                               --\n",
       "├─Linear: 1-1                            128\n",
       "├─Linear: 1-2                            544\n",
       "├─Linear: 1-3                            1,056\n",
       "├─Linear: 1-4                            264\n",
       "├─Linear: 1-5                            112\n",
       "=================================================================\n",
       "Total params: 2,104\n",
       "Trainable params: 2,104\n",
       "Non-trainable params: 0\n",
       "================================================================="
      ]
     },
     "execution_count": 21,
     "metadata": {},
     "output_type": "execute_result"
    }
   ],
   "source": [
    "Net = DynReg_MLP(\n",
    "    input_size=Input.shape[1],\n",
    "    output_size=14,\n",
    "    hidden_size=[16, 32, 32],\n",
    "    embedding_size=8,\n",
    ")\n",
    "summary(Net)"
   ]
  },
  {
   "cell_type": "markdown",
   "metadata": {},
   "source": [
    "Define loss function."
   ]
  },
  {
   "cell_type": "code",
   "execution_count": 22,
   "metadata": {},
   "outputs": [],
   "source": [
    "def LinearMappingSparityLoss(Network, OutputFromNet, OutputFromData):\n",
    "    return torch.abs(Network.LinearMapping.weight).sum()"
   ]
  },
  {
   "cell_type": "markdown",
   "metadata": {},
   "source": [
    "Define optimizer."
   ]
  },
  {
   "cell_type": "code",
   "execution_count": 23,
   "metadata": {},
   "outputs": [],
   "source": [
    "optimizer = torch.optim.Adam(Net.parameters(), lr=0.001, weight_decay=0)"
   ]
  },
  {
   "cell_type": "markdown",
   "metadata": {},
   "source": [
    "Initialize weight."
   ]
  },
  {
   "cell_type": "code",
   "execution_count": 24,
   "metadata": {},
   "outputs": [],
   "source": [
    "INIT_WEIGHTS_XAVIER(Net)"
   ]
  },
  {
   "cell_type": "markdown",
   "metadata": {},
   "source": [
    "Define training configuration."
   ]
  },
  {
   "cell_type": "code",
   "execution_count": 25,
   "metadata": {},
   "outputs": [],
   "source": [
    "num_epochs = 50\n",
    "loss_weights = [1, 1e-2]\n",
    "grad_max = 5\n",
    "loss_switch_value = 5\n",
    "freeze_epoch = 7"
   ]
  },
  {
   "cell_type": "markdown",
   "metadata": {},
   "source": [
    "Training network."
   ]
  },
  {
   "cell_type": "code",
   "execution_count": 26,
   "metadata": {},
   "outputs": [
    {
     "name": "stdout",
     "output_type": "stream",
     "text": [
      "PyTorch Version: 2.2.2\n",
      "Training on cuda:0\n",
      "====================================Start training====================================\n"
     ]
    },
    {
     "name": "stderr",
     "output_type": "stream",
     "text": [
      "Epoch 1/50: 100%|██████████| 1250/1250 [00:05<00:00, 246.95batch/s, loss_1=26, loss_2=25.8]  \n",
      "Epoch 2/50: 100%|██████████| 1250/1250 [00:05<00:00, 233.83batch/s, loss_1=16.2, loss_2=16]  \n",
      "Epoch 3/50: 100%|██████████| 1250/1250 [00:06<00:00, 193.89batch/s, loss_1=10.6, loss_2=10.3]\n",
      "Epoch 4/50: 100%|██████████| 1250/1250 [00:05<00:00, 218.84batch/s, loss_1=5.81, loss_2=5.55]\n",
      "Epoch 5/50: 100%|██████████| 1250/1250 [00:05<00:00, 211.97batch/s, loss_1=4.74, loss_2=4.48]\n",
      "Epoch 6/50: 100%|██████████| 1250/1250 [00:08<00:00, 155.45batch/s, loss_1=3.35, loss_2=3.09]\n",
      "Epoch 7/50: 100%|██████████| 1250/1250 [00:05<00:00, 218.16batch/s, loss_1=4.11, loss_2=3.84]\n",
      "Epoch 8/50: 100%|██████████| 1250/1250 [00:06<00:00, 207.07batch/s, loss_1=4.5, loss_2=4.23] \n",
      "Epoch 9/50: 100%|██████████| 1250/1250 [00:05<00:00, 225.49batch/s, loss_1=3.77, loss_2=3.5] \n",
      "Epoch 10/50: 100%|██████████| 1250/1250 [00:05<00:00, 210.48batch/s, loss_1=3.4, loss_2=3.13] \n",
      "Epoch 11/50: 100%|██████████| 1250/1250 [00:05<00:00, 209.87batch/s, loss_1=3.37, loss_2=3.1] \n",
      "Epoch 12/50: 100%|██████████| 1250/1250 [00:05<00:00, 223.67batch/s, loss_1=2.7, loss_2=2.43] \n",
      "Epoch 13/50: 100%|██████████| 1250/1250 [00:06<00:00, 207.59batch/s, loss_1=3.08, loss_2=2.81]\n",
      "Epoch 14/50: 100%|██████████| 1250/1250 [00:06<00:00, 195.13batch/s, loss_1=3.85, loss_2=3.58]\n",
      "Epoch 15/50: 100%|██████████| 1250/1250 [00:05<00:00, 245.25batch/s, loss_1=3.22, loss_2=2.95]\n",
      "Epoch 16/50: 100%|██████████| 1250/1250 [00:05<00:00, 220.19batch/s, loss_1=3.17, loss_2=2.9] \n",
      "Epoch 17/50: 100%|██████████| 1250/1250 [00:05<00:00, 224.32batch/s, loss_1=3.36, loss_2=3.09]\n",
      "Epoch 18/50: 100%|██████████| 1250/1250 [00:05<00:00, 218.65batch/s, loss_1=3.37, loss_2=3.1] \n",
      "Epoch 19/50: 100%|██████████| 1250/1250 [00:05<00:00, 226.39batch/s, loss_1=2.86, loss_2=2.59]\n",
      "Epoch 20/50: 100%|██████████| 1250/1250 [00:05<00:00, 226.91batch/s, loss_1=3.22, loss_2=2.95]\n",
      "Epoch 21/50: 100%|██████████| 1250/1250 [00:05<00:00, 233.69batch/s, loss_1=3, loss_2=2.73]   \n",
      "Epoch 22/50: 100%|██████████| 1250/1250 [00:05<00:00, 226.72batch/s, loss_1=3.32, loss_2=3.05]\n",
      "Epoch 23/50: 100%|██████████| 1250/1250 [00:05<00:00, 216.48batch/s, loss_1=3.38, loss_2=3.11]\n",
      "Epoch 24/50: 100%|██████████| 1250/1250 [00:05<00:00, 240.60batch/s, loss_1=2.46, loss_2=2.19]\n",
      "Epoch 25/50: 100%|██████████| 1250/1250 [00:05<00:00, 228.54batch/s, loss_1=2.85, loss_2=2.58]\n",
      "Epoch 26/50: 100%|██████████| 1250/1250 [00:06<00:00, 196.57batch/s, loss_1=3.63, loss_2=3.36]\n",
      "Epoch 27/50: 100%|██████████| 1250/1250 [00:07<00:00, 161.60batch/s, loss_1=2.78, loss_2=2.51]\n",
      "Epoch 28/50: 100%|██████████| 1250/1250 [00:06<00:00, 198.90batch/s, loss_1=2.69, loss_2=2.42]\n",
      "Epoch 29/50: 100%|██████████| 1250/1250 [00:05<00:00, 212.32batch/s, loss_1=2.86, loss_2=2.59]\n",
      "Epoch 30/50: 100%|██████████| 1250/1250 [00:05<00:00, 216.53batch/s, loss_1=2.86, loss_2=2.59]\n",
      "Epoch 31/50: 100%|██████████| 1250/1250 [00:05<00:00, 216.65batch/s, loss_1=2.75, loss_2=2.48]\n",
      "Epoch 32/50: 100%|██████████| 1250/1250 [00:06<00:00, 197.27batch/s, loss_1=3.12, loss_2=2.85]\n",
      "Epoch 33/50: 100%|██████████| 1250/1250 [00:07<00:00, 175.35batch/s, loss_1=2.82, loss_2=2.55]\n",
      "Epoch 34/50: 100%|██████████| 1250/1250 [00:07<00:00, 172.05batch/s, loss_1=2.54, loss_2=2.27]\n",
      "Epoch 35/50: 100%|██████████| 1250/1250 [00:07<00:00, 172.65batch/s, loss_1=2.4, loss_2=2.13] \n",
      "Epoch 36/50: 100%|██████████| 1250/1250 [00:07<00:00, 169.85batch/s, loss_1=2.72, loss_2=2.45]\n",
      "Epoch 37/50: 100%|██████████| 1250/1250 [00:05<00:00, 210.00batch/s, loss_1=2.55, loss_2=2.28]\n",
      "Epoch 38/50: 100%|██████████| 1250/1250 [00:06<00:00, 194.68batch/s, loss_1=2.72, loss_2=2.45]\n",
      "Epoch 39/50: 100%|██████████| 1250/1250 [00:05<00:00, 243.11batch/s, loss_1=3.01, loss_2=2.74]\n",
      "Epoch 40/50: 100%|██████████| 1250/1250 [00:05<00:00, 209.91batch/s, loss_1=2.62, loss_2=2.35]\n",
      "Epoch 41/50: 100%|██████████| 1250/1250 [00:05<00:00, 212.63batch/s, loss_1=2.7, loss_2=2.43] \n",
      "Epoch 42/50: 100%|██████████| 1250/1250 [00:05<00:00, 209.16batch/s, loss_1=2.56, loss_2=2.29]\n",
      "Epoch 43/50: 100%|██████████| 1250/1250 [00:05<00:00, 209.62batch/s, loss_1=2.45, loss_2=2.18]\n",
      "Epoch 44/50: 100%|██████████| 1250/1250 [00:05<00:00, 209.36batch/s, loss_1=2.61, loss_2=2.34]\n",
      "Epoch 45/50: 100%|██████████| 1250/1250 [00:07<00:00, 165.18batch/s, loss_1=2.63, loss_2=2.36]\n",
      "Epoch 46/50: 100%|██████████| 1250/1250 [00:07<00:00, 170.91batch/s, loss_1=2.55, loss_2=2.28]\n",
      "Epoch 47/50: 100%|██████████| 1250/1250 [00:06<00:00, 185.57batch/s, loss_1=2.51, loss_2=2.24]\n",
      "Epoch 48/50: 100%|██████████| 1250/1250 [00:07<00:00, 177.73batch/s, loss_1=2.99, loss_2=2.72]\n",
      "Epoch 49/50: 100%|██████████| 1250/1250 [00:06<00:00, 196.81batch/s, loss_1=2.75, loss_2=2.48]\n",
      "Epoch 50/50: 100%|██████████| 1250/1250 [00:06<00:00, 206.04batch/s, loss_1=2.93, loss_2=2.66]\n"
     ]
    },
    {
     "name": "stdout",
     "output_type": "stream",
     "text": [
      "====================================Finish training====================================\n",
      "\n"
     ]
    }
   ],
   "source": [
    "(\n",
    "    Loss_1_Training_History,\n",
    "    Loss_1_Validation_History,\n",
    "    Loss_2_Training_History,\n",
    "    Loss_2_Validation_History,\n",
    ") = TRAIN_WITH_PROGRESS_BAR(\n",
    "    MODEL=Net,\n",
    "    NUM_EPOCHS=num_epochs,\n",
    "    OPTIMIZER=optimizer,\n",
    "    TRAIN_LOADER=TrainingLoader,\n",
    "    VALIDATION_LOADER=ValidationLoader,\n",
    "    LOSS_TUPLE=[\n",
    "        nn.MSELoss(),\n",
    "        lambda y1, y2: LinearMappingSparityLoss(Net, y1, y2),\n",
    "    ],\n",
    "    LOSS_WEIGHTS=loss_weights,\n",
    "    DEVICE=0,\n",
    "    GRAD_MAX=grad_max,\n",
    "    LOSS_SWITCH_VALUE=loss_switch_value,\n",
    "    FREEZE_EPOCH=freeze_epoch,\n",
    "    FREEZE_LAYER=Net.LinearMapping,\n",
    ")"
   ]
  },
  {
   "cell_type": "markdown",
   "metadata": {},
   "source": [
    "Visualization."
   ]
  },
  {
   "cell_type": "code",
   "execution_count": 27,
   "metadata": {},
   "outputs": [
    {
     "data": {
      "image/png": "[encoded data removed]",
      "text/plain": [
       "<Figure size 640x480 with 2 Axes>"
      ]
     },
     "metadata": {},
     "output_type": "display_data"
    }
   ],
   "source": [
    "import matplotlib.pyplot as plt\n",
    "import numpy as np\n",
    "\n",
    "plt.rcParams[\"text.usetex\"] = True\n",
    "\n",
    "fig, ax = plt.subplots(2, 1)\n",
    "ax[0].plot(\n",
    "    np.arange(0, len(Loss_1_Training_History)),\n",
    "    Loss_1_Training_History,\n",
    "    label=\"Training Loss\",\n",
    ")\n",
    "ax[0].plot(\n",
    "    np.arange(0, len(Loss_1_Validation_History)),\n",
    "    Loss_1_Validation_History,\n",
    "    label=\"Validation Loss\",\n",
    ")\n",
    "ax[0].scatter(\n",
    "    [freeze_epoch, freeze_epoch],\n",
    "    [\n",
    "        Loss_1_Training_History[freeze_epoch],\n",
    "        Loss_1_Validation_History[freeze_epoch],\n",
    "    ],\n",
    "    label=\"Freeze Epoch\",\n",
    "    color=\"black\",\n",
    "    marker=\"x\",\n",
    ")\n",
    "ax[0].set_title(\"Loss with Sparsity\")\n",
    "ax[0].set_xlabel(\"Epoch\")\n",
    "ax[0].set_ylabel(\"Loss\")\n",
    "ax[0].set_yscale(\"log\")\n",
    "ax[0].legend()\n",
    "ax[0].grid()\n",
    "\n",
    "ax[1].plot(\n",
    "    np.arange(0, len(Loss_2_Training_History)),\n",
    "    Loss_2_Training_History,\n",
    "    label=\"Training Loss\",\n",
    ")\n",
    "ax[1].plot(\n",
    "    np.arange(0, len(Loss_2_Validation_History)),\n",
    "    Loss_2_Validation_History,\n",
    "    label=\"Validation Loss\",\n",
    ")\n",
    "ax[1].scatter(\n",
    "    [freeze_epoch, freeze_epoch],\n",
    "    [\n",
    "        Loss_2_Training_History[freeze_epoch],\n",
    "        Loss_2_Validation_History[freeze_epoch],\n",
    "    ],\n",
    "    label=\"Freeze Epoch\",\n",
    "    color=\"black\",\n",
    "    marker=\"x\",\n",
    ")\n",
    "ax[1].set_title(\"Loss without Sparsity\")\n",
    "ax[1].set_xlabel(\"Epoch\")\n",
    "ax[1].set_ylabel(\"Loss\")\n",
    "ax[1].set_yscale(\"log\")\n",
    "ax[1].legend()\n",
    "ax[1].grid()\n",
    "\n",
    "plt.tight_layout()\n",
    "plt.show()"
   ]
  },
  {
   "cell_type": "markdown",
   "metadata": {},
   "source": [
    "Final loss."
   ]
  },
  {
   "cell_type": "code",
   "execution_count": 28,
   "metadata": {},
   "outputs": [
    {
     "data": {
      "text/plain": [
       "tensor(2.4895)"
      ]
     },
     "execution_count": 28,
     "metadata": {},
     "output_type": "execute_result"
    }
   ],
   "source": [
    "Loss_2_Validation_History[-1]"
   ]
  },
  {
   "cell_type": "markdown",
   "metadata": {},
   "source": [
    "Linear Mapping Matrix Visualization."
   ]
  },
  {
   "cell_type": "code",
   "execution_count": 29,
   "metadata": {},
   "outputs": [
    {
     "data": {
      "image/png": "[encoded data removed]",
      "text/plain": [
       "<Figure size 640x480 with 2 Axes>"
      ]
     },
     "metadata": {},
     "output_type": "display_data"
    }
   ],
   "source": [
    "plt.pcolor(Net.LinearMapping.weight.detach().to(\"cpu\").numpy(), cmap=\"gist_heat\")\n",
    "plt.colorbar()\n",
    "plt.gca().invert_yaxis()\n",
    "plt.title(\"Linear Mapping Matrix\", fontsize=20)\n",
    "plt.show()"
   ]
  },
  {
   "cell_type": "markdown",
   "metadata": {},
   "source": [
    "Linear Layer Weight Visualization."
   ]
  },
  {
   "cell_type": "code",
   "execution_count": 30,
   "metadata": {},
   "outputs": [
    {
     "data": {
      "image/png": "[encoded data removed]",
      "text/plain": [
       "<Figure size 640x480 with 8 Axes>"
      ]
     },
     "metadata": {},
     "output_type": "display_data"
    }
   ],
   "source": [
    "fig, ax = plt.subplots(2, 2)\n",
    "Layer_1_Visualization = ax[0, 0].pcolor(\n",
    "    Net.layer_1.weight.detach().to(\"cpu\").numpy(), cmap=\"gist_heat\"\n",
    ")\n",
    "ax[0, 0].invert_yaxis()\n",
    "ax[0, 0].set_title(\"Layer 1\")\n",
    "ax[0, 0].set_xticks([2, 5, 7])\n",
    "ax[0, 0].set_xticklabels([r\"$r_i$\", r\"$v_i v_j$\", r\"$a_i$\"])\n",
    "fig.colorbar(Layer_1_Visualization)\n",
    "\n",
    "Layer_2_Visualization = ax[0, 1].pcolor(\n",
    "    Net.layer_2.weight.detach().to(\"cpu\").numpy(), cmap=\"gist_heat\"\n",
    ")\n",
    "ax[0, 1].invert_yaxis()\n",
    "ax[0, 1].set_title(\"Layer 2\")\n",
    "fig.colorbar(Layer_2_Visualization)\n",
    "\n",
    "Layer_3_Visualization = ax[1, 0].pcolor(\n",
    "    Net.layer_3.weight.detach().to(\"cpu\").numpy(), cmap=\"gist_heat\"\n",
    ")\n",
    "ax[1, 0].invert_yaxis()\n",
    "ax[1, 0].set_title(\"Layer 3\")\n",
    "fig.colorbar(Layer_3_Visualization)\n",
    "\n",
    "Layer_4_Visualization = ax[1, 1].pcolor(\n",
    "    Net.layer_4.weight.detach().to(\"cpu\").numpy(), cmap=\"gist_heat\"\n",
    ")\n",
    "ax[1, 1].invert_yaxis()\n",
    "ax[1, 1].set_title(\"Layer 4\")\n",
    "fig.colorbar(Layer_4_Visualization)\n",
    "\n",
    "plt.tight_layout()\n",
    "plt.show()"
   ]
  }
 ],
 "metadata": {
  "kernelspec": {
   "display_name": "KAN",
   "language": "python",
   "name": "python3"
  },
  "language_info": {
   "codemirror_mode": {
    "name": "ipython",
    "version": 3
   },
   "file_extension": ".py",
   "mimetype": "text/x-python",
   "name": "python",
   "nbconvert_exporter": "python",
   "pygments_lexer": "ipython3",
   "version": "3.10.15"
  }
 },
 "nbformat": 4,
 "nbformat_minor": 2
}
