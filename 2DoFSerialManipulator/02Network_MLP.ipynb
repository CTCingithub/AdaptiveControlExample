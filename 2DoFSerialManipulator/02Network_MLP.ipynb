{
 "cells": [
  {
   "cell_type": "markdown",
   "metadata": {},
   "source": [
    "# MLP Network\n"
   ]
  },
  {
   "cell_type": "markdown",
   "metadata": {},
   "source": [
    "## 1. Pretreatment\n"
   ]
  },
  {
   "cell_type": "markdown",
   "metadata": {},
   "source": [
    "Read data from `.mat` files."
   ]
  },
  {
   "cell_type": "code",
   "execution_count": 1,
   "metadata": {},
   "outputs": [],
   "source": [
    "import scipy as sp\n",
    "import torch\n",
    "import torch.nn as nn\n",
    "from torchinfo import summary\n",
    "\n",
    "torch.set_default_dtype(torch.float64)\n",
    "Input = sp.io.loadmat(\"Data/KinematicsData.mat\")\n",
    "Input = torch.from_numpy(Input[\"KinematicsData\"])\n",
    "Output = sp.io.loadmat(\"Data/DynRegVecData.mat\")\n",
    "Output = torch.from_numpy(Output[\"DynRegData\"])"
   ]
  },
  {
   "cell_type": "markdown",
   "metadata": {},
   "source": [
    "Size of input and output data."
   ]
  },
  {
   "cell_type": "code",
   "execution_count": 2,
   "metadata": {},
   "outputs": [
    {
     "data": {
      "text/plain": [
       "(torch.Size([50000, 6]), torch.Size([50000, 14]))"
      ]
     },
     "execution_count": 2,
     "metadata": {},
     "output_type": "execute_result"
    }
   ],
   "source": [
    "Input.shape, Output.shape"
   ]
  },
  {
   "cell_type": "markdown",
   "metadata": {},
   "source": [
    "import `utils` module."
   ]
  },
  {
   "cell_type": "code",
   "execution_count": 3,
   "metadata": {},
   "outputs": [],
   "source": [
    "import sys\n",
    "\n",
    "sys.path.append(\"..\")\n",
    "from utils import *"
   ]
  },
  {
   "cell_type": "markdown",
   "metadata": {},
   "source": [
    "Create **Training** and **Validation** datasets."
   ]
  },
  {
   "cell_type": "code",
   "execution_count": 4,
   "metadata": {},
   "outputs": [],
   "source": [
    "TrainingLoader, ValidationLoader = Split2Loaders(\n",
    "    Input, Output, BATCHSIZE=32, RATIO=0.8, SHUFFLE=True\n",
    ")"
   ]
  },
  {
   "cell_type": "markdown",
   "metadata": {},
   "source": [
    "## 2. Training\n"
   ]
  },
  {
   "cell_type": "markdown",
   "metadata": {},
   "source": [
    "Define MLP network structure."
   ]
  },
  {
   "cell_type": "code",
   "execution_count": 5,
   "metadata": {},
   "outputs": [],
   "source": [
    "class DynReg_MLP(nn.Module):\n",
    "    def __init__(self, input_size, output_size, hidden_size=None, embedding_size=8):\n",
    "        if hidden_size is None:\n",
    "            hidden_size = [16, 32, 16]\n",
    "        super().__init__()\n",
    "        self.layer_1 = nn.Linear(input_size, hidden_size[0])\n",
    "        self.layer_2 = nn.Linear(hidden_size[0], hidden_size[1])\n",
    "        self.layer_3 = nn.Linear(hidden_size[1], hidden_size[2])\n",
    "        self.layer_4 = nn.Linear(hidden_size[2], embedding_size)\n",
    "        self.LinearMapping = nn.Linear(embedding_size, output_size, bias=False)\n",
    "\n",
    "    def forward(self, x):\n",
    "        Output = x\n",
    "        Output = self.layer_1(Output)\n",
    "        Output = torch.relu(Output)\n",
    "        Output = self.layer_2(Output)\n",
    "        Output = torch.relu(Output)\n",
    "        Output = self.layer_3(Output)\n",
    "        Output = torch.relu(Output)\n",
    "        Output = self.layer_4(Output)\n",
    "        Output = torch.relu(Output)\n",
    "        return self.LinearMapping(Output)"
   ]
  },
  {
   "cell_type": "markdown",
   "metadata": {},
   "source": [
    "Define network."
   ]
  },
  {
   "cell_type": "code",
   "execution_count": 6,
   "metadata": {},
   "outputs": [
    {
     "data": {
      "text/plain": [
       "=================================================================\n",
       "Layer (type:depth-idx)                   Param #\n",
       "=================================================================\n",
       "DynReg_MLP                               --\n",
       "├─Linear: 1-1                            112\n",
       "├─Linear: 1-2                            544\n",
       "├─Linear: 1-3                            528\n",
       "├─Linear: 1-4                            136\n",
       "├─Linear: 1-5                            112\n",
       "=================================================================\n",
       "Total params: 1,432\n",
       "Trainable params: 1,432\n",
       "Non-trainable params: 0\n",
       "================================================================="
      ]
     },
     "execution_count": 6,
     "metadata": {},
     "output_type": "execute_result"
    }
   ],
   "source": [
    "Net = DynReg_MLP(\n",
    "    input_size=6, output_size=14, hidden_size=[16, 32, 16], embedding_size=8\n",
    ")\n",
    "summary(Net)"
   ]
  },
  {
   "cell_type": "markdown",
   "metadata": {},
   "source": [
    "Define loss function."
   ]
  },
  {
   "cell_type": "code",
   "execution_count": 7,
   "metadata": {},
   "outputs": [],
   "source": [
    "def LinearMappingSparityLoss(Network, OutputFromNet, OutputFromData):\n",
    "    return torch.abs(Network.LinearMapping.weight).sum()"
   ]
  },
  {
   "cell_type": "markdown",
   "metadata": {},
   "source": [
    "Define optimizer."
   ]
  },
  {
   "cell_type": "code",
   "execution_count": 8,
   "metadata": {},
   "outputs": [],
   "source": [
    "optimizer = torch.optim.Adam(Net.parameters(), lr=0.001, weight_decay=0)"
   ]
  },
  {
   "cell_type": "markdown",
   "metadata": {},
   "source": [
    "Initialize weight."
   ]
  },
  {
   "cell_type": "code",
   "execution_count": 9,
   "metadata": {},
   "outputs": [],
   "source": [
    "INIT_WEIGHTS_XAVIER(Net)"
   ]
  },
  {
   "cell_type": "markdown",
   "metadata": {},
   "source": [
    "Define training configuration."
   ]
  },
  {
   "cell_type": "code",
   "execution_count": 10,
   "metadata": {},
   "outputs": [],
   "source": [
    "num_epochs = 20\n",
    "loss_weights = [1, 1e-2]\n",
    "grad_max = 5\n",
    "loss_switch_value = 5\n",
    "freeze_epoch = 15\n"
   ]
  },
  {
   "cell_type": "markdown",
   "metadata": {},
   "source": [
    "Training network."
   ]
  },
  {
   "cell_type": "code",
   "execution_count": 11,
   "metadata": {},
   "outputs": [
    {
     "name": "stdout",
     "output_type": "stream",
     "text": [
      "PyTorch Version: 2.2.2\n",
      "Training on cuda:0\n",
      "====================================Start training====================================\n"
     ]
    },
    {
     "name": "stderr",
     "output_type": "stream",
     "text": [
      "Epoch 1/20: 100%|██████████| 1250/1250 [00:04<00:00, 262.64batch/s, loss_1=28.7, loss_2=28.5]\n",
      "Epoch 2/20: 100%|██████████| 1250/1250 [00:05<00:00, 240.82batch/s, loss_1=26.7, loss_2=26.5]\n",
      "Epoch 3/20: 100%|██████████| 1250/1250 [00:05<00:00, 239.76batch/s, loss_1=23.1, loss_2=22.9]\n",
      "Epoch 4/20: 100%|██████████| 1250/1250 [00:05<00:00, 231.26batch/s, loss_1=23.4, loss_2=23.3]\n",
      "Epoch 5/20: 100%|██████████| 1250/1250 [00:05<00:00, 223.78batch/s, loss_1=17.7, loss_2=17.5]\n",
      "Epoch 6/20: 100%|██████████| 1250/1250 [00:05<00:00, 226.66batch/s, loss_1=26, loss_2=25.8]  \n",
      "Epoch 7/20: 100%|██████████| 1250/1250 [00:05<00:00, 236.74batch/s, loss_1=16.6, loss_2=16.4]\n",
      "Epoch 8/20: 100%|██████████| 1250/1250 [00:05<00:00, 243.28batch/s, loss_1=16.4, loss_2=16.3]\n",
      "Epoch 9/20: 100%|██████████| 1250/1250 [00:05<00:00, 235.37batch/s, loss_1=15.3, loss_2=15.1]\n",
      "Epoch 10/20: 100%|██████████| 1250/1250 [00:05<00:00, 213.77batch/s, loss_1=8.94, loss_2=8.74]\n",
      "Epoch 11/20: 100%|██████████| 1250/1250 [00:05<00:00, 245.49batch/s, loss_1=4.13, loss_2=3.93]\n",
      "Epoch 12/20: 100%|██████████| 1250/1250 [00:06<00:00, 193.91batch/s, loss_1=4.06, loss_2=3.85]\n",
      "Epoch 13/20: 100%|██████████| 1250/1250 [00:05<00:00, 231.05batch/s, loss_1=3.34, loss_2=3.13]\n",
      "Epoch 14/20: 100%|██████████| 1250/1250 [00:05<00:00, 214.32batch/s, loss_1=3.26, loss_2=3.05]\n",
      "Epoch 15/20: 100%|██████████| 1250/1250 [00:06<00:00, 200.14batch/s, loss_1=3.79, loss_2=3.57]\n",
      "Epoch 16/20: 100%|██████████| 1250/1250 [00:05<00:00, 248.90batch/s, loss_1=3.32, loss_2=3.1] \n",
      "Epoch 17/20: 100%|██████████| 1250/1250 [00:05<00:00, 227.04batch/s, loss_1=3.15, loss_2=2.94]\n",
      "Epoch 18/20: 100%|██████████| 1250/1250 [00:05<00:00, 215.70batch/s, loss_1=3.66, loss_2=3.45]\n",
      "Epoch 19/20: 100%|██████████| 1250/1250 [00:06<00:00, 201.25batch/s, loss_1=2.87, loss_2=2.65]\n",
      "Epoch 20/20: 100%|██████████| 1250/1250 [00:05<00:00, 249.24batch/s, loss_1=2.98, loss_2=2.76]\n"
     ]
    },
    {
     "name": "stdout",
     "output_type": "stream",
     "text": [
      "====================================Finish training====================================\n",
      "\n"
     ]
    }
   ],
   "source": [
    "(\n",
    "    Loss_1_Training_History,\n",
    "    Loss_1_Validation_History,\n",
    "    Loss_2_Training_History,\n",
    "    Loss_2_Validation_History,\n",
    ") = TRAIN_WITH_PROGRESS_BAR(\n",
    "    MODEL=Net,\n",
    "    NUM_EPOCHS=num_epochs,\n",
    "    OPTIMIZER=optimizer,\n",
    "    TRAIN_LOADER=TrainingLoader,\n",
    "    VALIDATION_LOADER=ValidationLoader,\n",
    "    LOSS_TUPLE=[\n",
    "        nn.MSELoss(),\n",
    "        lambda y1, y2: LinearMappingSparityLoss(Net, y1, y2),\n",
    "    ],\n",
    "    LOSS_WEIGHTS=loss_weights,\n",
    "    DEVICE=0,\n",
    "    GRAD_MAX=grad_max,\n",
    "    LOSS_SWITCH_VALUE=loss_switch_value,\n",
    "    FREEZE_EPOCH=freeze_epoch,\n",
    "    FREEZE_LAYER=Net.LinearMapping,\n",
    ")"
   ]
  },
  {
   "cell_type": "markdown",
   "metadata": {},
   "source": [
    "Visualization."
   ]
  },
  {
   "cell_type": "code",
   "execution_count": 12,
   "metadata": {},
   "outputs": [
    {
     "data": {
      "image/png": "[encoded data removed]",
      "text/plain": [
       "<Figure size 640x480 with 2 Axes>"
      ]
     },
     "metadata": {},
     "output_type": "display_data"
    }
   ],
   "source": [
    "import matplotlib.pyplot as plt\n",
    "import numpy as np\n",
    "\n",
    "plt.rcParams[\"text.usetex\"] = True\n",
    "\n",
    "fig, ax = plt.subplots(2, 1)\n",
    "ax[0].plot(\n",
    "    np.arange(0, len(Loss_1_Training_History)),\n",
    "    Loss_1_Training_History,\n",
    "    label=\"Training Loss\",\n",
    ")\n",
    "ax[0].plot(\n",
    "    np.arange(0, len(Loss_1_Validation_History)),\n",
    "    Loss_1_Validation_History,\n",
    "    label=\"Validation Loss\",\n",
    ")\n",
    "ax[0].scatter(\n",
    "    [freeze_epoch, freeze_epoch],\n",
    "    [\n",
    "        Loss_1_Training_History[freeze_epoch],\n",
    "        Loss_1_Validation_History[freeze_epoch],\n",
    "    ],\n",
    "    label=\"Freeze Epoch\",\n",
    "    color=\"black\",\n",
    "    marker=\"x\",\n",
    ")\n",
    "ax[0].set_title(\"Loss with Sparsity\")\n",
    "ax[0].set_xlabel(\"Epoch\")\n",
    "ax[0].set_ylabel(\"Loss\")\n",
    "ax[0].set_yscale(\"log\")\n",
    "ax[0].legend()\n",
    "ax[0].grid()\n",
    "\n",
    "ax[1].plot(\n",
    "    np.arange(0, len(Loss_2_Training_History)),\n",
    "    Loss_2_Training_History,\n",
    "    label=\"Training Loss\",\n",
    ")\n",
    "ax[1].plot(\n",
    "    np.arange(0, len(Loss_2_Validation_History)),\n",
    "    Loss_2_Validation_History,\n",
    "    label=\"Validation Loss\",\n",
    ")\n",
    "ax[1].scatter(\n",
    "    [freeze_epoch, freeze_epoch],\n",
    "    [\n",
    "        Loss_2_Training_History[freeze_epoch],\n",
    "        Loss_2_Validation_History[freeze_epoch],\n",
    "    ],\n",
    "    label=\"Freeze Epoch\",\n",
    "    color=\"black\",\n",
    "    marker=\"x\",\n",
    ")\n",
    "ax[1].set_title(\"Loss without Sparsity\")\n",
    "ax[1].set_xlabel(\"Epoch\")\n",
    "ax[1].set_ylabel(\"Loss\")\n",
    "ax[1].set_yscale(\"log\")\n",
    "ax[1].legend()\n",
    "ax[1].grid()\n",
    "\n",
    "plt.tight_layout()\n",
    "plt.show()"
   ]
  },
  {
   "cell_type": "markdown",
   "metadata": {},
   "source": [
    "Final loss."
   ]
  },
  {
   "cell_type": "code",
   "execution_count": 13,
   "metadata": {},
   "outputs": [
    {
     "data": {
      "text/plain": [
       "tensor(3.2229)"
      ]
     },
     "execution_count": 13,
     "metadata": {},
     "output_type": "execute_result"
    }
   ],
   "source": [
    "Loss_2_Validation_History[-1]"
   ]
  },
  {
   "cell_type": "markdown",
   "metadata": {},
   "source": [
    "Linear Mapping Matrix Visualization."
   ]
  },
  {
   "cell_type": "code",
   "execution_count": 14,
   "metadata": {},
   "outputs": [
    {
     "data": {
      "image/png": "[encoded data removed]",
      "text/plain": [
       "<Figure size 640x480 with 2 Axes>"
      ]
     },
     "metadata": {},
     "output_type": "display_data"
    }
   ],
   "source": [
    "plt.pcolor(Net.LinearMapping.weight.detach().to(\"cpu\").numpy(), cmap=\"gist_heat\")\n",
    "plt.colorbar()\n",
    "plt.gca().invert_yaxis()\n",
    "plt.title(\"Linear Mapping Matrix\", fontsize=20)\n",
    "plt.show()"
   ]
  },
  {
   "cell_type": "markdown",
   "metadata": {},
   "source": [
    "Linear Layer Weight Visualization."
   ]
  },
  {
   "cell_type": "code",
   "execution_count": 15,
   "metadata": {},
   "outputs": [
    {
     "data": {
      "image/png": "[encoded data removed]",
      "text/plain": [
       "<Figure size 640x480 with 8 Axes>"
      ]
     },
     "metadata": {},
     "output_type": "display_data"
    }
   ],
   "source": [
    "fig, ax = plt.subplots(2, 2)\n",
    "Layer_1_Visualization = ax[0, 0].pcolor(\n",
    "    Net.layer_1.weight.detach().to(\"cpu\").numpy(), cmap=\"gist_heat\"\n",
    ")\n",
    "ax[0, 0].invert_yaxis()\n",
    "ax[0, 0].set_title(\"Layer 1\")\n",
    "ax[0, 0].set_xticks([2, 4, 6])\n",
    "ax[0, 0].set_xticklabels([r\"$r_i$\", r\"$v_i$\", r\"$a_i$\"])\n",
    "fig.colorbar(Layer_1_Visualization)\n",
    "\n",
    "Layer_2_Visualization = ax[0, 1].pcolor(\n",
    "    Net.layer_2.weight.detach().to(\"cpu\").numpy(), cmap=\"gist_heat\"\n",
    ")\n",
    "ax[0, 1].invert_yaxis()\n",
    "ax[0, 1].set_title(\"Layer 2\")\n",
    "fig.colorbar(Layer_2_Visualization)\n",
    "\n",
    "Layer_3_Visualization = ax[1, 0].pcolor(\n",
    "    Net.layer_3.weight.detach().to(\"cpu\").numpy(), cmap=\"gist_heat\"\n",
    ")\n",
    "ax[1, 0].invert_yaxis()\n",
    "ax[1, 0].set_title(\"Layer 3\")\n",
    "fig.colorbar(Layer_3_Visualization)\n",
    "\n",
    "Layer_4_Visualization = ax[1, 1].pcolor(\n",
    "    Net.layer_4.weight.detach().to(\"cpu\").numpy(), cmap=\"gist_heat\"\n",
    ")\n",
    "ax[1, 1].invert_yaxis()\n",
    "ax[1, 1].set_title(\"Layer 4\")\n",
    "fig.colorbar(Layer_4_Visualization)\n",
    "\n",
    "plt.tight_layout()\n",
    "plt.show()"
   ]
  }
 ],
 "metadata": {
  "kernelspec": {
   "display_name": "KAN",
   "language": "python",
   "name": "python3"
  },
  "language_info": {
   "codemirror_mode": {
    "name": "ipython",
    "version": 3
   },
   "file_extension": ".py",
   "mimetype": "text/x-python",
   "name": "python",
   "nbconvert_exporter": "python",
   "pygments_lexer": "ipython3",
   "version": "3.10.15"
  }
 },
 "nbformat": 4,
 "nbformat_minor": 2
}
