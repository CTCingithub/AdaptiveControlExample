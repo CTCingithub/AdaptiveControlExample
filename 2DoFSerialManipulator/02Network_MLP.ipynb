{
 "cells": [
  {
   "cell_type": "markdown",
   "metadata": {},
   "source": [
    "# MLP Network\n"
   ]
  },
  {
   "cell_type": "markdown",
   "metadata": {},
   "source": [
    "## 1. Pretreatment\n"
   ]
  },
  {
   "cell_type": "markdown",
   "metadata": {},
   "source": [
    "Read data from `.mat` files."
   ]
  },
  {
   "cell_type": "code",
   "execution_count": 1,
   "metadata": {},
   "outputs": [],
   "source": [
    "import scipy as sp\n",
    "import torch\n",
    "import torch.nn as nn\n",
    "from torchinfo import summary\n",
    "\n",
    "torch.set_default_dtype(torch.float64)\n",
    "torch.manual_seed(42)\n",
    "Input = sp.io.loadmat(\"Data/KinematicsData.mat\")\n",
    "Input = torch.from_numpy(Input[\"KinematicsData\"])\n",
    "Output = sp.io.loadmat(\"Data/DynRegVecData.mat\")\n",
    "Output = torch.from_numpy(Output[\"DynRegData\"])"
   ]
  },
  {
   "cell_type": "markdown",
   "metadata": {},
   "source": [
    "Size of input and output data."
   ]
  },
  {
   "cell_type": "code",
   "execution_count": 2,
   "metadata": {},
   "outputs": [
    {
     "data": {
      "text/plain": [
       "(torch.Size([50000, 6]), torch.Size([50000, 14]))"
      ]
     },
     "execution_count": 2,
     "metadata": {},
     "output_type": "execute_result"
    }
   ],
   "source": [
    "Input.shape, Output.shape"
   ]
  },
  {
   "cell_type": "markdown",
   "metadata": {},
   "source": [
    "import `utils` module."
   ]
  },
  {
   "cell_type": "code",
   "execution_count": 3,
   "metadata": {},
   "outputs": [],
   "source": [
    "import sys\n",
    "\n",
    "sys.path.append(\"..\")\n",
    "from utils import *"
   ]
  },
  {
   "cell_type": "markdown",
   "metadata": {},
   "source": [
    "Create **Training** and **Validation** datasets."
   ]
  },
  {
   "cell_type": "code",
   "execution_count": 4,
   "metadata": {},
   "outputs": [],
   "source": [
    "TrainingLoader, ValidationLoader = Split2Loaders(\n",
    "    Input, Output, BATCHSIZE=32, RATIO=[8, 2], SHUFFLE=True\n",
    ")"
   ]
  },
  {
   "cell_type": "markdown",
   "metadata": {},
   "source": [
    "## 2. Training\n"
   ]
  },
  {
   "cell_type": "markdown",
   "metadata": {},
   "source": [
    "Define MLP network structure."
   ]
  },
  {
   "cell_type": "code",
   "execution_count": 5,
   "metadata": {},
   "outputs": [],
   "source": [
    "class DynReg_MLP(nn.Module):\n",
    "    def __init__(self, input_size, output_size, hidden_size=None):\n",
    "        if hidden_size is None:\n",
    "            hidden_size = [16, 32, 16]\n",
    "        super().__init__()\n",
    "\n",
    "        # 创建一个线性层的列表\n",
    "        self.layers = nn.ModuleList()\n",
    "\n",
    "        self.LinearLayerStruct = [input_size] + hidden_size + [output_size]\n",
    "\n",
    "        for i in range(len(self.LinearLayerStruct) - 1):\n",
    "            self.layers.append(\n",
    "                nn.Linear(self.LinearLayerStruct[i], self.LinearLayerStruct[i + 1])\n",
    "            )\n",
    "\n",
    "    def forward(self, x):\n",
    "        Output = x\n",
    "        for layer in self.layers:\n",
    "            Output = layer(Output)\n",
    "            if layer != self.layers[-1]:\n",
    "                Output = torch.relu(Output)\n",
    "        return Output"
   ]
  },
  {
   "cell_type": "markdown",
   "metadata": {},
   "source": [
    "Define network."
   ]
  },
  {
   "cell_type": "code",
   "execution_count": 6,
   "metadata": {},
   "outputs": [
    {
     "data": {
      "text/plain": [
       "=====================================================================================\n",
       "Layer (type:depth-idx)                   Input Shape     Output Shape    Param #\n",
       "=====================================================================================\n",
       "DynReg_MLP                               [1, 6]          [1, 14]         --\n",
       "├─ModuleList: 1-1                        --              --              --\n",
       "│    └─Linear: 2-1                       [1, 6]          [1, 32]         224\n",
       "│    └─Linear: 2-2                       [1, 32]         [1, 32]         1,056\n",
       "│    └─Linear: 2-3                       [1, 32]         [1, 32]         1,056\n",
       "│    └─Linear: 2-4                       [1, 32]         [1, 14]         462\n",
       "=====================================================================================\n",
       "Total params: 2,798\n",
       "Trainable params: 2,798\n",
       "Non-trainable params: 0\n",
       "Total mult-adds (M): 0.00\n",
       "=====================================================================================\n",
       "Input size (MB): 0.00\n",
       "Forward/backward pass size (MB): 0.00\n",
       "Params size (MB): 0.02\n",
       "Estimated Total Size (MB): 0.02\n",
       "====================================================================================="
      ]
     },
     "execution_count": 6,
     "metadata": {},
     "output_type": "execute_result"
    }
   ],
   "source": [
    "Net = DynReg_MLP(\n",
    "    input_size=Input.shape[1], output_size=Output.shape[1], hidden_size=[32, 32, 32]\n",
    ")\n",
    "summary(\n",
    "    Net,\n",
    "    input_data=torch.zeros(1, Input.shape[1]),\n",
    "    device=GET_DEVICE(),\n",
    "    col_names=[\"input_size\", \"output_size\", \"num_params\"],\n",
    "    col_width=15,\n",
    ")"
   ]
  },
  {
   "cell_type": "markdown",
   "metadata": {},
   "source": [
    "Define optimizer."
   ]
  },
  {
   "cell_type": "code",
   "execution_count": 7,
   "metadata": {},
   "outputs": [],
   "source": [
    "optimizer = torch.optim.Adam(Net.parameters(), lr=0.001, weight_decay=0)"
   ]
  },
  {
   "cell_type": "markdown",
   "metadata": {},
   "source": [
    "Initialize weight."
   ]
  },
  {
   "cell_type": "code",
   "execution_count": 8,
   "metadata": {},
   "outputs": [],
   "source": [
    "INIT_WEIGHTS_XAVIER(Net)"
   ]
  },
  {
   "cell_type": "markdown",
   "metadata": {},
   "source": [
    "Define training configuration."
   ]
  },
  {
   "cell_type": "code",
   "execution_count": 9,
   "metadata": {},
   "outputs": [],
   "source": [
    "num_epochs = 30"
   ]
  },
  {
   "cell_type": "markdown",
   "metadata": {},
   "source": [
    "Training network."
   ]
  },
  {
   "cell_type": "code",
   "execution_count": 10,
   "metadata": {},
   "outputs": [
    {
     "name": "stdout",
     "output_type": "stream",
     "text": [
      "PyTorch Version: 2.2.2\n",
      "Training on cuda:0\n",
      "====================================Start training====================================\n"
     ]
    },
    {
     "name": "stderr",
     "output_type": "stream",
     "text": [
      "Epoch 1/30: 100%|██████████| 1250/1250 [00:03<00:00, 316.87batch/s, loss=18.9]\n",
      "Epoch 2/30: 100%|██████████| 1250/1250 [00:03<00:00, 342.84batch/s, loss=5.22]\n",
      "Epoch 3/30: 100%|██████████| 1250/1250 [00:03<00:00, 344.58batch/s, loss=2.89]\n",
      "Epoch 4/30: 100%|██████████| 1250/1250 [00:03<00:00, 347.46batch/s, loss=2.64]\n",
      "Epoch 5/30: 100%|██████████| 1250/1250 [00:03<00:00, 342.81batch/s, loss=2.12]\n",
      "Epoch 6/30: 100%|██████████| 1250/1250 [00:03<00:00, 314.54batch/s, loss=1.39] \n",
      "Epoch 7/30: 100%|██████████| 1250/1250 [00:03<00:00, 314.48batch/s, loss=1.27] \n",
      "Epoch 8/30: 100%|██████████| 1250/1250 [00:03<00:00, 320.98batch/s, loss=1.31] \n",
      "Epoch 9/30: 100%|██████████| 1250/1250 [00:03<00:00, 321.32batch/s, loss=1.1]  \n",
      "Epoch 10/30: 100%|██████████| 1250/1250 [00:03<00:00, 317.83batch/s, loss=1.1]  \n",
      "Epoch 11/30: 100%|██████████| 1250/1250 [00:03<00:00, 324.23batch/s, loss=2.04] \n",
      "Epoch 12/30: 100%|██████████| 1250/1250 [00:03<00:00, 320.04batch/s, loss=0.918]\n",
      "Epoch 13/30: 100%|██████████| 1250/1250 [00:03<00:00, 333.14batch/s, loss=1.11] \n",
      "Epoch 14/30: 100%|██████████| 1250/1250 [00:04<00:00, 306.77batch/s, loss=1.09] \n",
      "Epoch 15/30: 100%|██████████| 1250/1250 [00:04<00:00, 308.01batch/s, loss=1.25] \n",
      "Epoch 16/30: 100%|██████████| 1250/1250 [00:03<00:00, 313.25batch/s, loss=1.17] \n",
      "Epoch 17/30: 100%|██████████| 1250/1250 [00:04<00:00, 300.01batch/s, loss=0.766]\n",
      "Epoch 18/30: 100%|██████████| 1250/1250 [00:04<00:00, 308.48batch/s, loss=0.745]\n",
      "Epoch 19/30: 100%|██████████| 1250/1250 [00:04<00:00, 309.87batch/s, loss=0.676]\n",
      "Epoch 20/30: 100%|██████████| 1250/1250 [00:03<00:00, 328.20batch/s, loss=0.85] \n",
      "Epoch 21/30: 100%|██████████| 1250/1250 [00:03<00:00, 317.92batch/s, loss=0.719]\n",
      "Epoch 22/30: 100%|██████████| 1250/1250 [00:04<00:00, 307.63batch/s, loss=0.767]\n",
      "Epoch 23/30: 100%|██████████| 1250/1250 [00:03<00:00, 317.34batch/s, loss=0.795]\n",
      "Epoch 24/30: 100%|██████████| 1250/1250 [00:04<00:00, 309.07batch/s, loss=0.794]\n",
      "Epoch 25/30: 100%|██████████| 1250/1250 [00:03<00:00, 322.20batch/s, loss=1.1]  \n",
      "Epoch 26/30: 100%|██████████| 1250/1250 [00:03<00:00, 322.05batch/s, loss=0.925]\n",
      "Epoch 27/30: 100%|██████████| 1250/1250 [00:03<00:00, 327.68batch/s, loss=0.699]\n",
      "Epoch 28/30: 100%|██████████| 1250/1250 [00:03<00:00, 318.92batch/s, loss=0.727]\n",
      "Epoch 29/30: 100%|██████████| 1250/1250 [00:03<00:00, 324.84batch/s, loss=0.759]\n",
      "Epoch 30/30: 100%|██████████| 1250/1250 [00:03<00:00, 319.85batch/s, loss=0.675]\n"
     ]
    },
    {
     "name": "stdout",
     "output_type": "stream",
     "text": [
      "====================================Finish training====================================\n",
      "\n"
     ]
    }
   ],
   "source": [
    "(\n",
    "    Loss_Training_History,\n",
    "    Loss_Validation_History,\n",
    ") = TRAIN_WITH_PROGRESS_BAR_ONE_LOSS(\n",
    "    MODEL=Net,\n",
    "    NUM_EPOCHS=num_epochs,\n",
    "    OPTIMIZER=optimizer,\n",
    "    TRAIN_LOADER=TrainingLoader,\n",
    "    VALIDATION_LOADER=ValidationLoader,\n",
    "    LOSS_TYPE=nn.MSELoss(),\n",
    "    DEVICE=0,\n",
    ")"
   ]
  },
  {
   "cell_type": "markdown",
   "metadata": {},
   "source": [
    "Visualization."
   ]
  },
  {
   "cell_type": "code",
   "execution_count": 11,
   "metadata": {},
   "outputs": [
    {
     "data": {
      "image/png": "[encoded data removed]",
      "text/plain": [
       "<Figure size 640x480 with 1 Axes>"
      ]
     },
     "metadata": {},
     "output_type": "display_data"
    }
   ],
   "source": [
    "import matplotlib.pyplot as plt\n",
    "import numpy as np\n",
    "\n",
    "plt.rcParams[\"text.usetex\"] = True\n",
    "x_axis_segments = 10\n",
    "\n",
    "plt.plot(\n",
    "    np.arange(0, len(Loss_Training_History)),\n",
    "    Loss_Training_History,\n",
    "    label=\"Training Loss\",\n",
    ")\n",
    "plt.plot(\n",
    "    np.arange(0, len(Loss_Validation_History)),\n",
    "    Loss_Validation_History,\n",
    "    label=\"Validation Loss\",\n",
    ")\n",
    "plt.title(\"Loss - Epoch Diagram\")\n",
    "plt.xlabel(\"Epoch\")\n",
    "plt.ylabel(\"Loss\")\n",
    "plt.yscale(\"log\")\n",
    "plt.xticks(np.linspace(0, num_epochs, x_axis_segments + 1, dtype=int))\n",
    "plt.legend()\n",
    "plt.grid()\n",
    "\n",
    "plt.tight_layout()\n",
    "plt.show()"
   ]
  },
  {
   "cell_type": "markdown",
   "metadata": {},
   "source": [
    "Final loss."
   ]
  },
  {
   "cell_type": "code",
   "execution_count": 12,
   "metadata": {},
   "outputs": [
    {
     "data": {
      "text/plain": [
       "tensor(0.7701)"
      ]
     },
     "execution_count": 12,
     "metadata": {},
     "output_type": "execute_result"
    }
   ],
   "source": [
    "Loss_Validation_History[-1]"
   ]
  },
  {
   "cell_type": "markdown",
   "metadata": {},
   "source": [
    "Linear Layer Weight Visualization."
   ]
  },
  {
   "cell_type": "code",
   "execution_count": 13,
   "metadata": {},
   "outputs": [
    {
     "data": {
      "image/png": "[encoded data removed]",
      "text/plain": [
       "<Figure size 1300x300 with 8 Axes>"
      ]
     },
     "metadata": {},
     "output_type": "display_data"
    }
   ],
   "source": [
    "fig, ax = plt.subplots(\n",
    "    1, len(Net.layers), figsize=(3 * len(Net.layers) + 1, 3), dpi=100\n",
    ")\n",
    "\n",
    "for index, layer in enumerate(Net.layers):\n",
    "    CurrentPlot = ax[index].pcolor(\n",
    "        layer.weight.detach().to(\"cpu\").numpy(), cmap=\"gist_heat\"\n",
    "    )\n",
    "    ax[index].invert_yaxis()\n",
    "    ax[index].set_title(f\"Layer {str(index + 1)}\", fontsize=15)\n",
    "    plt.colorbar(CurrentPlot, ax=ax[index])\n",
    "    if index == 0:\n",
    "        ax[index].set_xticks([2, 4, 6])\n",
    "        ax[index].set_xticklabels([r\"$r_i$\", r\"$v_i$\", r\"$a_i$\"])\n",
    "plt.tight_layout()"
   ]
  }
 ],
 "metadata": {
  "kernelspec": {
   "display_name": "KAN",
   "language": "python",
   "name": "python3"
  },
  "language_info": {
   "codemirror_mode": {
    "name": "ipython",
    "version": 3
   },
   "file_extension": ".py",
   "mimetype": "text/x-python",
   "name": "python",
   "nbconvert_exporter": "python",
   "pygments_lexer": "ipython3",
   "version": "3.10.15"
  }
 },
 "nbformat": 4,
 "nbformat_minor": 2
}
