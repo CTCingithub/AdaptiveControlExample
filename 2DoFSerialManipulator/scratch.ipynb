{
 "cells": [
  {
   "cell_type": "markdown",
   "metadata": {},
   "source": [
    "# Dynamics of a 2-DoF Serial Manipulator\n"
   ]
  },
  {
   "cell_type": "markdown",
   "metadata": {},
   "source": [
    "Import libraries"
   ]
  },
  {
   "cell_type": "code",
   "execution_count": 1,
   "metadata": {},
   "outputs": [],
   "source": [
    "import sympy as p\n",
    "import numpy as np\n",
    "import sys\n",
    "\n",
    "# SYMBOLIC.py is in parent directory\n",
    "sys.path.append(\"..\")\n",
    "from SYMBOLIC import *"
   ]
  },
  {
   "cell_type": "markdown",
   "metadata": {},
   "source": [
    "## 1. Kinematics with PoE\n"
   ]
  },
  {
   "cell_type": "markdown",
   "metadata": {},
   "source": [
    "### 1.1 Definitions"
   ]
  },
  {
   "cell_type": "markdown",
   "metadata": {},
   "source": [
    "Define time $t$ and angles.\n"
   ]
  },
  {
   "cell_type": "code",
   "execution_count": 2,
   "metadata": {},
   "outputs": [],
   "source": [
    "t = p.Symbol(\"t\")\n",
    "\n",
    "# Differentialable Variables\n",
    "theta_1_t = p.Function(\"theta_1\")(t)\n",
    "theta_2_t = p.Function(\"theta_2\")(t)\n",
    "\n",
    "# Undifferentialable Variables\n",
    "theta_1, theta_2 = p.symbols(\"theta_1 theta_2\")\n",
    "\n",
    "# Parameters\n",
    "m1, m2, l1, l2, lc1, lc2, Jc1, Jc2, g = p.symbols(\n",
    "    \"m1 m2 l1 l2 lc1 lc2 Jc1 Jc2 g\")"
   ]
  },
  {
   "cell_type": "markdown",
   "metadata": {},
   "source": [
    "Define substitution functions from differentialable variables to undifferentialable variables."
   ]
  },
  {
   "cell_type": "code",
   "execution_count": 3,
   "metadata": {},
   "outputs": [],
   "source": [
    "def ThetaT2Theta(Expression):\n",
    "    return Expression.subs(theta_1_t, theta_1).subs(theta_2_t, theta_2)\n",
    "\n",
    "\n",
    "def Theta2ThetaT(Expression):\n",
    "    return Expression.subs(theta_1, theta_1_t).subs(theta_2, theta_2_t)"
   ]
  },
  {
   "cell_type": "markdown",
   "metadata": {},
   "source": [
    "Define geometric parameters. We apply **Modified D-H** notation. Noting that $\\square_{i}$ refers to $\\square$ of joint $i$, $\\square_{ci}$ refers to $\\square$ of rod $i$.\n"
   ]
  },
  {
   "cell_type": "code",
   "execution_count": 4,
   "metadata": {},
   "outputs": [],
   "source": [
    "# Joint DH Parameters\n",
    "x0, x1, x2 = p.symbols(\"x_0 x_1 x_2\")\n",
    "y0, y1, y2 = p.symbols(\"y_0 y_1 y_2\")\n",
    "z0, z1, z2 = p.symbols(\"z_0 z_1 z_2\")\n",
    "\n",
    "# Link CoM Parameters\n",
    "xc1, xc2 = p.symbols(\"x_c1 x_c2\")\n",
    "yc1, yc2 = p.symbols(\"y_c1 y_c2\")\n",
    "zc1, zc2 = p.symbols(\"z_c1 z_c2\")"
   ]
  },
  {
   "cell_type": "markdown",
   "metadata": {},
   "source": [
    "From the configuration, we got"
   ]
  },
  {
   "cell_type": "code",
   "execution_count": 5,
   "metadata": {},
   "outputs": [],
   "source": [
    "# Joint Parameters\n",
    "x0, y0, z0 = 0, 0, 0\n",
    "x1, y1, z1 = 0, 0, 0\n",
    "x2, y2, z2 = l1, 0, 0\n",
    "\n",
    "# CoM Parameters\n",
    "xc1, yc1, zc1 = lc1, 0, 0\n",
    "xc2, yc2, zc2 = lc2, 0, 0\n",
    "\n",
    "# RPY Angles\n",
    "RPY_0_1 = [0, 0, 0]\n",
    "RPY_1_2 = [0, 0, 0]\n",
    "RPY_1_c1 = [0, 0, 0]\n",
    "RPY_2_c2 = [0, 0, 0]"
   ]
  },
  {
   "cell_type": "markdown",
   "metadata": {},
   "source": [
    "### 1.2 Forward Kinematics\n"
   ]
  },
  {
   "cell_type": "markdown",
   "metadata": {},
   "source": [
    "Transformation matrixes at $\\vec{0}$. `T_i_j_0` refers to $T_{i}^{j} (\\vec{0}) $.\n"
   ]
  },
  {
   "cell_type": "code",
   "execution_count": 6,
   "metadata": {},
   "outputs": [],
   "source": [
    "T_1_0_0 = Translation_4x4(p.Matrix([x1, y1, z1])) @ Rotation_RPY_4x4(RPY_0_1)\n",
    "T_2_1_0 = Translation_4x4(p.Matrix([x2, y2, z2])) @ Rotation_RPY_4x4(RPY_1_2)\n",
    "T_c1_1_0 = Translation_4x4(\n",
    "    p.Matrix([xc1, yc1, zc1])) @ Rotation_RPY_4x4(RPY_1_c1)\n",
    "T_c2_2_0 = Translation_4x4(\n",
    "    p.Matrix([xc2, yc2, zc2])) @ Rotation_RPY_4x4(RPY_2_c2)"
   ]
  },
  {
   "cell_type": "markdown",
   "metadata": {},
   "source": [
    "Joint positions at $\\vec{0}$."
   ]
  },
  {
   "cell_type": "code",
   "execution_count": 7,
   "metadata": {},
   "outputs": [],
   "source": [
    "def Position(Transformation_i_j, P_i=p.Matrix([0, 0, 0, 1])):\n",
    "    return (Transformation_i_j @ P_i)[:3, :]\n",
    "\n",
    "\n",
    "T_1_0_0 = T_1_0_0\n",
    "T_2_0_0 = T_1_0_0 @ T_2_1_0\n",
    "T_c1_0_0 = T_1_0_0 @ T_c1_1_0\n",
    "T_c2_0_0 = T_2_0_0 @ T_c2_2_0\n",
    "\n",
    "r_1_0 = Position(T_1_0_0)\n",
    "r_2_0 = Position(T_2_0_0)\n",
    "r_c1_0 = Position(T_c1_0_0)\n",
    "r_c2_0 = Position(T_c2_0_0)"
   ]
  },
  {
   "cell_type": "markdown",
   "metadata": {},
   "source": [
    "`SymPy` Code Generation"
   ]
  },
  {
   "cell_type": "code",
   "execution_count": 8,
   "metadata": {},
   "outputs": [
    {
     "data": {
      "text/plain": [
       "'ImmutableDenseMatrix([[l1 + lc2], [0], [0]])'"
      ]
     },
     "execution_count": 8,
     "metadata": {},
     "output_type": "execute_result"
    }
   ],
   "source": [
    "p.printing.pycode(r_c2_0)"
   ]
  },
  {
   "cell_type": "markdown",
   "metadata": {},
   "source": [
    "Joint poses at $\\vec{0}$."
   ]
  },
  {
   "cell_type": "code",
   "execution_count": 9,
   "metadata": {},
   "outputs": [],
   "source": [
    "omega_1_0 = p.Matrix([0, 0, 1]).reshape(3, 1)\n",
    "omega_2_0 = Rotation_RPY_4x4(RPY_1_2)[:3, :3] @ omega_1_0"
   ]
  },
  {
   "cell_type": "markdown",
   "metadata": {},
   "source": [
    "Joint unitary twists at $\\vec{0}$."
   ]
  },
  {
   "cell_type": "code",
   "execution_count": 10,
   "metadata": {},
   "outputs": [],
   "source": [
    "xi_1_0 = Joint2Twist(omega_1_0, r_1_0)\n",
    "xi_2_0 = Joint2Twist(omega_2_0, r_2_0)"
   ]
  },
  {
   "cell_type": "markdown",
   "metadata": {},
   "source": [
    "Transformation matrixes at $\\vec{\\theta}$ computed with PoE.\n"
   ]
  },
  {
   "cell_type": "code",
   "execution_count": 11,
   "metadata": {},
   "outputs": [],
   "source": [
    "# Transformation Matrixes\n",
    "T_1_0 = MatrixExp_4x4(xi_1_0, theta_1_t) @ T_1_0_0\n",
    "T_2_0 = MatrixExp_4x4(\n",
    "    xi_1_0, theta_1_t) @ MatrixExp_4x4(xi_2_0, theta_2_t) @ T_2_0_0\n",
    "T_c1_0 = MatrixExp_4x4(xi_1_0, theta_1_t) @ T_c1_0_0\n",
    "T_c2_0 = MatrixExp_4x4(\n",
    "    xi_1_0, theta_1_t) @ MatrixExp_4x4(xi_2_0, theta_2_t) @ T_c2_0_0"
   ]
  },
  {
   "cell_type": "markdown",
   "metadata": {},
   "source": [
    "Joint positions and poses at $\\vec{\\theta}$."
   ]
  },
  {
   "cell_type": "code",
   "execution_count": 12,
   "metadata": {},
   "outputs": [],
   "source": [
    "# Positions\n",
    "r_1 = Position(T_1_0)\n",
    "r_2 = Position(T_2_0)\n",
    "\n",
    "# Poses\n",
    "omega_1 = MatrixExp_3x3(omega_1_0, theta_1_t) @ omega_1_0\n",
    "omega_2 = (\n",
    "    MatrixExp_3x3(omega_1_0, theta_1_t)\n",
    "    @ MatrixExp_3x3(omega_2_0, theta_2_t)\n",
    "    @ omega_2_0\n",
    ")"
   ]
  },
  {
   "cell_type": "markdown",
   "metadata": {},
   "source": [
    "Joint unitary twists at $\\vec{\\theta} $."
   ]
  },
  {
   "cell_type": "code",
   "execution_count": 13,
   "metadata": {},
   "outputs": [],
   "source": [
    "xi_1 = Joint2Twist(omega_1, r_1)\n",
    "xi_2 = Joint2Twist(omega_2, r_2)"
   ]
  },
  {
   "cell_type": "markdown",
   "metadata": {},
   "source": [
    "Link CoM postions."
   ]
  },
  {
   "cell_type": "code",
   "execution_count": 14,
   "metadata": {},
   "outputs": [],
   "source": [
    "r_c1 = Position(T_c1_0)\n",
    "r_c2 = Position(T_c2_0)"
   ]
  },
  {
   "cell_type": "markdown",
   "metadata": {},
   "source": [
    "Joints' spatial velocity."
   ]
  },
  {
   "cell_type": "code",
   "execution_count": 15,
   "metadata": {},
   "outputs": [],
   "source": [
    "# Rotation part of joints' Spatial Velocity\n",
    "SpatialVelocity_Rot_1 = omega_1 * theta_1_t.diff(t)\n",
    "SpatialVelocity_Rot_2 = omega_1 * \\\n",
    "    theta_1_t.diff(t) + omega_2 * theta_2_t.diff(t)\n",
    "\n",
    "# Translation part of Joints' Spatial Velocity\n",
    "SpatialVelocity_Trans_1 = r_1.diff(t)\n",
    "SpatialVelocity_Trans_2 = r_2.diff(t)\n",
    "\n",
    "# Joints' Spatial Velocity\n",
    "SpatialVelocity_1 = SpatialVelocity_Rot_1.col_join(SpatialVelocity_Trans_1)\n",
    "SpatialVelocity_2 = SpatialVelocity_Rot_2.col_join(SpatialVelocity_Trans_2)"
   ]
  },
  {
   "cell_type": "markdown",
   "metadata": {},
   "source": [
    "CoMs' spatial velocity."
   ]
  },
  {
   "cell_type": "code",
   "execution_count": 16,
   "metadata": {},
   "outputs": [],
   "source": [
    "# Rotation part of CoMs' Spatial Velocity\n",
    "SpatialVelocity_Rot_c1 = omega_1 * theta_1_t.diff(t)\n",
    "SpatialVelocity_Rot_c2 = omega_1 * \\\n",
    "    theta_1_t.diff(t) + omega_2 * theta_2_t.diff(t)\n",
    "\n",
    "# Translation part of CoMs' Spatial Velocity\n",
    "SpatialVelocity_Trans_c1 = r_c1.diff(t)\n",
    "SpatialVelocity_Trans_c2 = r_c2.diff(t)\n",
    "\n",
    "# CoMs' Spatial Velocity\n",
    "SpatialVelocity_c1 = SpatialVelocity_Rot_c1.col_join(SpatialVelocity_Trans_c1)\n",
    "SpatialVelocity_c2 = SpatialVelocity_Rot_c2.col_join(SpatialVelocity_Trans_c2)"
   ]
  },
  {
   "cell_type": "markdown",
   "metadata": {},
   "source": [
    "### 1.3 CoMs' Jacobians\n"
   ]
  },
  {
   "cell_type": "markdown",
   "metadata": {},
   "source": [
    "CoMs' Jacobian matrix from definition."
   ]
  },
  {
   "cell_type": "code",
   "execution_count": 17,
   "metadata": {},
   "outputs": [],
   "source": [
    "def JacobianFromDefinition(V_CoM, Angles):\n",
    "    # ! .coeff() may lose vital information, use .subs() instead\n",
    "    # ? We compute Jacobian by substituting $\\dot{\\theta}_{i}$ with $1$,\n",
    "    # ? the other with $0$ at column $i$.\n",
    "    J_CoM = p.zeros(6, Angles.shape[0])\n",
    "    for i in range(6):\n",
    "        # i refers to row\n",
    "        J_CoM[i, :] = V_CoM[i] * p.ones(1, Angles.shape[0])\n",
    "        for j in range(Angles.shape[0]):\n",
    "            # j refers to column\n",
    "            for k in range(Angles.shape[0]):\n",
    "                J_CoM[i, j] = J_CoM[i, j].subs(Angles[k].diff(t), int(j == k))\n",
    "    return J_CoM\n",
    "\n",
    "\n",
    "JointSpace = p.Matrix([theta_1_t, theta_2_t])\n",
    "\n",
    "# Joint Jacobian\n",
    "Jacobian_1 = p.simplify(ThetaT2Theta(\n",
    "    JacobianFromDefinition(SpatialVelocity_1, JointSpace)))\n",
    "Jacobian_2 = p.simplify(ThetaT2Theta(\n",
    "    JacobianFromDefinition(SpatialVelocity_2, JointSpace)))\n",
    "\n",
    "# Link CoM Jacobian\n",
    "Jacobian_c1 = p.simplify(ThetaT2Theta(\n",
    "    JacobianFromDefinition(SpatialVelocity_c1, JointSpace)))\n",
    "Jacobian_c2 = p.simplify(ThetaT2Theta(\n",
    "    JacobianFromDefinition(SpatialVelocity_c2, JointSpace)))"
   ]
  },
  {
   "cell_type": "markdown",
   "metadata": {},
   "source": [
    "## 2. Dynamics"
   ]
  },
  {
   "cell_type": "markdown",
   "metadata": {},
   "source": [
    "Define Generalized Inertial Matrixes, which follow\n",
    "\n",
    "$$\n",
    "M_{i} = \\begin{bmatrix}\n",
    "    I_{i} & \\mathbf{0}_{3 \\times 3} \\\\\n",
    "    \\mathbf{0}_{3 \\times 3} & m_{i} \\mathbf{I}_{3}\n",
    "\\end{bmatrix}.\n",
    "$$"
   ]
  },
  {
   "cell_type": "code",
   "execution_count": 18,
   "metadata": {},
   "outputs": [],
   "source": [
    "def MiMatrix(m, I):\n",
    "    LowerRight = m * p.Identity(3).as_explicit()\n",
    "    UpperRight, LowerLeft = p.zeros(3, 3), p.zeros(3, 3)\n",
    "    return I.row_join(UpperRight).col_join(LowerLeft.row_join(LowerRight))"
   ]
  },
  {
   "cell_type": "markdown",
   "metadata": {},
   "source": [
    "Compute $\\mathbf{I}_{i}$ matrixes."
   ]
  },
  {
   "cell_type": "code",
   "execution_count": 19,
   "metadata": {},
   "outputs": [],
   "source": [
    "I1 = p.Matrix([[Jc1 / 2, 0, 0], [0, Jc1 / 2, 0], [0, 0, Jc1]])\n",
    "I2 = p.Matrix([[Jc2 / 2, 0, 0], [0, Jc2 / 2, 0], [0, 0, Jc2]])"
   ]
  },
  {
   "cell_type": "markdown",
   "metadata": {},
   "source": [
    "Compute Generalized Inertial Matrixes."
   ]
  },
  {
   "cell_type": "code",
   "execution_count": 20,
   "metadata": {},
   "outputs": [],
   "source": [
    "M1 = MiMatrix(m1, I1)\n",
    "M2 = MiMatrix(m2, I2)"
   ]
  },
  {
   "cell_type": "markdown",
   "metadata": {},
   "source": [
    "Compute Mass Matrix $M$"
   ]
  },
  {
   "cell_type": "code",
   "execution_count": 21,
   "metadata": {},
   "outputs": [
    {
     "data": {
      "text/latex": [
       "$\\displaystyle \\left[\\begin{matrix}Jc_{1} + Jc_{2} + l_{1}^{2} m_{2} + 2 l_{1} lc_{2} m_{2} \\cos{\\left(\\theta_{2} \\right)} + lc_{1}^{2} m_{1} + lc_{2}^{2} m_{2} & Jc_{2} + l_{1} lc_{2} m_{2} \\cos{\\left(\\theta_{2} \\right)} + lc_{2}^{2} m_{2}\\\\Jc_{2} + l_{1} lc_{2} m_{2} \\cos{\\left(\\theta_{2} \\right)} + lc_{2}^{2} m_{2} & Jc_{2} + lc_{2}^{2} m_{2}\\end{matrix}\\right]$"
      ],
      "text/plain": [
       "Matrix([\n",
       "[Jc1 + Jc2 + l1**2*m2 + 2*l1*lc2*m2*cos(theta_2) + lc1**2*m1 + lc2**2*m2, Jc2 + l1*lc2*m2*cos(theta_2) + lc2**2*m2],\n",
       "[                               Jc2 + l1*lc2*m2*cos(theta_2) + lc2**2*m2,                          Jc2 + lc2**2*m2]])"
      ]
     },
     "execution_count": 21,
     "metadata": {},
     "output_type": "execute_result"
    }
   ],
   "source": [
    "M = Jacobian_c1.T @ M1 @ Jacobian_c1 + Jacobian_c2.T @ M2 @ Jacobian_c2\n",
    "M = p.simplify(M)\n",
    "M"
   ]
  },
  {
   "cell_type": "markdown",
   "metadata": {},
   "source": [
    "Compute Gravity Vector $\\vec{G}$"
   ]
  },
  {
   "cell_type": "code",
   "execution_count": 22,
   "metadata": {},
   "outputs": [
    {
     "data": {
      "text/latex": [
       "$\\displaystyle \\left[\\begin{matrix}g \\left(l_{1} m_{2} \\cos{\\left(\\theta_{1} \\right)} + lc_{1} m_{1} \\cos{\\left(\\theta_{1} \\right)} + lc_{2} m_{2} \\cos{\\left(\\theta_{1} + \\theta_{2} \\right)}\\right)\\\\g lc_{2} m_{2} \\cos{\\left(\\theta_{1} + \\theta_{2} \\right)}\\end{matrix}\\right]$"
      ],
      "text/plain": [
       "Matrix([\n",
       "[g*(l1*m2*cos(theta_1) + lc1*m1*cos(theta_1) + lc2*m2*cos(theta_1 + theta_2))],\n",
       "[                                             g*lc2*m2*cos(theta_1 + theta_2)]])"
      ]
     },
     "execution_count": 22,
     "metadata": {},
     "output_type": "execute_result"
    }
   ],
   "source": [
    "PotentialEnergy = p.simplify(\n",
    "    ThetaT2Theta(m1 * p.Matrix([[0, g, 0]]) @\n",
    "                 r_c1 + m2 * p.Matrix([[0, g, 0]]) @ r_c2)\n",
    ")\n",
    "G = p.simplify(\n",
    "    p.Matrix([[PotentialEnergy.diff(theta_1)],\n",
    "             [PotentialEnergy.diff(theta_2)]])\n",
    ")\n",
    "G"
   ]
  },
  {
   "cell_type": "markdown",
   "metadata": {},
   "source": [
    "Compute Coriolis Vector $\\vec{h}$"
   ]
  },
  {
   "cell_type": "code",
   "execution_count": 23,
   "metadata": {},
   "outputs": [
    {
     "data": {
      "text/latex": [
       "$\\displaystyle \\left[\\begin{matrix}- 2 dtheta_{1} dtheta_{2} l_{1} lc_{2} m_{2} \\sin{\\left(\\theta_{2} \\right)} - dtheta_{2}^{2} l_{1} lc_{2} m_{2} \\sin{\\left(\\theta_{2} \\right)}\\\\dtheta_{1}^{2} l_{1} lc_{2} m_{2} \\sin{\\left(\\theta_{2} \\right)}\\end{matrix}\\right]$"
      ],
      "text/plain": [
       "Matrix([\n",
       "[-2*dtheta_1*dtheta_2*l1*lc2*m2*sin(theta_2) - dtheta_2**2*l1*lc2*m2*sin(theta_2)],\n",
       "[                                              dtheta_1**2*l1*lc2*m2*sin(theta_2)]])"
      ]
     },
     "execution_count": 23,
     "metadata": {},
     "output_type": "execute_result"
    }
   ],
   "source": [
    "def h_ijk(i, j, k):\n",
    "    # ? i,j,k start from 1\n",
    "    return (\n",
    "        M[i - 1, j - 1].diff(ThetaT2Theta(JointSpace[k - 1]))\n",
    "        + M[i - 1, k - 1].diff(ThetaT2Theta(JointSpace[j - 1]))\n",
    "        - M[k - 1, j - 1].diff(ThetaT2Theta(JointSpace[i - 1]))\n",
    "    ) / 2\n",
    "\n",
    "\n",
    "h = p.zeros(2, 1)\n",
    "\n",
    "dtheta_1, dtheta_2 = p.symbols(\"dtheta_1 dtheta_2\")\n",
    "dthetaSpace = p.Matrix([dtheta_1, dtheta_2])\n",
    "\n",
    "for i in range(1, 3):\n",
    "    # h vector's row\n",
    "    for j in range(1, 3):\n",
    "        for k in range(1, 3):\n",
    "            h[i - 1, 0] += h_ijk(i, j, k) * \\\n",
    "                dthetaSpace[j - 1] * dthetaSpace[k - 1]\n",
    "\n",
    "h"
   ]
  },
  {
   "cell_type": "markdown",
   "metadata": {},
   "source": [
    "Export `Python` code."
   ]
  },
  {
   "cell_type": "code",
   "execution_count": 24,
   "metadata": {},
   "outputs": [
    {
     "data": {
      "text/plain": [
       "'ImmutableDenseMatrix([[-2*dtheta_1*dtheta_2*l1*lc2*m2*math.sin(theta_2) - dtheta_2**2*l1*lc2*m2*math.sin(theta_2)], [dtheta_1**2*l1*lc2*m2*math.sin(theta_2)]])'"
      ]
     },
     "execution_count": 24,
     "metadata": {},
     "output_type": "execute_result"
    }
   ],
   "source": [
    "p.printing.pycode(h)"
   ]
  },
  {
   "cell_type": "markdown",
   "metadata": {},
   "source": [
    "Compute $C$ matrix.\n"
   ]
  },
  {
   "cell_type": "markdown",
   "metadata": {},
   "source": [
    "$$\n",
    "\\begin{aligned}\n",
    "\\sum_{j = 1}^{n} C_{ij} \\dot{q}_{j} &= \\sum_{j = 1}^{n} \\sum_{k = 1}^{n} h_{ijk} \\dot{q}_{j} \\dot{q}_k \\\\\n",
    "C_{ij} &= \\sum_{k = 1}^{n} h_{ijk} \\dot{q}_k,\n",
    "\\end{aligned}\n",
    "$$"
   ]
  },
  {
   "cell_type": "code",
   "execution_count": 25,
   "metadata": {},
   "outputs": [
    {
     "data": {
      "text/latex": [
       "$\\displaystyle \\left[\\begin{matrix}- dtheta_{2} l_{1} lc_{2} m_{2} \\sin{\\left(\\theta_{2} \\right)} & - dtheta_{1} l_{1} lc_{2} m_{2} \\sin{\\left(\\theta_{2} \\right)} - dtheta_{2} l_{1} lc_{2} m_{2} \\sin{\\left(\\theta_{2} \\right)}\\\\dtheta_{1} l_{1} lc_{2} m_{2} \\sin{\\left(\\theta_{2} \\right)} & 0\\end{matrix}\\right]$"
      ],
      "text/plain": [
       "Matrix([\n",
       "[-dtheta_2*l1*lc2*m2*sin(theta_2), -dtheta_1*l1*lc2*m2*sin(theta_2) - dtheta_2*l1*lc2*m2*sin(theta_2)],\n",
       "[ dtheta_1*l1*lc2*m2*sin(theta_2),                                                                  0]])"
      ]
     },
     "execution_count": 25,
     "metadata": {},
     "output_type": "execute_result"
    }
   ],
   "source": [
    "C = p.zeros(2, 2)\n",
    "\n",
    "for i in range(1, 3):\n",
    "    # C matrix's row\n",
    "    for j in range(1, 3):\n",
    "        for k in range(1, 3):\n",
    "            C[i - 1, j - 1] += h_ijk(i, j, k) * dthetaSpace[k - 1]\n",
    "\n",
    "C"
   ]
  },
  {
   "cell_type": "markdown",
   "metadata": {},
   "source": [
    "Verify"
   ]
  },
  {
   "cell_type": "code",
   "execution_count": 26,
   "metadata": {},
   "outputs": [
    {
     "data": {
      "text/plain": [
       "True"
      ]
     },
     "execution_count": 26,
     "metadata": {},
     "output_type": "execute_result"
    }
   ],
   "source": [
    "p.simplify(C @ p.Matrix([[dtheta_1], [dtheta_2]]) - h) == p.zeros(2, 1)"
   ]
  },
  {
   "cell_type": "markdown",
   "metadata": {},
   "source": [
    "## 3. Model Linearization"
   ]
  },
  {
   "cell_type": "markdown",
   "metadata": {},
   "source": [
    "Prettify"
   ]
  },
  {
   "cell_type": "code",
   "execution_count": 27,
   "metadata": {},
   "outputs": [],
   "source": [
    "v1, v2 = p.symbols(\"v1 v2\")\n",
    "a1, a2 = p.symbols(\"a1 a2\")\n",
    "\n",
    "vSpace = p.Matrix([v1, v2])\n",
    "aSpace = p.Matrix([a1, a2])"
   ]
  },
  {
   "cell_type": "markdown",
   "metadata": {},
   "source": [
    "Define $\\vec{p}$"
   ]
  },
  {
   "cell_type": "code",
   "execution_count": 28,
   "metadata": {},
   "outputs": [
    {
     "data": {
      "text/latex": [
       "$\\displaystyle \\left[\\begin{array}{cccccccccccccccccccc}\\frac{Jc_{1}}{2} & 0 & 0 & \\frac{Jc_{1}}{2} + lc_{1}^{2} m_{1} & 0 & Jc_{1} + lc_{1}^{2} m_{1} & lc_{1} m_{1} & 0 & 0 & m_{1} & \\frac{Jc_{2}}{2} & 0 & 0 & \\frac{Jc_{2}}{2} + lc_{2}^{2} m_{2} & 0 & Jc_{2} + lc_{2}^{2} m_{2} & lc_{2} m_{2} & 0 & 0 & m_{2}\\end{array}\\right]$"
      ],
      "text/plain": [
       "Matrix([[Jc1/2, 0, 0, Jc1/2 + lc1**2*m1, 0, Jc1 + lc1**2*m1, lc1*m1, 0, 0, m1, Jc2/2, 0, 0, Jc2/2 + lc2**2*m2, 0, Jc2 + lc2**2*m2, lc2*m2, 0, 0, m2]])"
      ]
     },
     "execution_count": 28,
     "metadata": {},
     "output_type": "execute_result"
    }
   ],
   "source": [
    "ParaVec = p.Matrix(\n",
    "    [\n",
    "        Jc1 / 2 + m1 * (yc1**2 + zc1**2),\n",
    "        0 + m1 * xc1 * yc1,\n",
    "        0 + m1 * xc1 * zc1,\n",
    "        Jc1 / 2 + m1 * (xc1**2 + zc1**2),\n",
    "        0 + m1 * yc1 * zc1,\n",
    "        Jc1 + m1 * (xc1**2 + yc1**2),\n",
    "        m1 * xc1,\n",
    "        m1 * yc1,\n",
    "        m1 * zc1,\n",
    "        m1,\n",
    "    ]\n",
    ").col_join(\n",
    "    p.Matrix(\n",
    "        [\n",
    "            Jc2 / 2 + m2 * (yc2**2 + zc2**2),\n",
    "            0 + m2 * xc2 * yc2,\n",
    "            0 + m2 * xc2 * zc2,\n",
    "            Jc2 / 2 + m2 * (xc2**2 + zc2**2),\n",
    "            0 + m2 * yc2 * zc2,\n",
    "            Jc2 + m2 * (xc2**2 + yc2**2),\n",
    "            m2 * xc2,\n",
    "            m2 * yc2,\n",
    "            m2 * zc2,\n",
    "            m2,\n",
    "        ]\n",
    "    )\n",
    ")\n",
    "ParaVec.T"
   ]
  },
  {
   "cell_type": "markdown",
   "metadata": {},
   "source": [
    "Define a function to mark $0$ rows"
   ]
  },
  {
   "cell_type": "code",
   "execution_count": 29,
   "metadata": {},
   "outputs": [],
   "source": [
    "def GetMarker(Vector):\n",
    "    n1, n2 = Vector.shape\n",
    "    Marker = p.ones(n1, 1)\n",
    "    for i in range(n1):\n",
    "        if Vector[i, :] == p.zeros(1, n2):\n",
    "            Marker[i, :] = p.zeros(1, 1)\n",
    "    return Marker"
   ]
  },
  {
   "cell_type": "markdown",
   "metadata": {},
   "source": [
    "Mark $0$ elements in $\\vec{p}$"
   ]
  },
  {
   "cell_type": "code",
   "execution_count": 30,
   "metadata": {},
   "outputs": [],
   "source": [
    "Marker_ParaVec = GetMarker(ParaVec)"
   ]
  },
  {
   "cell_type": "markdown",
   "metadata": {},
   "source": [
    "Define $K (\\vec{\\omega})$ function."
   ]
  },
  {
   "cell_type": "code",
   "execution_count": 31,
   "metadata": {},
   "outputs": [],
   "source": [
    "def KMatrix_3x6(Omega):\n",
    "    omega_x, omega_y, omega_z = Omega[0, 0], Omega[1, 0], Omega[2, 0]\n",
    "    return p.Matrix(\n",
    "        [\n",
    "            [omega_x, -omega_y, -omega_z, 0, 0, 0],\n",
    "            [0, -omega_x, 0, omega_y, -omega_z, 0],\n",
    "            [0, 0, -omega_x, 0, -omega_y, omega_z],\n",
    "        ]\n",
    "    )"
   ]
  },
  {
   "cell_type": "markdown",
   "metadata": {},
   "source": [
    "Compute $\\tilde{T}^{i}$"
   ]
  },
  {
   "cell_type": "code",
   "execution_count": 32,
   "metadata": {},
   "outputs": [],
   "source": [
    "JointVelocityRotTuple = (SpatialVelocity_Rot_1, SpatialVelocity_Rot_2)\n",
    "JointVelocityTransTuple = (SpatialVelocity_Trans_1, SpatialVelocity_Trans_2)\n",
    "RotationMatrixCoMTuple = (T_c1_0[:3, :3], T_c2_0[:3, :3])\n",
    "\n",
    "TtildeTuple = ()\n",
    "\n",
    "for i in range(2):\n",
    "    Ttilde_i_T_left = (\n",
    "        JointVelocityRotTuple[i].T @ KMatrix_3x6(JointVelocityRotTuple[i])\n",
    "    ) / 2\n",
    "    Ttilde_i_T_mid = (\n",
    "        JointVelocityTransTuple[i].T\n",
    "        @ Vector2Matrix_3x3(JointVelocityRotTuple[i])\n",
    "        @ RotationMatrixCoMTuple[i]\n",
    "    )\n",
    "    Ttilde_i_T_right = JointVelocityTransTuple[i].T @ JointVelocityTransTuple[i] / 2\n",
    "    Ttilde_i = (Ttilde_i_T_left.row_join(\n",
    "        Ttilde_i_T_mid).row_join(Ttilde_i_T_right)).T\n",
    "    Ttilde_i = p.simplify(Ttilde_i)\n",
    "    TtildeTuple = TtildeTuple + (Ttilde_i,)"
   ]
  },
  {
   "cell_type": "markdown",
   "metadata": {},
   "source": [
    "Compute $\\tilde{T}$"
   ]
  },
  {
   "cell_type": "code",
   "execution_count": 33,
   "metadata": {},
   "outputs": [
    {
     "data": {
      "text/latex": [
       "$\\displaystyle \\left[\\begin{array}{cccccccccccccccccccc}0 & 0 & 0 & 0 & 0 & \\frac{\\left(\\frac{d}{d t} \\theta_{1}{\\left(t \\right)}\\right)^{2}}{2} & 0 & 0 & 0 & 0 & 0 & 0 & 0 & 0 & 0 & \\frac{\\left(\\frac{d}{d t} \\theta_{1}{\\left(t \\right)} + \\frac{d}{d t} \\theta_{2}{\\left(t \\right)}\\right)^{2}}{2} & l_{1} \\left(\\frac{d}{d t} \\theta_{1}{\\left(t \\right)} + \\frac{d}{d t} \\theta_{2}{\\left(t \\right)}\\right) \\cos{\\left(\\theta_{2}{\\left(t \\right)} \\right)} \\frac{d}{d t} \\theta_{1}{\\left(t \\right)} & - l_{1} \\left(\\frac{d}{d t} \\theta_{1}{\\left(t \\right)} + \\frac{d}{d t} \\theta_{2}{\\left(t \\right)}\\right) \\sin{\\left(\\theta_{2}{\\left(t \\right)} \\right)} \\frac{d}{d t} \\theta_{1}{\\left(t \\right)} & 0 & \\frac{l_{1}^{2} \\left(\\frac{d}{d t} \\theta_{1}{\\left(t \\right)}\\right)^{2}}{2}\\end{array}\\right]$"
      ],
      "text/plain": [
       "Matrix([[0, 0, 0, 0, 0, Derivative(theta_1(t), t)**2/2, 0, 0, 0, 0, 0, 0, 0, 0, 0, (Derivative(theta_1(t), t) + Derivative(theta_2(t), t))**2/2, l1*(Derivative(theta_1(t), t) + Derivative(theta_2(t), t))*cos(theta_2(t))*Derivative(theta_1(t), t), -l1*(Derivative(theta_1(t), t) + Derivative(theta_2(t), t))*sin(theta_2(t))*Derivative(theta_1(t), t), 0, l1**2*Derivative(theta_1(t), t)**2/2]])"
      ]
     },
     "execution_count": 33,
     "metadata": {},
     "output_type": "execute_result"
    }
   ],
   "source": [
    "Ttilde = p.Matrix([[]])\n",
    "\n",
    "for i in range(len(TtildeTuple)):\n",
    "    Ttilde = Ttilde.row_join(TtildeTuple[i].T)\n",
    "\n",
    "Ttilde"
   ]
  },
  {
   "cell_type": "markdown",
   "metadata": {},
   "source": [
    "Mark 0 elements in $\\tilde{T}$"
   ]
  },
  {
   "cell_type": "code",
   "execution_count": 34,
   "metadata": {},
   "outputs": [],
   "source": [
    "Marker_Ttilde = GetMarker(Ttilde.T)"
   ]
  },
  {
   "cell_type": "markdown",
   "metadata": {},
   "source": [
    "Compute $\\tilde{V}^{i}$"
   ]
  },
  {
   "cell_type": "code",
   "execution_count": 35,
   "metadata": {},
   "outputs": [],
   "source": [
    "VtildeTuple = ()\n",
    "JointLocationTuple = (r_1, r_2)\n",
    "\n",
    "for i in range(2):\n",
    "    Vtilde_i_T_left = p.zeros(1, 6)\n",
    "    Vtilde_i_T_mid = -p.Matrix([[0, -g, 0]]) @ RotationMatrixCoMTuple[i]\n",
    "    Vtilde_i_T_right = -p.Matrix([[0, -g, 0]]) @ JointLocationTuple[i]\n",
    "    Vtilde_i = (Vtilde_i_T_left.row_join(\n",
    "        Vtilde_i_T_mid).row_join(Vtilde_i_T_right)).T\n",
    "    Vtilde_i = p.simplify(Vtilde_i)\n",
    "    VtildeTuple = VtildeTuple + (Vtilde_i,)"
   ]
  },
  {
   "cell_type": "markdown",
   "metadata": {},
   "source": [
    "Compute $\\tilde{V}$"
   ]
  },
  {
   "cell_type": "code",
   "execution_count": 36,
   "metadata": {},
   "outputs": [
    {
     "data": {
      "text/latex": [
       "$\\displaystyle \\left[\\begin{array}{cccccccccccccccccccc}0 & 0 & 0 & 0 & 0 & 0 & g \\sin{\\left(\\theta_{1}{\\left(t \\right)} \\right)} & g \\cos{\\left(\\theta_{1}{\\left(t \\right)} \\right)} & 0 & 0 & 0 & 0 & 0 & 0 & 0 & 0 & g \\sin{\\left(\\theta_{1}{\\left(t \\right)} + \\theta_{2}{\\left(t \\right)} \\right)} & g \\cos{\\left(\\theta_{1}{\\left(t \\right)} + \\theta_{2}{\\left(t \\right)} \\right)} & 0 & g l_{1} \\sin{\\left(\\theta_{1}{\\left(t \\right)} \\right)}\\end{array}\\right]$"
      ],
      "text/plain": [
       "Matrix([[0, 0, 0, 0, 0, 0, g*sin(theta_1(t)), g*cos(theta_1(t)), 0, 0, 0, 0, 0, 0, 0, 0, g*sin(theta_1(t) + theta_2(t)), g*cos(theta_1(t) + theta_2(t)), 0, g*l1*sin(theta_1(t))]])"
      ]
     },
     "execution_count": 36,
     "metadata": {},
     "output_type": "execute_result"
    }
   ],
   "source": [
    "Vtilde = p.Matrix([[]])\n",
    "\n",
    "for i in range(len(VtildeTuple)):\n",
    "    Vtilde = Vtilde.row_join(VtildeTuple[i].T)\n",
    "\n",
    "Vtilde"
   ]
  },
  {
   "cell_type": "markdown",
   "metadata": {},
   "source": [
    "Mark 0 elements in $\\tilde{V}$"
   ]
  },
  {
   "cell_type": "code",
   "execution_count": 37,
   "metadata": {},
   "outputs": [],
   "source": [
    "Marker_Vtilde = GetMarker(Vtilde.T)"
   ]
  },
  {
   "cell_type": "markdown",
   "metadata": {},
   "source": [
    "Obtain final marker for simplification of $\\tilde{T}$, $\\tilde{V}$ and $\\vec{p}$"
   ]
  },
  {
   "cell_type": "code",
   "execution_count": 38,
   "metadata": {},
   "outputs": [
    {
     "data": {
      "text/latex": [
       "$\\displaystyle \\left[\\begin{array}{cccccccccccccccccccc}0 & 0 & 0 & 0 & 0 & 1 & 1 & 0 & 0 & 0 & 0 & 0 & 0 & 0 & 0 & 1 & 1 & 0 & 0 & 1\\end{array}\\right]$"
      ],
      "text/plain": [
       "Matrix([[0, 0, 0, 0, 0, 1, 1, 0, 0, 0, 0, 0, 0, 0, 0, 1, 1, 0, 0, 1]])"
      ]
     },
     "execution_count": 38,
     "metadata": {},
     "output_type": "execute_result"
    }
   ],
   "source": [
    "FinalMarker = GetMarker(\n",
    "    p.HadamardProduct(Marker_Ttilde + Marker_Vtilde,\n",
    "                      Marker_ParaVec).as_explicit()\n",
    ")\n",
    "FinalMarker.T"
   ]
  },
  {
   "cell_type": "markdown",
   "metadata": {},
   "source": [
    "Define $0$ elements elimination function."
   ]
  },
  {
   "cell_type": "code",
   "execution_count": 39,
   "metadata": {},
   "outputs": [],
   "source": [
    "def EliminateZero_1(T_TILDE, V_TILDE, PARA_VEC, MARKER):\n",
    "    Ttilde_NoZero, Vtilde_NoZero, ParaVec_NoZero = (\n",
    "        p.Matrix([[]]),\n",
    "        p.Matrix([[]]),\n",
    "        p.Matrix([[]]),\n",
    "    )\n",
    "    for idx in range(MARKER.shape[0]):\n",
    "        if MARKER[idx, 0]:\n",
    "            Ttilde_NoZero = Ttilde_NoZero.row_join(T_TILDE[:, idx])\n",
    "            Vtilde_NoZero = Vtilde_NoZero.row_join(V_TILDE[:, idx])\n",
    "            ParaVec_NoZero = ParaVec_NoZero.col_join(PARA_VEC[idx, :])\n",
    "\n",
    "    return Ttilde_NoZero, Vtilde_NoZero, ParaVec_NoZero"
   ]
  },
  {
   "cell_type": "markdown",
   "metadata": {},
   "source": [
    "Eliminate $0$ elements"
   ]
  },
  {
   "cell_type": "code",
   "execution_count": 40,
   "metadata": {},
   "outputs": [],
   "source": [
    "Ttilde, Vtilde, ParaVec = EliminateZero_1(Ttilde, Vtilde, ParaVec, FinalMarker)"
   ]
  },
  {
   "cell_type": "markdown",
   "metadata": {},
   "source": [
    "Obtain $Y$ matrix"
   ]
  },
  {
   "cell_type": "markdown",
   "metadata": {},
   "source": [
    "Define variable substitution function"
   ]
  },
  {
   "cell_type": "code",
   "execution_count": 41,
   "metadata": {},
   "outputs": [],
   "source": [
    "def Subs(Variable):\n",
    "    return (\n",
    "        Variable.subs(theta_1_t.diff(t, 2), a1)\n",
    "        .subs(theta_2_t.diff(t, 2), a2)\n",
    "        .subs(theta_1_t.diff(t), v1)\n",
    "        .subs(theta_2_t.diff(t), v2)\n",
    "        .subs(theta_1_t, theta_1)\n",
    "        .subs(theta_2_t, theta_2)\n",
    "    )"
   ]
  },
  {
   "cell_type": "markdown",
   "metadata": {},
   "source": [
    "Obtain $Y$ matrix"
   ]
  },
  {
   "cell_type": "code",
   "execution_count": 42,
   "metadata": {},
   "outputs": [
    {
     "data": {
      "text/latex": [
       "$\\displaystyle \\left[\\begin{matrix}a_{1} & g \\cos{\\left(\\theta_{1} \\right)} & a_{1} + a_{2} & 2 a_{1} l_{1} \\cos{\\left(\\theta_{2} \\right)} + a_{2} l_{1} \\cos{\\left(\\theta_{2} \\right)} + g \\cos{\\left(\\theta_{1} + \\theta_{2} \\right)} - 2 l_{1} v_{1} v_{2} \\sin{\\left(\\theta_{2} \\right)} - l_{1} v_{2}^{2} \\sin{\\left(\\theta_{2} \\right)} & l_{1} \\left(a_{1} l_{1} + g \\cos{\\left(\\theta_{1} \\right)}\\right)\\\\0 & 0 & a_{1} + a_{2} & a_{1} l_{1} \\cos{\\left(\\theta_{2} \\right)} + g \\cos{\\left(\\theta_{1} + \\theta_{2} \\right)} + l_{1} v_{1}^{2} \\sin{\\left(\\theta_{2} \\right)} & 0\\end{matrix}\\right]$"
      ],
      "text/plain": [
       "Matrix([\n",
       "[a1, g*cos(theta_1), a1 + a2, 2*a1*l1*cos(theta_2) + a2*l1*cos(theta_2) + g*cos(theta_1 + theta_2) - 2*l1*v1*v2*sin(theta_2) - l1*v2**2*sin(theta_2), l1*(a1*l1 + g*cos(theta_1))],\n",
       "[ 0,              0, a1 + a2,                                                  a1*l1*cos(theta_2) + g*cos(theta_1 + theta_2) + l1*v1**2*sin(theta_2),                           0]])"
      ]
     },
     "execution_count": 42,
     "metadata": {},
     "output_type": "execute_result"
    }
   ],
   "source": [
    "Y = p.simplify(\n",
    "    Ttilde.jacobian(p.Matrix([theta_1_t.diff(t), theta_2_t.diff(t)])).diff(t)\n",
    "    - Ttilde.jacobian(p.Matrix([theta_1_t, theta_2_t]))\n",
    "    + Vtilde.jacobian(p.Matrix([theta_1_t, theta_2_t]))\n",
    ").T\n",
    "Y = Subs(Y)\n",
    "Y"
   ]
  },
  {
   "cell_type": "markdown",
   "metadata": {},
   "source": [
    "Parameter vector $\\vec{p}$."
   ]
  },
  {
   "cell_type": "code",
   "execution_count": 43,
   "metadata": {},
   "outputs": [
    {
     "data": {
      "text/latex": [
       "$\\displaystyle \\left[\\begin{matrix}Jc_{1} + lc_{1}^{2} m_{1} & lc_{1} m_{1} & Jc_{2} + lc_{2}^{2} m_{2} & lc_{2} m_{2} & m_{2}\\end{matrix}\\right]$"
      ],
      "text/plain": [
       "Matrix([[Jc1 + lc1**2*m1, lc1*m1, Jc2 + lc2**2*m2, lc2*m2, m2]])"
      ]
     },
     "execution_count": 43,
     "metadata": {},
     "output_type": "execute_result"
    }
   ],
   "source": [
    "ParaVec.T"
   ]
  },
  {
   "cell_type": "markdown",
   "metadata": {},
   "source": [
    "Check $Y$ matrix correctness."
   ]
  },
  {
   "cell_type": "code",
   "execution_count": 44,
   "metadata": {},
   "outputs": [
    {
     "data": {
      "text/plain": [
       "True"
      ]
     },
     "execution_count": 44,
     "metadata": {},
     "output_type": "execute_result"
    }
   ],
   "source": [
    "p.simplify(\n",
    "    Y @ ParaVec\n",
    "    - M @ p.Matrix([[a1, a2]]).T\n",
    "    - h.subs(dtheta_1, v1).subs(dtheta_2, v2)\n",
    "    - G\n",
    ") == p.zeros(2, 1)"
   ]
  }
 ],
 "metadata": {
  "kernelspec": {
   "display_name": "HybridControl",
   "language": "python",
   "name": "python3"
  },
  "language_info": {
   "codemirror_mode": {
    "name": "ipython",
    "version": 3
   },
   "file_extension": ".py",
   "mimetype": "text/x-python",
   "name": "python",
   "nbconvert_exporter": "python",
   "pygments_lexer": "ipython3",
   "version": "3.10.4"
  }
 },
 "nbformat": 4,
 "nbformat_minor": 2
}
