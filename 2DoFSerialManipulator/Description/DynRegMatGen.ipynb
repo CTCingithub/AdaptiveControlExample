{
 "cells": [
  {
   "cell_type": "markdown",
   "metadata": {},
   "source": [
    "# Generate Dyanmical Regression Matrix\n"
   ]
  },
  {
   "cell_type": "markdown",
   "metadata": {},
   "source": [
    "Import Libraries\n"
   ]
  },
  {
   "cell_type": "code",
   "execution_count": 1,
   "metadata": {},
   "outputs": [],
   "source": [
    "import sympy as p\n",
    "import numpy as np\n",
    "import sys\n",
    "\n",
    "# SYMBOLIC.py is in parent directory\n",
    "sys.path.append(\"../..\")\n",
    "from SYMBOLIC import *"
   ]
  },
  {
   "cell_type": "markdown",
   "metadata": {},
   "source": [
    "## 1. Kinematics with PoE\n"
   ]
  },
  {
   "cell_type": "markdown",
   "metadata": {},
   "source": [
    "### 1.1 Variable Definitions\n"
   ]
  },
  {
   "cell_type": "markdown",
   "metadata": {},
   "source": [
    "Define time $t$ and angles.\n"
   ]
  },
  {
   "cell_type": "code",
   "execution_count": 2,
   "metadata": {},
   "outputs": [],
   "source": [
    "t = p.Symbol(\"t\")\n",
    "\n",
    "# Differentialable Variables\n",
    "theta_1_t = p.Function(\"theta_1\")(t)\n",
    "theta_2_t = p.Function(\"theta_2\")(t)\n",
    "\n",
    "# Undifferentialable Variables\n",
    "theta_1, theta_2 = p.symbols(\"theta_1 theta_2\")\n",
    "v_1, v_2 = p.symbols(\"v_1 v_2\")\n",
    "a_1, a_2 = p.symbols(\"a_1 a_2\")"
   ]
  },
  {
   "cell_type": "markdown",
   "metadata": {},
   "source": [
    "Define robot parameters.\n"
   ]
  },
  {
   "cell_type": "code",
   "execution_count": 3,
   "metadata": {},
   "outputs": [],
   "source": [
    "m1, m2, l1, l2, lc1, lc2, Jc1, Jc2, g = p.symbols(\"m1 m2 l1 l2 lc1 lc2 Jc1 Jc2 g\")\n",
    "\n",
    "# Jiang's Simulation\n",
    "l1 = 1.7\n",
    "l2 = 2.1\n",
    "g = 9.8"
   ]
  },
  {
   "cell_type": "markdown",
   "metadata": {},
   "source": [
    "Define substitution functions from differentialable variables to undifferentialable variables."
   ]
  },
  {
   "cell_type": "code",
   "execution_count": 4,
   "metadata": {},
   "outputs": [],
   "source": [
    "def ThetaT2Theta(Expression):\n",
    "    return (\n",
    "        Expression.subs(theta_1_t.diff(t, 2), a_1)\n",
    "        .subs(theta_2_t.diff(t, 2), a_2)\n",
    "        .subs(theta_1_t.diff(t), v_1)\n",
    "        .subs(theta_2_t.diff(t), v_2)\n",
    "        .subs(theta_1_t, theta_1)\n",
    "        .subs(theta_2_t, theta_2)\n",
    "    )"
   ]
  },
  {
   "cell_type": "markdown",
   "metadata": {},
   "source": [
    "Define geometric parameters. We apply **Modified D-H** notation. Noting that $\\square_{i}$ refers to $\\square$ of joint $i$, $\\square_{ci}$ refers to $\\square$ of rod $i$.\n"
   ]
  },
  {
   "cell_type": "code",
   "execution_count": 5,
   "metadata": {},
   "outputs": [],
   "source": [
    "# Joint DH Parameters\n",
    "x0, x1, x2 = p.symbols(\"x_0 x_1 x_2\")\n",
    "y0, y1, y2 = p.symbols(\"y_0 y_1 y_2\")\n",
    "z0, z1, z2 = p.symbols(\"z_0 z_1 z_2\")\n",
    "\n",
    "# Link CoM Parameters\n",
    "xc1, xc2 = p.symbols(\"x_c1 x_c2\")\n",
    "yc1, yc2 = p.symbols(\"y_c1 y_c2\")\n",
    "zc1, zc2 = p.symbols(\"z_c1 z_c2\")"
   ]
  },
  {
   "cell_type": "markdown",
   "metadata": {},
   "source": [
    "From the configuration, we got"
   ]
  },
  {
   "cell_type": "code",
   "execution_count": 6,
   "metadata": {},
   "outputs": [],
   "source": [
    "# Joint Parameters\n",
    "x0, y0, z0 = 0, 0, 0\n",
    "x1, y1, z1 = 0, 0, 0\n",
    "x2, y2, z2 = l1, 0, 0\n",
    "\n",
    "# CoM Parameters\n",
    "xc1, yc1, zc1 = lc1, 0, 0\n",
    "xc2, yc2, zc2 = lc2, 0, 0\n",
    "\n",
    "# RPY Angles\n",
    "RPY_0_1 = [0, 0, 0]\n",
    "RPY_1_2 = [0, 0, 0]\n",
    "RPY_1_c1 = [0, 0, 0]\n",
    "RPY_2_c2 = [0, 0, 0]"
   ]
  },
  {
   "cell_type": "markdown",
   "metadata": {},
   "source": [
    "### 1.2 Forward Kinematics\n"
   ]
  },
  {
   "cell_type": "markdown",
   "metadata": {},
   "source": [
    "Transformation matrixes at $\\vec{0}$. `T_i_j_0` refers to $T_{i}^{j} (\\vec{0}) $.\n"
   ]
  },
  {
   "cell_type": "code",
   "execution_count": 7,
   "metadata": {},
   "outputs": [],
   "source": [
    "T_1_0_0 = Translation_4x4(p.Matrix([x1, y1, z1])) @ Rotation_RPY_4x4(RPY_0_1)\n",
    "T_2_1_0 = Translation_4x4(p.Matrix([x2, y2, z2])) @ Rotation_RPY_4x4(RPY_1_2)"
   ]
  },
  {
   "cell_type": "markdown",
   "metadata": {},
   "source": [
    "Joint positions at $\\vec{0}$."
   ]
  },
  {
   "cell_type": "code",
   "execution_count": 8,
   "metadata": {},
   "outputs": [],
   "source": [
    "def Position(Transformation_i_j, P_i=p.Matrix([0, 0, 0, 1])):\n",
    "    return (Transformation_i_j @ P_i)[:3, :]\n",
    "\n",
    "\n",
    "T_1_0_0 = T_1_0_0\n",
    "T_2_0_0 = T_1_0_0 @ T_2_1_0\n",
    "\n",
    "r_1_0 = Position(T_1_0_0)\n",
    "r_2_0 = Position(T_2_0_0)"
   ]
  },
  {
   "cell_type": "markdown",
   "metadata": {},
   "source": [
    "Joint poses at $\\vec{0}$."
   ]
  },
  {
   "cell_type": "code",
   "execution_count": 9,
   "metadata": {},
   "outputs": [],
   "source": [
    "omega_1_0 = p.Matrix([0, 0, 1]).reshape(3, 1)\n",
    "omega_2_0 = Rotation_RPY_4x4(RPY_1_2)[:3, :3] @ omega_1_0"
   ]
  },
  {
   "cell_type": "markdown",
   "metadata": {},
   "source": [
    "Joint unitary twists at $\\vec{0}$."
   ]
  },
  {
   "cell_type": "code",
   "execution_count": 10,
   "metadata": {},
   "outputs": [],
   "source": [
    "xi_1_0 = Joint2Twist(omega_1_0, r_1_0)\n",
    "xi_2_0 = Joint2Twist(omega_2_0, r_2_0)"
   ]
  },
  {
   "cell_type": "markdown",
   "metadata": {},
   "source": [
    "Transformation matrixes at $\\vec{\\theta}$ computed with PoE.\n"
   ]
  },
  {
   "cell_type": "code",
   "execution_count": 11,
   "metadata": {},
   "outputs": [],
   "source": [
    "T_1_0 = MatrixExp_4x4(xi_1_0, theta_1_t) @ T_1_0_0\n",
    "T_2_0 = MatrixExp_4x4(xi_1_0, theta_1_t) @ MatrixExp_4x4(xi_2_0, theta_2_t) @ T_2_0_0"
   ]
  },
  {
   "cell_type": "markdown",
   "metadata": {},
   "source": [
    "Joint positions and poses at $\\vec{\\theta}$."
   ]
  },
  {
   "cell_type": "code",
   "execution_count": 12,
   "metadata": {},
   "outputs": [],
   "source": [
    "# Positions\n",
    "r_1 = Position(T_1_0)\n",
    "r_2 = Position(T_2_0)\n",
    "\n",
    "# Poses\n",
    "omega_1 = p.simplify(MatrixExp_3x3(omega_1_0, theta_1_t) @ omega_1_0)\n",
    "omega_2 = p.simplify(\n",
    "    MatrixExp_3x3(omega_1_0, theta_1_t)\n",
    "    @ MatrixExp_3x3(omega_2_0, theta_2_t)\n",
    "    @ omega_2_0\n",
    ")"
   ]
  },
  {
   "cell_type": "markdown",
   "metadata": {},
   "source": [
    "Spatial velocities at $\\vec{\\theta}$.\n"
   ]
  },
  {
   "cell_type": "code",
   "execution_count": 13,
   "metadata": {},
   "outputs": [],
   "source": [
    "SpatialVelocity_Rot_1 = p.simplify(omega_1 * theta_1_t.diff(t))\n",
    "SpatialVelocity_Rot_2 = p.simplify(\n",
    "    omega_1 * theta_1_t.diff(t) + omega_2 * theta_2_t.diff(t)\n",
    ")\n",
    "SpatialVelocity_Trans_1 = p.simplify(p.simplify(r_1).diff(t))\n",
    "SpatialVelocity_Trans_2 = p.simplify(p.simplify(r_2).diff(t))\n",
    "\n",
    "SpatialVelocity_1 = SpatialVelocity_Rot_1.col_join(SpatialVelocity_Trans_1)\n",
    "SpatialVelocity_2 = SpatialVelocity_Rot_2.col_join(SpatialVelocity_Trans_2)"
   ]
  },
  {
   "cell_type": "markdown",
   "metadata": {},
   "source": [
    "## 2. Dynamical Regression Matrix\n"
   ]
  },
  {
   "cell_type": "markdown",
   "metadata": {},
   "source": [
    "Dynamical parameter vectors $\\vec{p}_{i}$.\n"
   ]
  },
  {
   "cell_type": "code",
   "execution_count": 14,
   "metadata": {},
   "outputs": [],
   "source": [
    "p_1 = p.Matrix(\n",
    "    [\n",
    "        Jc1 / 2 + m1 * (yc1**2 + zc1**2),\n",
    "        -(0 + m1 * xc1 * yc1),\n",
    "        -(0 + m1 * xc1 * zc1),\n",
    "        Jc1 / 2 + m1 * (xc1**2 + zc1**2),\n",
    "        -(0 + m1 * yc1 * zc1),\n",
    "        Jc1 + m1 * (xc1**2 + yc1**2),\n",
    "        m1 * xc1,\n",
    "        m1 * yc1,\n",
    "        m1 * zc1,\n",
    "        m1,\n",
    "    ]\n",
    ").reshape(10, 1)\n",
    "p_2 = p.Matrix(\n",
    "    [\n",
    "        Jc2 / 2 + m2 * (yc2**2 + zc2**2),\n",
    "        -(0 + m2 * xc2 * yc2),\n",
    "        -(0 + m2 * xc2 * zc2),\n",
    "        Jc2 / 2 + m2 * (xc2**2 + zc2**2),\n",
    "        -(0 + m2 * yc2 * zc2),\n",
    "        Jc2 + m2 * (xc2**2 + yc2**2),\n",
    "        m2 * xc2,\n",
    "        m2 * yc2,\n",
    "        m2 * zc2,\n",
    "        m2,\n",
    "    ]\n",
    ").reshape(10, 1)"
   ]
  },
  {
   "cell_type": "markdown",
   "metadata": {},
   "source": [
    "$\\tilde{T}^{i}$ s.\n"
   ]
  },
  {
   "cell_type": "code",
   "execution_count": 15,
   "metadata": {},
   "outputs": [],
   "source": [
    "Ttilde_1 = p.simplify(Ttilde_10x1(SpatialVelocity_1, T_1_0))\n",
    "Ttilde_2 = p.simplify(Ttilde_10x1(SpatialVelocity_2, T_2_0))"
   ]
  },
  {
   "cell_type": "markdown",
   "metadata": {},
   "source": [
    "Verify $\\tilde{T}^{i}$ s.\n"
   ]
  },
  {
   "cell_type": "code",
   "execution_count": 16,
   "metadata": {},
   "outputs": [
    {
     "data": {
      "text/latex": [
       "$\\displaystyle \\left[\\begin{matrix}1.7 lc_{2} m_{2} v_{1} \\left(v_{1} + v_{2}\\right) \\cos{\\left(\\theta_{2} \\right)} + 1.445 m_{2} v_{1}^{2} + \\frac{\\left(Jc_{2} + lc_{2}^{2} m_{2}\\right) \\left(v_{1} + v_{2}\\right)^{2}}{2}\\end{matrix}\\right]$"
      ],
      "text/plain": [
       "Matrix([[1.7*lc2*m2*v_1*(v_1 + v_2)*cos(theta_2) + 1.445*m2*v_1**2 + (Jc2 + lc2**2*m2)*(v_1 + v_2)**2/2]])"
      ]
     },
     "execution_count": 16,
     "metadata": {},
     "output_type": "execute_result"
    }
   ],
   "source": [
    "p.simplify(ThetaT2Theta(Ttilde_2.T @ p_2))"
   ]
  },
  {
   "cell_type": "markdown",
   "metadata": {},
   "source": [
    "$\\tilde{V}^{i}$ s.\n"
   ]
  },
  {
   "cell_type": "code",
   "execution_count": 17,
   "metadata": {},
   "outputs": [],
   "source": [
    "Vtilde_1 = p.simplify(Vtilde_10x1(r_1, p.Matrix([0, -g, 0]).reshape(3, 1), T_1_0))\n",
    "Vtilde_2 = p.simplify(Vtilde_10x1(r_2, p.Matrix([0, -g, 0]).reshape(3, 1), T_2_0))"
   ]
  },
  {
   "cell_type": "markdown",
   "metadata": {},
   "source": [
    "Verify $\\tilde{V}^{i}$ s.\n"
   ]
  },
  {
   "cell_type": "code",
   "execution_count": 18,
   "metadata": {},
   "outputs": [
    {
     "data": {
      "text/latex": [
       "$\\displaystyle \\left[\\begin{matrix}m_{2} \\cdot \\left(9.8 lc_{2} \\sin{\\left(\\theta_{1} + \\theta_{2} \\right)} + 16.66 \\sin{\\left(\\theta_{1} \\right)}\\right)\\end{matrix}\\right]$"
      ],
      "text/plain": [
       "Matrix([[m2*(9.8*lc2*sin(theta_1 + theta_2) + 16.66*sin(theta_1))]])"
      ]
     },
     "execution_count": 18,
     "metadata": {},
     "output_type": "execute_result"
    }
   ],
   "source": [
    "p.simplify(ThetaT2Theta(Vtilde_2.T @ p_2))"
   ]
  },
  {
   "cell_type": "markdown",
   "metadata": {},
   "source": [
    "$\\tilde{T}$ and $\\tilde{V}$.\n"
   ]
  },
  {
   "cell_type": "code",
   "execution_count": 19,
   "metadata": {},
   "outputs": [],
   "source": [
    "Ttilde = Ttilde_1.col_join(Ttilde_2)\n",
    "Vtilde = Vtilde_1.col_join(Vtilde_2)"
   ]
  },
  {
   "cell_type": "markdown",
   "metadata": {},
   "source": [
    "Define $\\vec{\\theta}$ and $\\vec{\\dot{\\theta}}$.\n"
   ]
  },
  {
   "cell_type": "code",
   "execution_count": 20,
   "metadata": {},
   "outputs": [],
   "source": [
    "theta = p.Matrix([theta_1_t, theta_2_t])\n",
    "theta_dot = p.Matrix([theta_1_t.diff(t), theta_2_t.diff(t)])"
   ]
  },
  {
   "cell_type": "markdown",
   "metadata": {},
   "source": [
    "Dynamical regression matrix $Y_{\\text{Full}}$.\n"
   ]
  },
  {
   "cell_type": "code",
   "execution_count": 21,
   "metadata": {},
   "outputs": [
    {
     "data": {
      "text/latex": [
       "$\\displaystyle \\left[\\begin{array}{cccccccccccccccccccc}0 & 0 & 0 & 0 & 0 & 0 & 0 & 0 & 0 & 0 & a_{1} & 0 & 9.8 \\cos{\\left(\\theta_{1} \\right)} & 0 & - 9.8 \\sin{\\left(\\theta_{1} \\right)} & 0 & 0 & 0 & 0 & 0\\\\0 & 0 & 0 & 0 & 0 & 0 & 0 & 0 & 0 & 0 & a_{1} + a_{2} & a_{1} + a_{2} & 3.4 a_{1} \\cos{\\left(\\theta_{2} \\right)} + 1.7 a_{2} \\cos{\\left(\\theta_{2} \\right)} - 3.4 v_{1} v_{2} \\sin{\\left(\\theta_{2} \\right)} - 1.7 v_{2}^{2} \\sin{\\left(\\theta_{2} \\right)} + 9.8 \\cos{\\left(\\theta_{1} + \\theta_{2} \\right)} & 1.7 a_{1} \\cos{\\left(\\theta_{2} \\right)} + 1.7 v_{1}^{2} \\sin{\\left(\\theta_{2} \\right)} + 9.8 \\cos{\\left(\\theta_{1} + \\theta_{2} \\right)} & - 3.4 a_{1} \\sin{\\left(\\theta_{2} \\right)} - 1.7 a_{2} \\sin{\\left(\\theta_{2} \\right)} - 3.4 v_{1} v_{2} \\cos{\\left(\\theta_{2} \\right)} - 1.7 v_{2}^{2} \\cos{\\left(\\theta_{2} \\right)} - 9.8 \\sin{\\left(\\theta_{1} + \\theta_{2} \\right)} & - 1.7 a_{1} \\sin{\\left(\\theta_{2} \\right)} + 1.7 v_{1}^{2} \\cos{\\left(\\theta_{2} \\right)} - 9.8 \\sin{\\left(\\theta_{1} + \\theta_{2} \\right)} & 0 & 0 & 2.89 a_{1} + 16.66 \\cos{\\left(\\theta_{1} \\right)} & 0\\end{array}\\right]$"
      ],
      "text/plain": [
       "Matrix([\n",
       "[0, 0, 0, 0, 0, 0, 0, 0, 0, 0,       a_1,         0,                                                                                                              9.8*cos(theta_1),                                                                           0,                                                                                                              -9.8*sin(theta_1),                                                                            0, 0, 0,                             0, 0],\n",
       "[0, 0, 0, 0, 0, 0, 0, 0, 0, 0, a_1 + a_2, a_1 + a_2, 3.4*a_1*cos(theta_2) + 1.7*a_2*cos(theta_2) - 3.4*v_1*v_2*sin(theta_2) - 1.7*v_2**2*sin(theta_2) + 9.8*cos(theta_1 + theta_2), 1.7*a_1*cos(theta_2) + 1.7*v_1**2*sin(theta_2) + 9.8*cos(theta_1 + theta_2), -3.4*a_1*sin(theta_2) - 1.7*a_2*sin(theta_2) - 3.4*v_1*v_2*cos(theta_2) - 1.7*v_2**2*cos(theta_2) - 9.8*sin(theta_1 + theta_2), -1.7*a_1*sin(theta_2) + 1.7*v_1**2*cos(theta_2) - 9.8*sin(theta_1 + theta_2), 0, 0, 2.89*a_1 + 16.66*cos(theta_1), 0]])"
      ]
     },
     "execution_count": 21,
     "metadata": {},
     "output_type": "execute_result"
    }
   ],
   "source": [
    "Y_Full = p.simplify(\n",
    "    ThetaT2Theta(\n",
    "        VecDiff(Ttilde, theta_dot).diff(t)\n",
    "        - VecDiff(Ttilde, theta)\n",
    "        + VecDiff(Vtilde, theta)\n",
    "    )\n",
    ")\n",
    "Y_Full"
   ]
  },
  {
   "cell_type": "markdown",
   "metadata": {},
   "source": [
    "Remove zero columns in $Y_{\\text{Full}}$ to get $Y$.\n"
   ]
  },
  {
   "cell_type": "code",
   "execution_count": 32,
   "metadata": {},
   "outputs": [
    {
     "name": "stdout",
     "output_type": "stream",
     "text": [
      "Y's shape is (2, 7)\n"
     ]
    },
    {
     "data": {
      "text/latex": [
       "$\\displaystyle \\left[\\begin{matrix}a_{1} & 0 & 9.8 \\cos{\\left(\\theta_{1} \\right)} & 0 & - 9.8 \\sin{\\left(\\theta_{1} \\right)} & 0 & 0\\\\a_{1} + a_{2} & a_{1} + a_{2} & 3.4 a_{1} \\cos{\\left(\\theta_{2} \\right)} + 1.7 a_{2} \\cos{\\left(\\theta_{2} \\right)} - 3.4 v_{1} v_{2} \\sin{\\left(\\theta_{2} \\right)} - 1.7 v_{2}^{2} \\sin{\\left(\\theta_{2} \\right)} + 9.8 \\cos{\\left(\\theta_{1} + \\theta_{2} \\right)} & 1.7 a_{1} \\cos{\\left(\\theta_{2} \\right)} + 1.7 v_{1}^{2} \\sin{\\left(\\theta_{2} \\right)} + 9.8 \\cos{\\left(\\theta_{1} + \\theta_{2} \\right)} & - 3.4 a_{1} \\sin{\\left(\\theta_{2} \\right)} - 1.7 a_{2} \\sin{\\left(\\theta_{2} \\right)} - 3.4 v_{1} v_{2} \\cos{\\left(\\theta_{2} \\right)} - 1.7 v_{2}^{2} \\cos{\\left(\\theta_{2} \\right)} - 9.8 \\sin{\\left(\\theta_{1} + \\theta_{2} \\right)} & - 1.7 a_{1} \\sin{\\left(\\theta_{2} \\right)} + 1.7 v_{1}^{2} \\cos{\\left(\\theta_{2} \\right)} - 9.8 \\sin{\\left(\\theta_{1} + \\theta_{2} \\right)} & 2.89 a_{1} + 16.66 \\cos{\\left(\\theta_{1} \\right)}\\end{matrix}\\right]$"
      ],
      "text/plain": [
       "Matrix([\n",
       "[      a_1,         0,                                                                                                              9.8*cos(theta_1),                                                                           0,                                                                                                              -9.8*sin(theta_1),                                                                            0,                             0],\n",
       "[a_1 + a_2, a_1 + a_2, 3.4*a_1*cos(theta_2) + 1.7*a_2*cos(theta_2) - 3.4*v_1*v_2*sin(theta_2) - 1.7*v_2**2*sin(theta_2) + 9.8*cos(theta_1 + theta_2), 1.7*a_1*cos(theta_2) + 1.7*v_1**2*sin(theta_2) + 9.8*cos(theta_1 + theta_2), -3.4*a_1*sin(theta_2) - 1.7*a_2*sin(theta_2) - 3.4*v_1*v_2*cos(theta_2) - 1.7*v_2**2*cos(theta_2) - 9.8*sin(theta_1 + theta_2), -1.7*a_1*sin(theta_2) + 1.7*v_1**2*cos(theta_2) - 9.8*sin(theta_1 + theta_2), 2.89*a_1 + 16.66*cos(theta_1)]])"
      ]
     },
     "execution_count": 32,
     "metadata": {},
     "output_type": "execute_result"
    }
   ],
   "source": [
    "cols = [\n",
    "    i for i in range(Y_Full.shape[1]) if Y_Full[:, i] != p.zeros(Y_Full.shape[0], 1)\n",
    "]\n",
    "Y = Y_Full[:, cols]\n",
    "print(\"Y's shape is\", Y.shape)\n",
    "Y"
   ]
  },
  {
   "cell_type": "markdown",
   "metadata": {},
   "source": [
    "Dynamical regression vector $\\vec{y}$.\n"
   ]
  },
  {
   "cell_type": "code",
   "execution_count": 23,
   "metadata": {},
   "outputs": [
    {
     "data": {
      "text/latex": [
       "$\\displaystyle \\left[\\begin{matrix}a_{1}\\\\0\\\\9.8 \\cos{\\left(\\theta_{1} \\right)}\\\\0\\\\- 9.8 \\sin{\\left(\\theta_{1} \\right)}\\\\0\\\\0\\\\a_{1} + a_{2}\\\\a_{1} + a_{2}\\\\3.4 a_{1} \\cos{\\left(\\theta_{2} \\right)} + 1.7 a_{2} \\cos{\\left(\\theta_{2} \\right)} - 3.4 v_{1} v_{2} \\sin{\\left(\\theta_{2} \\right)} - 1.7 v_{2}^{2} \\sin{\\left(\\theta_{2} \\right)} + 9.8 \\cos{\\left(\\theta_{1} + \\theta_{2} \\right)}\\\\1.7 a_{1} \\cos{\\left(\\theta_{2} \\right)} + 1.7 v_{1}^{2} \\sin{\\left(\\theta_{2} \\right)} + 9.8 \\cos{\\left(\\theta_{1} + \\theta_{2} \\right)}\\\\- 3.4 a_{1} \\sin{\\left(\\theta_{2} \\right)} - 1.7 a_{2} \\sin{\\left(\\theta_{2} \\right)} - 3.4 v_{1} v_{2} \\cos{\\left(\\theta_{2} \\right)} - 1.7 v_{2}^{2} \\cos{\\left(\\theta_{2} \\right)} - 9.8 \\sin{\\left(\\theta_{1} + \\theta_{2} \\right)}\\\\- 1.7 a_{1} \\sin{\\left(\\theta_{2} \\right)} + 1.7 v_{1}^{2} \\cos{\\left(\\theta_{2} \\right)} - 9.8 \\sin{\\left(\\theta_{1} + \\theta_{2} \\right)}\\\\2.89 a_{1} + 16.66 \\cos{\\left(\\theta_{1} \\right)}\\end{matrix}\\right]$"
      ],
      "text/plain": [
       "Matrix([\n",
       "[                                                                                                                           a_1],\n",
       "[                                                                                                                             0],\n",
       "[                                                                                                              9.8*cos(theta_1)],\n",
       "[                                                                                                                             0],\n",
       "[                                                                                                             -9.8*sin(theta_1)],\n",
       "[                                                                                                                             0],\n",
       "[                                                                                                                             0],\n",
       "[                                                                                                                     a_1 + a_2],\n",
       "[                                                                                                                     a_1 + a_2],\n",
       "[ 3.4*a_1*cos(theta_2) + 1.7*a_2*cos(theta_2) - 3.4*v_1*v_2*sin(theta_2) - 1.7*v_2**2*sin(theta_2) + 9.8*cos(theta_1 + theta_2)],\n",
       "[                                                   1.7*a_1*cos(theta_2) + 1.7*v_1**2*sin(theta_2) + 9.8*cos(theta_1 + theta_2)],\n",
       "[-3.4*a_1*sin(theta_2) - 1.7*a_2*sin(theta_2) - 3.4*v_1*v_2*cos(theta_2) - 1.7*v_2**2*cos(theta_2) - 9.8*sin(theta_1 + theta_2)],\n",
       "[                                                  -1.7*a_1*sin(theta_2) + 1.7*v_1**2*cos(theta_2) - 9.8*sin(theta_1 + theta_2)],\n",
       "[                                                                                                 2.89*a_1 + 16.66*cos(theta_1)]])"
      ]
     },
     "execution_count": 23,
     "metadata": {},
     "output_type": "execute_result"
    }
   ],
   "source": [
    "y = Y.reshape(Y.shape[0] * Y.shape[1], 1)\n",
    "y"
   ]
  },
  {
   "cell_type": "markdown",
   "metadata": {},
   "source": [
    "Generate MATLAB function.\n"
   ]
  },
  {
   "cell_type": "code",
   "execution_count": 24,
   "metadata": {},
   "outputs": [],
   "source": [
    "import os"
   ]
  },
  {
   "cell_type": "code",
   "execution_count": 25,
   "metadata": {},
   "outputs": [],
   "source": [
    "CreateMatlabFunction(\n",
    "    os.path.dirname(os.getcwd()) + \"\\\\utils\\\\DynRegVec\",\n",
    "    \"DynRegVec\",\n",
    "    y,\n",
    "    [theta_1, theta_2, v_1, v_2, a_1, a_2],\n",
    ")"
   ]
  }
 ],
 "metadata": {
  "kernelspec": {
   "display_name": "DataDriven",
   "language": "python",
   "name": "python3"
  },
  "language_info": {
   "codemirror_mode": {
    "name": "ipython",
    "version": 3
   },
   "file_extension": ".py",
   "mimetype": "text/x-python",
   "name": "python",
   "nbconvert_exporter": "python",
   "pygments_lexer": "ipython3",
   "version": "3.10.4"
  }
 },
 "nbformat": 4,
 "nbformat_minor": 4
}
