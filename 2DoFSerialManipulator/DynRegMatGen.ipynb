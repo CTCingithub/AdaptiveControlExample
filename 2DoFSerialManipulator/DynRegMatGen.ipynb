{
 "cells": [
  {
   "cell_type": "markdown",
   "metadata": {},
   "source": [
    "# Generate Dyanmical Regression Matrix\n"
   ]
  },
  {
   "cell_type": "markdown",
   "metadata": {},
   "source": [
    "Import Libraries\n"
   ]
  },
  {
   "cell_type": "code",
   "execution_count": 1,
   "metadata": {},
   "outputs": [],
   "source": [
    "import sympy as p\n",
    "import numpy as np\n",
    "import sys\n",
    "\n",
    "# SYMBOLIC.py is in parent directory\n",
    "sys.path.append(\"..\")\n",
    "from SYMBOLIC import *"
   ]
  },
  {
   "cell_type": "markdown",
   "metadata": {},
   "source": [
    "## 1. Kinematics with PoE\n"
   ]
  },
  {
   "cell_type": "markdown",
   "metadata": {},
   "source": [
    "### 1.1 Variable Definitions\n"
   ]
  },
  {
   "cell_type": "markdown",
   "metadata": {},
   "source": [
    "Define time $t$ and angles.\n"
   ]
  },
  {
   "cell_type": "code",
   "execution_count": 2,
   "metadata": {},
   "outputs": [],
   "source": [
    "t = p.Symbol(\"t\")\n",
    "\n",
    "# Differentialable Variables\n",
    "theta_1_t = p.Function(\"theta_1\")(t)\n",
    "theta_2_t = p.Function(\"theta_2\")(t)\n",
    "\n",
    "# Undifferentialable Variables\n",
    "theta_1, theta_2 = p.symbols(\"theta_1 theta_2\")\n",
    "dtheta_1, dtheta_2 = p.symbols(\"dtheta_1 dtheta_2\")"
   ]
  },
  {
   "cell_type": "markdown",
   "metadata": {},
   "source": [
    "Define robot parameters.\n"
   ]
  },
  {
   "cell_type": "code",
   "execution_count": 3,
   "metadata": {},
   "outputs": [],
   "source": [
    "m1, m2, l1, l2, lc1, lc2, Jc1, Jc2, g = p.symbols(\"m1 m2 l1 l2 lc1 lc2 Jc1 Jc2 g\")"
   ]
  },
  {
   "cell_type": "markdown",
   "metadata": {},
   "source": [
    "Define substitution functions from differentialable variables to undifferentialable variables."
   ]
  },
  {
   "cell_type": "code",
   "execution_count": 15,
   "metadata": {},
   "outputs": [],
   "source": [
    "def ThetaT2Theta(Expression):\n",
    "    return (\n",
    "        Expression.subs(theta_1_t.diff(t), dtheta_1)\n",
    "        .subs(theta_2_t.diff(t), dtheta_2)\n",
    "        .subs(theta_1_t, theta_1)\n",
    "        .subs(theta_2_t, theta_2)\n",
    "    )\n",
    "\n",
    "\n",
    "def Theta2ThetaT(Expression):\n",
    "    return Expression.subs(theta_1, theta_1_t).subs(theta_2, theta_2_t)"
   ]
  },
  {
   "cell_type": "markdown",
   "metadata": {},
   "source": [
    "Define geometric parameters. We apply **Modified D-H** notation. Noting that $\\square_{i}$ refers to $\\square$ of joint $i$, $\\square_{ci}$ refers to $\\square$ of rod $i$.\n"
   ]
  },
  {
   "cell_type": "code",
   "execution_count": 5,
   "metadata": {},
   "outputs": [],
   "source": [
    "# Joint DH Parameters\n",
    "x0, x1, x2 = p.symbols(\"x_0 x_1 x_2\")\n",
    "y0, y1, y2 = p.symbols(\"y_0 y_1 y_2\")\n",
    "z0, z1, z2 = p.symbols(\"z_0 z_1 z_2\")\n",
    "\n",
    "# Link CoM Parameters\n",
    "xc1, xc2 = p.symbols(\"x_c1 x_c2\")\n",
    "yc1, yc2 = p.symbols(\"y_c1 y_c2\")\n",
    "zc1, zc2 = p.symbols(\"z_c1 z_c2\")"
   ]
  },
  {
   "cell_type": "markdown",
   "metadata": {},
   "source": [
    "From the configuration, we got"
   ]
  },
  {
   "cell_type": "code",
   "execution_count": 6,
   "metadata": {},
   "outputs": [],
   "source": [
    "# Joint Parameters\n",
    "x0, y0, z0 = 0, 0, 0\n",
    "x1, y1, z1 = 0, 0, 0\n",
    "x2, y2, z2 = l1, 0, 0\n",
    "\n",
    "# CoM Parameters\n",
    "xc1, yc1, zc1 = lc1, 0, 0\n",
    "xc2, yc2, zc2 = lc2, 0, 0\n",
    "\n",
    "# RPY Angles\n",
    "RPY_0_1 = [0, 0, 0]\n",
    "RPY_1_2 = [0, 0, 0]\n",
    "RPY_1_c1 = [0, 0, 0]\n",
    "RPY_2_c2 = [0, 0, 0]"
   ]
  },
  {
   "cell_type": "markdown",
   "metadata": {},
   "source": [
    "### 1.2 Forward Kinematics\n"
   ]
  },
  {
   "cell_type": "markdown",
   "metadata": {},
   "source": [
    "Transformation matrixes at $\\vec{0}$. `T_i_j_0` refers to $T_{i}^{j} (\\vec{0}) $.\n"
   ]
  },
  {
   "cell_type": "code",
   "execution_count": 7,
   "metadata": {},
   "outputs": [],
   "source": [
    "T_1_0_0 = Translation_4x4(p.Matrix([x1, y1, z1])) @ Rotation_RPY_4x4(RPY_0_1)\n",
    "T_2_1_0 = Translation_4x4(p.Matrix([x2, y2, z2])) @ Rotation_RPY_4x4(RPY_1_2)\n",
    "T_c1_1_0 = Translation_4x4(p.Matrix([xc1, yc1, zc1])) @ Rotation_RPY_4x4(RPY_1_c1)\n",
    "T_c2_2_0 = Translation_4x4(p.Matrix([xc2, yc2, zc2])) @ Rotation_RPY_4x4(RPY_2_c2)"
   ]
  },
  {
   "cell_type": "markdown",
   "metadata": {},
   "source": [
    "Joint positions at $\\vec{0}$."
   ]
  },
  {
   "cell_type": "code",
   "execution_count": 8,
   "metadata": {},
   "outputs": [],
   "source": [
    "def Position(Transformation_i_j, P_i=p.Matrix([0, 0, 0, 1])):\n",
    "    return (Transformation_i_j @ P_i)[:3, :]\n",
    "\n",
    "\n",
    "T_1_0_0 = T_1_0_0\n",
    "T_2_0_0 = T_1_0_0 @ T_2_1_0\n",
    "T_c1_0_0 = T_1_0_0 @ T_c1_1_0\n",
    "T_c2_0_0 = T_2_0_0 @ T_c2_2_0\n",
    "\n",
    "r_1_0 = Position(T_1_0_0)\n",
    "r_2_0 = Position(T_2_0_0)\n",
    "r_c1_0 = Position(T_c1_0_0)\n",
    "r_c2_0 = Position(T_c2_0_0)"
   ]
  },
  {
   "cell_type": "markdown",
   "metadata": {},
   "source": [
    "Joint poses at $\\vec{0}$."
   ]
  },
  {
   "cell_type": "code",
   "execution_count": 9,
   "metadata": {},
   "outputs": [],
   "source": [
    "omega_1_0 = p.Matrix([0, 0, 1]).reshape(3, 1)\n",
    "omega_2_0 = Rotation_RPY_4x4(RPY_1_2)[:3, :3] @ omega_1_0"
   ]
  },
  {
   "cell_type": "markdown",
   "metadata": {},
   "source": [
    "Joint unitary twists at $\\vec{0}$."
   ]
  },
  {
   "cell_type": "code",
   "execution_count": 10,
   "metadata": {},
   "outputs": [],
   "source": [
    "xi_1_0 = Joint2Twist(omega_1_0, r_1_0)\n",
    "xi_2_0 = Joint2Twist(omega_2_0, r_2_0)"
   ]
  },
  {
   "cell_type": "markdown",
   "metadata": {},
   "source": [
    "Transformation matrixes at $\\vec{\\theta}$ computed with PoE.\n"
   ]
  },
  {
   "cell_type": "code",
   "execution_count": 11,
   "metadata": {},
   "outputs": [],
   "source": [
    "T_1_0 = MatrixExp_4x4(xi_1_0, theta_1_t) @ T_1_0_0\n",
    "T_2_0 = MatrixExp_4x4(xi_1_0, theta_1_t) @ MatrixExp_4x4(xi_2_0, theta_2_t) @ T_2_0_0\n",
    "T_c1_0 = MatrixExp_4x4(xi_1_0, theta_1_t) @ T_c1_0_0\n",
    "T_c2_0 = MatrixExp_4x4(xi_1_0, theta_1_t) @ MatrixExp_4x4(xi_2_0, theta_2_t) @ T_c2_0_0"
   ]
  },
  {
   "cell_type": "markdown",
   "metadata": {},
   "source": [
    "Joint positions and poses at $\\vec{\\theta}$."
   ]
  },
  {
   "cell_type": "code",
   "execution_count": 21,
   "metadata": {},
   "outputs": [],
   "source": [
    "# Positions\n",
    "r_1 = Position(T_1_0)\n",
    "r_2 = Position(T_2_0)\n",
    "\n",
    "# Poses\n",
    "omega_1 = p.simplify(MatrixExp_3x3(omega_1_0, theta_1_t) @ omega_1_0)\n",
    "omega_2 = p.simplify(\n",
    "    MatrixExp_3x3(omega_1_0, theta_1_t)\n",
    "    @ MatrixExp_3x3(omega_2_0, theta_2_t)\n",
    "    @ omega_2_0\n",
    ")"
   ]
  },
  {
   "cell_type": "markdown",
   "metadata": {},
   "source": [
    "Joint velocities at $\\vec{\\theta}$.\n"
   ]
  },
  {
   "cell_type": "code",
   "execution_count": 17,
   "metadata": {},
   "outputs": [],
   "source": [
    "v_1 = ThetaT2Theta(p.simplify(r_1).diff(t))\n",
    "v_2 = ThetaT2Theta(p.simplify(r_2).diff(t))"
   ]
  },
  {
   "cell_type": "markdown",
   "metadata": {},
   "source": [
    "## 2. Dynamical Regression Matrix\n"
   ]
  },
  {
   "cell_type": "code",
   "execution_count": 53,
   "metadata": {},
   "outputs": [
    {
     "data": {
      "text/latex": [
       "$\\displaystyle \\left[\\begin{matrix}0 & 0 & 0 & 0 & 0 & 0.5 & dtheta_{1} l_{1} \\cos{\\left(\\theta_{2} \\right)} & - dtheta_{1} l_{1} \\sin{\\left(\\theta_{2} \\right)} & 0 & 0.5 dtheta_{1}^{2} l_{1}^{2}\\end{matrix}\\right]$"
      ],
      "text/plain": [
       "Matrix([[0, 0, 0, 0, 0, 0.5, dtheta_1*l1*cos(theta_2), -dtheta_1*l1*sin(theta_2), 0, 0.5*dtheta_1**2*l1**2]])"
      ]
     },
     "execution_count": 53,
     "metadata": {},
     "output_type": "execute_result"
    }
   ],
   "source": [
    "def Ttilde_10x1(OmegaVec, VVec, TransformationMat):\n",
    "    return ThetaT2Theta(\n",
    "        (1 / 2 * OmegaVec.T @ KMatrix_3x6(OmegaVec))\n",
    "        .row_join(VVec.T @ Vector2Matrix_3x3(OmegaVec) @ TransformationMat[:3, :3])\n",
    "        .row_join(1 / 2 * VVec.T @ VVec)\n",
    "    ).T\n",
    "\n",
    "\n",
    "p.simplify(Ttilde_10x1(omega_2, v_2, T_2_0)).T"
   ]
  },
  {
   "cell_type": "code",
   "execution_count": 54,
   "metadata": {},
   "outputs": [
    {
     "data": {
      "text/latex": [
       "$\\displaystyle \\left[\\begin{matrix}0 & 0 & 0 & 0 & 0 & 0 & 0 & 0 & g & 0\\end{matrix}\\right]$"
      ],
      "text/plain": [
       "Matrix([[0, 0, 0, 0, 0, 0, 0, 0, g, 0]])"
      ]
     },
     "execution_count": 54,
     "metadata": {},
     "output_type": "execute_result"
    }
   ],
   "source": [
    "def Vtilde_10x1(rVec, gVec, TransformationMat):\n",
    "    return ThetaT2Theta(\n",
    "        p.Matrix([[0, 0, 0, 0, 0, 0]])\n",
    "        .row_join(-gVec.T @ TransformationMat[:3, :3])\n",
    "        .row_join(-gVec.T @ rVec)\n",
    "    ).T\n",
    "\n",
    "\n",
    "Vtilde_10x1(r_1, p.Matrix([[0, 0, -g]]).T, T_1_0).T"
   ]
  }
 ],
 "metadata": {
  "kernelspec": {
   "display_name": "DataDriven",
   "language": "python",
   "name": "python3"
  },
  "language_info": {
   "codemirror_mode": {
    "name": "ipython",
    "version": 3
   },
   "file_extension": ".py",
   "mimetype": "text/x-python",
   "name": "python",
   "nbconvert_exporter": "python",
   "pygments_lexer": "ipython3",
   "version": "3.10.4"
  }
 },
 "nbformat": 4,
 "nbformat_minor": 2
}
