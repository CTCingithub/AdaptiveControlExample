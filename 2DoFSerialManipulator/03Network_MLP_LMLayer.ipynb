{
 "cells": [
  {
   "cell_type": "markdown",
   "metadata": {},
   "source": [
    "# MLP Network\n"
   ]
  },
  {
   "cell_type": "markdown",
   "metadata": {},
   "source": [
    "## 1. Pretreatment\n"
   ]
  },
  {
   "cell_type": "markdown",
   "metadata": {},
   "source": [
    "Read data from `.mat` files."
   ]
  },
  {
   "cell_type": "code",
   "execution_count": 1,
   "metadata": {},
   "outputs": [],
   "source": [
    "import scipy as sp\n",
    "import torch\n",
    "import torch.nn as nn\n",
    "from torchinfo import summary\n",
    "\n",
    "torch.set_default_dtype(torch.float64)\n",
    "torch.manual_seed(42)\n",
    "Input = sp.io.loadmat(\"Data/KinematicsData.mat\")\n",
    "Input = torch.from_numpy(Input[\"KinematicsData\"])\n",
    "Output = sp.io.loadmat(\"Data/DynRegVecData.mat\")\n",
    "Output = torch.from_numpy(Output[\"DynRegData\"])"
   ]
  },
  {
   "cell_type": "markdown",
   "metadata": {},
   "source": [
    "Size of input and output data."
   ]
  },
  {
   "cell_type": "code",
   "execution_count": 2,
   "metadata": {},
   "outputs": [
    {
     "data": {
      "text/plain": [
       "(torch.Size([50000, 8]), torch.Size([50000, 14]))"
      ]
     },
     "execution_count": 2,
     "metadata": {},
     "output_type": "execute_result"
    }
   ],
   "source": [
    "Input.shape, Output.shape"
   ]
  },
  {
   "cell_type": "markdown",
   "metadata": {},
   "source": [
    "import `utils` module."
   ]
  },
  {
   "cell_type": "code",
   "execution_count": 3,
   "metadata": {},
   "outputs": [],
   "source": [
    "import sys\n",
    "\n",
    "sys.path.append(\"..\")\n",
    "from utils import *"
   ]
  },
  {
   "cell_type": "markdown",
   "metadata": {},
   "source": [
    "Create **Training** and **Validation** datasets."
   ]
  },
  {
   "cell_type": "code",
   "execution_count": 4,
   "metadata": {},
   "outputs": [],
   "source": [
    "TrainingLoader, ValidationLoader, TestLoader = Split2Loaders(\n",
    "    Input, Output, BATCHSIZE=32, RATIO=[6, 2, 2], SHUFFLE=True\n",
    ")"
   ]
  },
  {
   "cell_type": "markdown",
   "metadata": {},
   "source": [
    "## 2. Training\n"
   ]
  },
  {
   "cell_type": "markdown",
   "metadata": {},
   "source": [
    "Define MLP network structure."
   ]
  },
  {
   "cell_type": "code",
   "execution_count": 5,
   "metadata": {},
   "outputs": [],
   "source": [
    "class DynReg_MLP(nn.Module):\n",
    "    def __init__(self, input_size, output_size, embedding_size, hidden_size=None):\n",
    "        if hidden_size is None:\n",
    "            hidden_size = [16, 32, 16]\n",
    "        super().__init__()\n",
    "\n",
    "        # Linear Layer List\n",
    "        self.layers = nn.ModuleList()\n",
    "\n",
    "        self.LinearLayerStruct = [input_size] + hidden_size + [embedding_size]\n",
    "        for i in range(len(self.LinearLayerStruct) - 1):\n",
    "            self.layers.append(\n",
    "                nn.Linear(self.LinearLayerStruct[i], self.LinearLayerStruct[i + 1])\n",
    "            )\n",
    "\n",
    "        self.LinearMapping = nn.Linear(embedding_size, output_size, bias=False)\n",
    "\n",
    "    def forward(self, x):\n",
    "        Output = x\n",
    "        for layer in self.layers:\n",
    "            Output = layer(Output)\n",
    "            if layer != self.layers[-1]:\n",
    "                Output = torch.relu(Output)\n",
    "        Output = self.LinearMapping(Output)\n",
    "        return Output"
   ]
  },
  {
   "cell_type": "markdown",
   "metadata": {},
   "source": [
    "Define network."
   ]
  },
  {
   "cell_type": "code",
   "execution_count": 6,
   "metadata": {},
   "outputs": [
    {
     "data": {
      "text/plain": [
       "=====================================================================================\n",
       "Layer (type:depth-idx)                   Input Shape     Output Shape    Param #\n",
       "=====================================================================================\n",
       "DynReg_MLP                               [1, 8]          [1, 14]         --\n",
       "├─ModuleList: 1-1                        --              --              --\n",
       "│    └─Linear: 2-1                       [1, 8]          [1, 16]         144\n",
       "│    └─Linear: 2-2                       [1, 16]         [1, 32]         544\n",
       "│    └─Linear: 2-3                       [1, 32]         [1, 32]         1,056\n",
       "│    └─Linear: 2-4                       [1, 32]         [1, 8]          264\n",
       "├─Linear: 1-2                            [1, 8]          [1, 14]         112\n",
       "=====================================================================================\n",
       "Total params: 2,120\n",
       "Trainable params: 2,120\n",
       "Non-trainable params: 0\n",
       "Total mult-adds (M): 0.00\n",
       "=====================================================================================\n",
       "Input size (MB): 0.00\n",
       "Forward/backward pass size (MB): 0.00\n",
       "Params size (MB): 0.02\n",
       "Estimated Total Size (MB): 0.02\n",
       "====================================================================================="
      ]
     },
     "execution_count": 6,
     "metadata": {},
     "output_type": "execute_result"
    }
   ],
   "source": [
    "Net = DynReg_MLP(\n",
    "    input_size=Input.shape[1],\n",
    "    output_size=Output.shape[1],\n",
    "    embedding_size=8,\n",
    "    hidden_size=[16, 32, 32],\n",
    ")\n",
    "summary(\n",
    "    Net,\n",
    "    input_data=torch.zeros(1, Input.shape[1]),\n",
    "    device=GET_DEVICE(),\n",
    "    col_names=[\"input_size\", \"output_size\", \"num_params\"],\n",
    "    col_width=15,\n",
    ")"
   ]
  },
  {
   "cell_type": "markdown",
   "metadata": {},
   "source": [
    "Define loss function."
   ]
  },
  {
   "cell_type": "code",
   "execution_count": 7,
   "metadata": {},
   "outputs": [],
   "source": [
    "def SparityLoss(SparityPromotingLayer, OutputFromNet, OutputFromData):\n",
    "    sparity_loss = 0\n",
    "    for layer in SparityPromotingLayer:\n",
    "        for _, param in layer.named_parameters():\n",
    "            sparity_loss += torch.abs(param).sum()\n",
    "\n",
    "    return sparity_loss"
   ]
  },
  {
   "cell_type": "markdown",
   "metadata": {},
   "source": [
    "Define optimizer."
   ]
  },
  {
   "cell_type": "code",
   "execution_count": 8,
   "metadata": {},
   "outputs": [],
   "source": [
    "optimizer = torch.optim.Adam(Net.parameters(), lr=0.001, weight_decay=0)"
   ]
  },
  {
   "cell_type": "markdown",
   "metadata": {},
   "source": [
    "Initialize weight."
   ]
  },
  {
   "cell_type": "code",
   "execution_count": 9,
   "metadata": {},
   "outputs": [],
   "source": [
    "INIT_WEIGHTS_XAVIER(Net)"
   ]
  },
  {
   "cell_type": "markdown",
   "metadata": {},
   "source": [
    "Define training configuration."
   ]
  },
  {
   "cell_type": "code",
   "execution_count": 10,
   "metadata": {},
   "outputs": [],
   "source": [
    "num_epochs = 50\n",
    "loss_weights = [1, 1e-2]\n",
    "grad_max = 5\n",
    "loss_switch_value = 5\n",
    "freeze_epoch = int(1 * num_epochs)"
   ]
  },
  {
   "cell_type": "markdown",
   "metadata": {},
   "source": [
    "Training network."
   ]
  },
  {
   "cell_type": "code",
   "execution_count": 11,
   "metadata": {},
   "outputs": [
    {
     "name": "stdout",
     "output_type": "stream",
     "text": [
      "PyTorch Version: 2.2.2\n",
      "Training on cuda:0\n",
      "====================================Start training====================================\n"
     ]
    },
    {
     "name": "stderr",
     "output_type": "stream",
     "text": [
      "Epoch 1/50: 100%|██████████| 938/938 [00:03<00:00, 288.58batch/s, loss_1=26.4, loss_2=26.1]\n",
      "Epoch 2/50: 100%|██████████| 938/938 [00:03<00:00, 294.25batch/s, loss_1=13.3, loss_2=13]  \n",
      "Epoch 3/50: 100%|██████████| 938/938 [00:03<00:00, 292.55batch/s, loss_1=8.77, loss_2=8.51]\n",
      "Epoch 4/50: 100%|██████████| 938/938 [00:03<00:00, 300.54batch/s, loss_1=5.56, loss_2=5.29]\n",
      "Epoch 5/50: 100%|██████████| 938/938 [00:03<00:00, 292.40batch/s, loss_1=3.36, loss_2=3.08]\n",
      "Epoch 6/50: 100%|██████████| 938/938 [00:03<00:00, 299.21batch/s, loss_1=4.15, loss_2=3.87]\n",
      "Epoch 7/50: 100%|██████████| 938/938 [00:03<00:00, 297.48batch/s, loss_1=2.96, loss_2=2.67]\n",
      "Epoch 8/50: 100%|██████████| 938/938 [00:03<00:00, 294.17batch/s, loss_1=3.32, loss_2=3.02]\n",
      "Epoch 9/50: 100%|██████████| 938/938 [00:03<00:00, 296.63batch/s, loss_1=1.78, loss_2=1.47]\n",
      "Epoch 10/50: 100%|██████████| 938/938 [00:03<00:00, 295.28batch/s, loss_1=2.14, loss_2=1.82]\n",
      "Epoch 11/50: 100%|██████████| 938/938 [00:03<00:00, 297.22batch/s, loss_1=2.71, loss_2=2.39]\n",
      "Epoch 12/50: 100%|██████████| 938/938 [00:03<00:00, 292.58batch/s, loss_1=2.56, loss_2=2.23]\n",
      "Epoch 13/50: 100%|██████████| 938/938 [00:03<00:00, 298.01batch/s, loss_1=1.61, loss_2=1.28] \n",
      "Epoch 14/50: 100%|██████████| 938/938 [00:03<00:00, 293.34batch/s, loss_1=2.11, loss_2=1.78] \n",
      "Epoch 15/50: 100%|██████████| 938/938 [00:03<00:00, 297.19batch/s, loss_1=2.06, loss_2=1.73] \n",
      "Epoch 16/50: 100%|██████████| 938/938 [00:03<00:00, 292.83batch/s, loss_1=1.64, loss_2=1.31] \n",
      "Epoch 17/50: 100%|██████████| 938/938 [00:03<00:00, 296.26batch/s, loss_1=1.77, loss_2=1.43] \n",
      "Epoch 18/50: 100%|██████████| 938/938 [00:03<00:00, 295.48batch/s, loss_1=1.79, loss_2=1.45] \n",
      "Epoch 19/50: 100%|██████████| 938/938 [00:03<00:00, 295.44batch/s, loss_1=1.07, loss_2=0.737]\n",
      "Epoch 20/50: 100%|██████████| 938/938 [00:03<00:00, 295.48batch/s, loss_1=1.79, loss_2=1.45] \n",
      "Epoch 21/50: 100%|██████████| 938/938 [00:03<00:00, 291.96batch/s, loss_1=1.29, loss_2=0.95] \n",
      "Epoch 22/50: 100%|██████████| 938/938 [00:03<00:00, 294.87batch/s, loss_1=1.78, loss_2=1.44] \n",
      "Epoch 23/50: 100%|██████████| 938/938 [00:03<00:00, 296.21batch/s, loss_1=1.35, loss_2=1.01] \n",
      "Epoch 24/50: 100%|██████████| 938/938 [00:03<00:00, 289.23batch/s, loss_1=1.37, loss_2=1.03] \n",
      "Epoch 25/50: 100%|██████████| 938/938 [00:03<00:00, 291.79batch/s, loss_1=1.23, loss_2=0.888]\n",
      "Epoch 26/50: 100%|██████████| 938/938 [00:03<00:00, 291.39batch/s, loss_1=1.28, loss_2=0.94]  \n",
      "Epoch 27/50: 100%|██████████| 938/938 [00:03<00:00, 291.41batch/s, loss_1=1.52, loss_2=1.18]  \n",
      "Epoch 28/50: 100%|██████████| 938/938 [00:03<00:00, 297.62batch/s, loss_1=1.14, loss_2=0.801]\n",
      "Epoch 29/50: 100%|██████████| 938/938 [00:03<00:00, 293.80batch/s, loss_1=1.7, loss_2=1.36]   \n",
      "Epoch 30/50: 100%|██████████| 938/938 [00:03<00:00, 291.22batch/s, loss_1=1.25, loss_2=0.914] \n",
      "Epoch 31/50: 100%|██████████| 938/938 [00:03<00:00, 290.04batch/s, loss_1=1.44, loss_2=1.1]   \n",
      "Epoch 32/50: 100%|██████████| 938/938 [00:03<00:00, 293.88batch/s, loss_1=1.39, loss_2=1.05]  \n",
      "Epoch 33/50: 100%|██████████| 938/938 [00:03<00:00, 289.60batch/s, loss_1=1.84, loss_2=1.5]   \n",
      "Epoch 34/50: 100%|██████████| 938/938 [00:03<00:00, 287.53batch/s, loss_1=1.29, loss_2=0.948] \n",
      "Epoch 35/50: 100%|██████████| 938/938 [00:03<00:00, 284.38batch/s, loss_1=1.47, loss_2=1.13]  \n",
      "Epoch 36/50: 100%|██████████| 938/938 [00:03<00:00, 288.78batch/s, loss_1=1.99, loss_2=1.65]  \n",
      "Epoch 37/50: 100%|██████████| 938/938 [00:03<00:00, 289.88batch/s, loss_1=1.17, loss_2=0.833] \n",
      "Epoch 38/50: 100%|██████████| 938/938 [00:03<00:00, 290.31batch/s, loss_1=1.73, loss_2=1.39]  \n",
      "Epoch 39/50: 100%|██████████| 938/938 [00:03<00:00, 290.52batch/s, loss_1=1.06, loss_2=0.715] \n",
      "Epoch 40/50: 100%|██████████| 938/938 [00:03<00:00, 293.06batch/s, loss_1=1.47, loss_2=1.13]  \n",
      "Epoch 41/50: 100%|██████████| 938/938 [00:03<00:00, 291.05batch/s, loss_1=1.16, loss_2=0.82]  \n",
      "Epoch 42/50: 100%|██████████| 938/938 [00:03<00:00, 292.81batch/s, loss_1=1.13, loss_2=0.784] \n",
      "Epoch 43/50: 100%|██████████| 938/938 [00:03<00:00, 288.30batch/s, loss_1=1.43, loss_2=1.09]  \n",
      "Epoch 44/50: 100%|██████████| 938/938 [00:03<00:00, 289.47batch/s, loss_1=1.36, loss_2=1.02]  \n",
      "Epoch 45/50: 100%|██████████| 938/938 [00:03<00:00, 283.14batch/s, loss_1=0.998, loss_2=0.658]\n",
      "Epoch 46/50: 100%|██████████| 938/938 [00:03<00:00, 291.65batch/s, loss_1=1.2, loss_2=0.86]   \n",
      "Epoch 47/50: 100%|██████████| 938/938 [00:03<00:00, 290.37batch/s, loss_1=1.28, loss_2=0.942] \n",
      "Epoch 48/50: 100%|██████████| 938/938 [00:03<00:00, 290.88batch/s, loss_1=1.47, loss_2=1.13]  \n",
      "Epoch 49/50: 100%|██████████| 938/938 [00:03<00:00, 290.61batch/s, loss_1=0.99, loss_2=0.65]  \n",
      "Epoch 50/50: 100%|██████████| 938/938 [00:03<00:00, 286.92batch/s, loss_1=1.05, loss_2=0.708] \n"
     ]
    },
    {
     "name": "stdout",
     "output_type": "stream",
     "text": [
      "====================================Finish training====================================\n",
      "\n"
     ]
    }
   ],
   "source": [
    "(\n",
    "    Loss_1_Training_History,\n",
    "    Loss_1_Validation_History,\n",
    "    Loss_2_Training_History,\n",
    "    Loss_2_Validation_History,\n",
    ") = TRAIN_WITH_PROGRESS_BAR_TWO_LOSS(\n",
    "    MODEL=Net,\n",
    "    NUM_EPOCHS=num_epochs,\n",
    "    OPTIMIZER=optimizer,\n",
    "    TRAIN_LOADER=TrainingLoader,\n",
    "    VALIDATION_LOADER=ValidationLoader,\n",
    "    LOSS_TUPLE=[\n",
    "        nn.MSELoss(),\n",
    "        lambda y1, y2: SparityLoss(\n",
    "            [\n",
    "                Net.LinearMapping,\n",
    "            ],\n",
    "            y1,\n",
    "            y2,\n",
    "        ),\n",
    "    ],\n",
    "    LOSS_WEIGHTS=loss_weights,\n",
    "    DEVICE=0,\n",
    "    GRAD_MAX=grad_max,\n",
    "    LOSS_SWITCH_VALUE=loss_switch_value,\n",
    "    FREEZE_EPOCH=freeze_epoch,\n",
    "    FREEZE_LAYER=Net.LinearMapping,\n",
    ")"
   ]
  },
  {
   "cell_type": "markdown",
   "metadata": {},
   "source": [
    "## 3. Visualization"
   ]
  },
  {
   "cell_type": "code",
   "execution_count": 12,
   "metadata": {},
   "outputs": [
    {
     "data": {
      "image/png": "[encoded data removed]",
      "text/plain": [
       "<Figure size 640x480 with 2 Axes>"
      ]
     },
     "metadata": {},
     "output_type": "display_data"
    }
   ],
   "source": [
    "import matplotlib.pyplot as plt\n",
    "import numpy as np\n",
    "\n",
    "plt.rcParams[\"text.usetex\"] = True\n",
    "x_axis_segments = 10\n",
    "\n",
    "fig, ax = plt.subplots(2, 1)\n",
    "ax[0].plot(\n",
    "    np.arange(0, len(Loss_1_Training_History)),\n",
    "    Loss_1_Training_History,\n",
    "    label=\"Training Loss\",\n",
    ")\n",
    "ax[0].plot(\n",
    "    np.arange(0, len(Loss_1_Validation_History)),\n",
    "    Loss_1_Validation_History,\n",
    "    label=\"Validation Loss\",\n",
    ")\n",
    "if freeze_epoch != num_epochs:\n",
    "    ax[0].scatter(\n",
    "        [freeze_epoch, freeze_epoch],\n",
    "        [\n",
    "            Loss_1_Training_History[freeze_epoch],\n",
    "            Loss_1_Validation_History[freeze_epoch],\n",
    "        ],\n",
    "        label=\"Freeze Epoch\",\n",
    "        color=\"black\",\n",
    "        marker=\"x\",\n",
    "    )\n",
    "ax[0].set_title(\"Loss with Sparsity\")\n",
    "ax[0].set_xticks(np.linspace(0, num_epochs, x_axis_segments + 1, dtype=int))\n",
    "ax[0].set_xlabel(\"Epoch\")\n",
    "ax[0].set_ylabel(\"Loss\")\n",
    "ax[0].set_yscale(\"log\")\n",
    "ax[0].legend()\n",
    "ax[0].grid()\n",
    "\n",
    "ax[1].plot(\n",
    "    np.arange(0, len(Loss_2_Training_History)),\n",
    "    Loss_2_Training_History,\n",
    "    label=\"Training Loss\",\n",
    ")\n",
    "ax[1].plot(\n",
    "    np.arange(0, len(Loss_2_Validation_History)),\n",
    "    Loss_2_Validation_History,\n",
    "    label=\"Validation Loss\",\n",
    ")\n",
    "if freeze_epoch != num_epochs:\n",
    "    ax[1].scatter(\n",
    "        [freeze_epoch, freeze_epoch],\n",
    "        [\n",
    "            Loss_2_Training_History[freeze_epoch],\n",
    "            Loss_2_Validation_History[freeze_epoch],\n",
    "        ],\n",
    "        label=\"Freeze Epoch\",\n",
    "        color=\"black\",\n",
    "        marker=\"x\",\n",
    "    )\n",
    "ax[1].set_title(\"Loss without Sparsity\")\n",
    "ax[1].set_xticks(np.linspace(0, num_epochs, x_axis_segments + 1, dtype=int))\n",
    "ax[1].set_xlabel(\"Epoch\")\n",
    "ax[1].set_ylabel(\"Loss\")\n",
    "ax[1].set_yscale(\"log\")\n",
    "ax[1].legend()\n",
    "ax[1].grid()\n",
    "\n",
    "plt.tight_layout()\n",
    "plt.show()"
   ]
  },
  {
   "cell_type": "markdown",
   "metadata": {},
   "source": [
    "Final loss."
   ]
  },
  {
   "cell_type": "code",
   "execution_count": 13,
   "metadata": {},
   "outputs": [
    {
     "data": {
      "text/plain": [
       "tensor(0.9931)"
      ]
     },
     "execution_count": 13,
     "metadata": {},
     "output_type": "execute_result"
    }
   ],
   "source": [
    "Loss_2_Validation_History[-1]"
   ]
  },
  {
   "cell_type": "markdown",
   "metadata": {},
   "source": [
    "Linear Mapping Matrix Visualization."
   ]
  },
  {
   "cell_type": "code",
   "execution_count": 14,
   "metadata": {},
   "outputs": [
    {
     "data": {
      "image/png": "[encoded data removed]",
      "text/plain": [
       "<Figure size 640x480 with 2 Axes>"
      ]
     },
     "metadata": {},
     "output_type": "display_data"
    }
   ],
   "source": [
    "plt.pcolor(Net.LinearMapping.weight.detach().to(\"cpu\").numpy(), cmap=\"gist_heat\")\n",
    "plt.colorbar()\n",
    "plt.gca().invert_yaxis()\n",
    "plt.title(\"Linear Mapping Matrix\", fontsize=20)\n",
    "plt.show()"
   ]
  },
  {
   "cell_type": "markdown",
   "metadata": {},
   "source": [
    "Linear Layer Weight Visualization."
   ]
  },
  {
   "cell_type": "code",
   "execution_count": 15,
   "metadata": {},
   "outputs": [
    {
     "data": {
      "image/png": "[encoded data removed]",
      "text/plain": [
       "<Figure size 1300x300 with 8 Axes>"
      ]
     },
     "metadata": {},
     "output_type": "display_data"
    }
   ],
   "source": [
    "fig, ax = plt.subplots(\n",
    "    1, len(Net.layers), figsize=(3 * len(Net.layers) + 1, 3), dpi=100\n",
    ")\n",
    "\n",
    "for index, layer in enumerate(Net.layers):\n",
    "    CurrentPlot = ax[index].pcolor(\n",
    "        layer.weight.detach().to(\"cpu\").numpy(), cmap=\"gist_heat\"\n",
    "    )\n",
    "    ax[index].invert_yaxis()\n",
    "    ax[index].set_title(f\"Layer {str(index + 1)}\", fontsize=15)\n",
    "    plt.colorbar(CurrentPlot, ax=ax[index])\n",
    "    if index == 0:\n",
    "        ax[index].set_xticks(int(Input.shape[1] / 4) * (np.arange(4) + 1))\n",
    "        ax[index].set_xticklabels([r\"$r_i$\", r\"$v_i$\", r\"$\\phi_{i}$\", r\"$\\psi_{i}$\"])\n",
    "plt.tight_layout()"
   ]
  },
  {
   "cell_type": "markdown",
   "metadata": {},
   "source": [
    "## 4. Absolute Error on Test Data"
   ]
  },
  {
   "cell_type": "markdown",
   "metadata": {},
   "source": [
    "Test Data"
   ]
  },
  {
   "cell_type": "code",
   "execution_count": 16,
   "metadata": {},
   "outputs": [],
   "source": [
    "test_input_data = []\n",
    "test_output_data = []\n",
    "for data in TestLoader:\n",
    "    test_input_data += data[0].detach().to(GET_DEVICE())\n",
    "    test_output_data += data[1].detach().to(\"cpu\")\n",
    "\n",
    "test_output_fromData = torch.stack(test_output_data).numpy()"
   ]
  },
  {
   "cell_type": "markdown",
   "metadata": {},
   "source": [
    "Obtain output computed from model."
   ]
  },
  {
   "cell_type": "code",
   "execution_count": 17,
   "metadata": {},
   "outputs": [],
   "source": [
    "Net.eval()\n",
    "test_ouput_fromModel = torch.stack(\n",
    "    [Net(test_input).detach().to(\"cpu\") for test_input in test_input_data]\n",
    ").numpy()"
   ]
  },
  {
   "cell_type": "markdown",
   "metadata": {},
   "source": [
    "Compute standard deviation of each element."
   ]
  },
  {
   "cell_type": "code",
   "execution_count": 20,
   "metadata": {},
   "outputs": [],
   "source": [
    "import itertools\n",
    "\n",
    "StandardDeviation = np.zeros((1, test_ouput_fromModel.shape[1]))\n",
    "for i, j in itertools.product(\n",
    "    range(test_ouput_fromModel.shape[0]), range(test_ouput_fromModel.shape[1])\n",
    "):\n",
    "    StandardDeviation[:, j] += np.power(\n",
    "        test_ouput_fromModel[i, j] - test_output_fromData[i, j], 2\n",
    "    )\n",
    "StandardDeviation = np.sqrt(StandardDeviation) / test_ouput_fromModel.shape[0]\n",
    "StandardDeviation = StandardDeviation.reshape(\n",
    "    -1,\n",
    ").tolist()"
   ]
  },
  {
   "cell_type": "markdown",
   "metadata": {},
   "source": [
    "Visualization of standard deviation."
   ]
  },
  {
   "cell_type": "code",
   "execution_count": 19,
   "metadata": {},
   "outputs": [
    {
     "data": {
      "image/png": "[encoded data removed]",
      "text/plain": [
       "<Figure size 640x480 with 1 Axes>"
      ]
     },
     "metadata": {},
     "output_type": "display_data"
    }
   ],
   "source": [
    "plt.bar(np.arange(len(StandardDeviation)) + 1, StandardDeviation)\n",
    "plt.xticks(np.arange(len(StandardDeviation)) + 1)\n",
    "plt.xlim([1 - 0.8, len(StandardDeviation) + 0.8])\n",
    "plt.title(\"Standard Deviation of MLP\", fontsize=20)\n",
    "plt.xlabel(\"Term\", fontsize=15)\n",
    "plt.ylabel(\"Standard Deviation\", fontsize=15)\n",
    "plt.show()"
   ]
  }
 ],
 "metadata": {
  "kernelspec": {
   "display_name": "KAN",
   "language": "python",
   "name": "python3"
  },
  "language_info": {
   "codemirror_mode": {
    "name": "ipython",
    "version": 3
   },
   "file_extension": ".py",
   "mimetype": "text/x-python",
   "name": "python",
   "nbconvert_exporter": "python",
   "pygments_lexer": "ipython3",
   "version": "3.10.15"
  }
 },
 "nbformat": 4,
 "nbformat_minor": 2
}
