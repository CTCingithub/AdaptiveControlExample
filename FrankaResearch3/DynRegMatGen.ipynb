{
 "cells": [
  {
   "cell_type": "markdown",
   "metadata": {},
   "source": [
    "# Generate Dyanmical Regression Matrix\n"
   ]
  },
  {
   "cell_type": "markdown",
   "metadata": {},
   "source": [
    "Import Libraries\n"
   ]
  },
  {
   "cell_type": "code",
   "execution_count": 1,
   "metadata": {},
   "outputs": [],
   "source": [
    "import sympy as p\n",
    "import numpy as np\n",
    "import sys\n",
    "\n",
    "# SYMBOLIC.py is in parent directory\n",
    "sys.path.append(\"..\")\n",
    "from SYMBOLIC import *"
   ]
  },
  {
   "cell_type": "markdown",
   "metadata": {},
   "source": [
    "Define robot parameters.\n"
   ]
  },
  {
   "cell_type": "markdown",
   "metadata": {},
   "source": [
    "## 1. Kinematics with PoE\n"
   ]
  },
  {
   "cell_type": "markdown",
   "metadata": {},
   "source": [
    "### 1.1 Variable Definitions\n"
   ]
  },
  {
   "cell_type": "markdown",
   "metadata": {},
   "source": [
    "Define time $t$ and angles.\n"
   ]
  },
  {
   "cell_type": "code",
   "execution_count": 2,
   "metadata": {},
   "outputs": [],
   "source": [
    "t = p.Symbol(\"t\")\n",
    "\n",
    "# Differentialable Variables\n",
    "theta_1_t = p.Function(\"theta_1\")(t)\n",
    "theta_2_t = p.Function(\"theta_2\")(t)\n",
    "theta_3_t = p.Function(\"theta_3\")(t)\n",
    "theta_4_t = p.Function(\"theta_4\")(t)\n",
    "theta_5_t = p.Function(\"theta_5\")(t)\n",
    "theta_6_t = p.Function(\"theta_6\")(t)\n",
    "theta_7_t = p.Function(\"theta_7\")(t)\n",
    "\n",
    "# Undifferentialable Variables\n",
    "theta_1, theta_2, theta_3, theta_4, theta_5, theta_6, theta_7 = p.symbols(\n",
    "    \"theta_1 theta_2 theta_3 theta_4 theta_5 theta_6 theta_7\"\n",
    ")\n",
    "v_1, v_2, v_3, v_4, v_5, v_6, v_7 = p.symbols(\"v_1 v_2 v_3 v_4 v_5 v_6 v_7\")\n",
    "a_1, a_2, a_3, a_4, a_5, a_6, a_7 = p.symbols(\"a_1 a_2 a_3 a_4 a_5 a_6 a_7\")"
   ]
  },
  {
   "cell_type": "markdown",
   "metadata": {},
   "source": [
    "From corresponding URDF file, we got"
   ]
  },
  {
   "cell_type": "code",
   "execution_count": 3,
   "metadata": {},
   "outputs": [],
   "source": [
    "# Link Parameters\n",
    "x0, y0, z0 = 0, 0, 0\n",
    "x1, y1, z1 = 0, 0, 0.333\n",
    "x2, y2, z2 = 0, 0, 0\n",
    "x3, y3, z3 = 0, -0.316, 0\n",
    "x4, y4, z4 = 0.0825, 0, 0\n",
    "x5, y5, z5 = -0.0825, 0.384, 0\n",
    "x6, y6, z6 = 0, 0, 0\n",
    "x7, y7, z7 = 0.088, 0, 0\n",
    "\n",
    "# RPY Angles from URDF File\n",
    "RPY_0_1 = [0, 0, 0]\n",
    "RPY_1_2 = [-p.pi / 2, 0, 0]\n",
    "RPY_2_3 = [p.pi / 2, 0, 0]\n",
    "RPY_3_4 = [p.pi / 2, 0, 0]\n",
    "RPY_4_5 = [-p.pi / 2, 0, 0]\n",
    "RPY_5_6 = [p.pi / 2, 0, 0]\n",
    "RPY_6_7 = [p.pi / 2, 0, 0]"
   ]
  },
  {
   "cell_type": "markdown",
   "metadata": {},
   "source": [
    "Gravitational Acceleration\n"
   ]
  },
  {
   "cell_type": "code",
   "execution_count": 4,
   "metadata": {},
   "outputs": [],
   "source": [
    "g = 9.8"
   ]
  },
  {
   "cell_type": "markdown",
   "metadata": {},
   "source": [
    "Define substitution functions from differentialable variables to undifferentialable variables.\n"
   ]
  },
  {
   "cell_type": "code",
   "execution_count": 5,
   "metadata": {},
   "outputs": [],
   "source": [
    "def ThetaT2Theta(Expression):\n",
    "    return (\n",
    "        Expression.subs(theta_1_t.diff(t, 2), a_1)\n",
    "        .subs(theta_2_t.diff(t, 2), a_2)\n",
    "        .subs(theta_3_t.diff(t, 2), a_3)\n",
    "        .subs(theta_4_t.diff(t, 2), a_4)\n",
    "        .subs(theta_5_t.diff(t, 2), a_5)\n",
    "        .subs(theta_6_t.diff(t, 2), a_6)\n",
    "        .subs(theta_7_t.diff(t, 2), a_7)\n",
    "        .subs(theta_1_t.diff(t), v_1)\n",
    "        .subs(theta_2_t.diff(t), v_2)\n",
    "        .subs(theta_3_t.diff(t), v_3)\n",
    "        .subs(theta_4_t.diff(t), v_4)\n",
    "        .subs(theta_5_t.diff(t), v_5)\n",
    "        .subs(theta_6_t.diff(t), v_6)\n",
    "        .subs(theta_7_t.diff(t), v_7)\n",
    "        .subs(theta_1_t, theta_1)\n",
    "        .subs(theta_2_t, theta_2)\n",
    "        .subs(theta_3_t, theta_3)\n",
    "        .subs(theta_4_t, theta_4)\n",
    "        .subs(theta_5_t, theta_5)\n",
    "        .subs(theta_6_t, theta_6)\n",
    "        .subs(theta_7_t, theta_7)\n",
    "    )"
   ]
  },
  {
   "cell_type": "markdown",
   "metadata": {},
   "source": [
    "### 1.2 Forward Kinematics\n"
   ]
  },
  {
   "cell_type": "markdown",
   "metadata": {},
   "source": [
    "Transformation matrixes at $\\vec{0}$. `T_i_j_0` refers to $T_{i}^{j} (\\vec{0}) $.\n"
   ]
  },
  {
   "cell_type": "code",
   "execution_count": 6,
   "metadata": {},
   "outputs": [],
   "source": [
    "T_1_0_0 = Translation_4x4(p.Matrix([x1, y1, z1])) @ Rotation_RPY_4x4(RPY_0_1)\n",
    "T_2_1_0 = Translation_4x4(p.Matrix([x2, y2, z2])) @ Rotation_RPY_4x4(RPY_1_2)\n",
    "T_3_2_0 = Translation_4x4(p.Matrix([x3, y3, z3])) @ Rotation_RPY_4x4(RPY_2_3)\n",
    "T_4_3_0 = Translation_4x4(p.Matrix([x4, y4, z4])) @ Rotation_RPY_4x4(RPY_3_4)\n",
    "T_5_4_0 = Translation_4x4(p.Matrix([x5, y5, z5])) @ Rotation_RPY_4x4(RPY_4_5)\n",
    "T_6_5_0 = Translation_4x4(p.Matrix([x6, y6, z6])) @ Rotation_RPY_4x4(RPY_5_6)\n",
    "T_7_6_0 = Translation_4x4(p.Matrix([x7, y7, z7])) @ Rotation_RPY_4x4(RPY_6_7)"
   ]
  },
  {
   "cell_type": "markdown",
   "metadata": {},
   "source": [
    "Joint positions at $\\vec{0}$."
   ]
  },
  {
   "cell_type": "code",
   "execution_count": 7,
   "metadata": {},
   "outputs": [],
   "source": [
    "def Position(Transformation_i_j, P_i=p.Matrix([0, 0, 0, 1])):\n",
    "    return (Transformation_i_j @ P_i)[:3, :]\n",
    "\n",
    "\n",
    "T_1_0_0 = T_1_0_0\n",
    "T_2_0_0 = T_1_0_0 @ T_2_1_0\n",
    "T_3_0_0 = T_1_0_0 @ T_2_1_0 @ T_3_2_0\n",
    "T_4_0_0 = T_1_0_0 @ T_2_1_0 @ T_3_2_0 @ T_4_3_0\n",
    "T_5_0_0 = T_1_0_0 @ T_2_1_0 @ T_3_2_0 @ T_4_3_0 @ T_5_4_0\n",
    "T_6_0_0 = T_1_0_0 @ T_2_1_0 @ T_3_2_0 @ T_4_3_0 @ T_5_4_0 @ T_6_5_0\n",
    "T_7_0_0 = T_1_0_0 @ T_2_1_0 @ T_3_2_0 @ T_4_3_0 @ T_5_4_0 @ T_6_5_0 @ T_7_6_0\n",
    "\n",
    "r_1_0 = Position(T_1_0_0)\n",
    "r_2_0 = Position(T_2_0_0)\n",
    "r_3_0 = Position(T_3_0_0)\n",
    "r_4_0 = Position(T_4_0_0)\n",
    "r_5_0 = Position(T_5_0_0)\n",
    "r_6_0 = Position(T_6_0_0)\n",
    "r_7_0 = Position(T_7_0_0)"
   ]
  },
  {
   "cell_type": "markdown",
   "metadata": {},
   "source": [
    "Joint poses at $\\vec{0}$.\n"
   ]
  },
  {
   "cell_type": "code",
   "execution_count": 8,
   "metadata": {},
   "outputs": [],
   "source": [
    "omega_1_0 = p.Matrix([0, 0, 1]).reshape(3, 1)\n",
    "omega_2_0 = Rotation_RPY_4x4(RPY_1_2)[:3, :3] @ omega_1_0\n",
    "omega_3_0 = Rotation_RPY_4x4(RPY_2_3)[:3, :3] @ omega_2_0\n",
    "omega_4_0 = Rotation_RPY_4x4(RPY_3_4)[:3, :3] @ omega_3_0\n",
    "omega_5_0 = Rotation_RPY_4x4(RPY_4_5)[:3, :3] @ omega_4_0\n",
    "omega_6_0 = Rotation_RPY_4x4(RPY_5_6)[:3, :3] @ omega_5_0\n",
    "omega_7_0 = Rotation_RPY_4x4(RPY_6_7)[:3, :3] @ omega_6_0"
   ]
  },
  {
   "cell_type": "markdown",
   "metadata": {},
   "source": [
    "Joint unitary twists at $\\vec{0}$."
   ]
  },
  {
   "cell_type": "code",
   "execution_count": 9,
   "metadata": {},
   "outputs": [],
   "source": [
    "xi_1_0 = Joint2Twist(omega_1_0, r_1_0)\n",
    "xi_2_0 = Joint2Twist(omega_2_0, r_2_0)\n",
    "xi_3_0 = Joint2Twist(omega_3_0, r_3_0)\n",
    "xi_4_0 = Joint2Twist(omega_4_0, r_4_0)\n",
    "xi_5_0 = Joint2Twist(omega_5_0, r_5_0)\n",
    "xi_6_0 = Joint2Twist(omega_6_0, r_6_0)\n",
    "xi_7_0 = Joint2Twist(omega_7_0, r_7_0)"
   ]
  },
  {
   "cell_type": "markdown",
   "metadata": {},
   "source": [
    "Transformation matrixes at $\\vec{\\theta}$ computed with PoE.\n"
   ]
  },
  {
   "cell_type": "code",
   "execution_count": 10,
   "metadata": {},
   "outputs": [],
   "source": [
    "# Transformation Matrixes\n",
    "T_1_0 = MatrixExp_4x4(xi_1_0, theta_1_t) @ T_1_0_0\n",
    "T_2_0 = MatrixExp_4x4(xi_1_0, theta_1_t) @ MatrixExp_4x4(xi_2_0, theta_2_t) @ T_2_0_0\n",
    "T_3_0 = (\n",
    "    MatrixExp_4x4(xi_1_0, theta_1_t)\n",
    "    @ MatrixExp_4x4(xi_2_0, theta_2_t)\n",
    "    @ MatrixExp_4x4(xi_3_0, theta_3_t)\n",
    "    @ T_3_0_0\n",
    ")\n",
    "T_4_0 = (\n",
    "    MatrixExp_4x4(xi_1_0, theta_1_t)\n",
    "    @ MatrixExp_4x4(xi_2_0, theta_2_t)\n",
    "    @ MatrixExp_4x4(xi_3_0, theta_3_t)\n",
    "    @ MatrixExp_4x4(xi_4_0, theta_4_t)\n",
    "    @ T_4_0_0\n",
    ")\n",
    "T_5_0 = (\n",
    "    MatrixExp_4x4(xi_1_0, theta_1_t)\n",
    "    @ MatrixExp_4x4(xi_2_0, theta_2_t)\n",
    "    @ MatrixExp_4x4(xi_3_0, theta_3_t)\n",
    "    @ MatrixExp_4x4(xi_4_0, theta_4_t)\n",
    "    @ MatrixExp_4x4(xi_5_0, theta_5_t)\n",
    "    @ T_5_0_0\n",
    ")\n",
    "T_6_0 = (\n",
    "    MatrixExp_4x4(xi_1_0, theta_1_t)\n",
    "    @ MatrixExp_4x4(xi_2_0, theta_2_t)\n",
    "    @ MatrixExp_4x4(xi_3_0, theta_3_t)\n",
    "    @ MatrixExp_4x4(xi_4_0, theta_4_t)\n",
    "    @ MatrixExp_4x4(xi_5_0, theta_5_t)\n",
    "    @ MatrixExp_4x4(xi_6_0, theta_6_t)\n",
    "    @ T_6_0_0\n",
    ")\n",
    "T_7_0 = (\n",
    "    MatrixExp_4x4(xi_1_0, theta_1_t)\n",
    "    @ MatrixExp_4x4(xi_2_0, theta_2_t)\n",
    "    @ MatrixExp_4x4(xi_3_0, theta_3_t)\n",
    "    @ MatrixExp_4x4(xi_4_0, theta_4_t)\n",
    "    @ MatrixExp_4x4(xi_5_0, theta_5_t)\n",
    "    @ MatrixExp_4x4(xi_6_0, theta_6_t)\n",
    "    @ MatrixExp_4x4(xi_7_0, theta_7_t)\n",
    "    @ T_7_0_0\n",
    ")"
   ]
  },
  {
   "cell_type": "markdown",
   "metadata": {},
   "source": [
    "Joint positions and poses at $\\vec{\\theta}$."
   ]
  },
  {
   "cell_type": "code",
   "execution_count": 11,
   "metadata": {},
   "outputs": [],
   "source": [
    "# Positions\n",
    "r_1 = Position(T_1_0)\n",
    "r_2 = Position(T_2_0)\n",
    "r_3 = Position(T_3_0)\n",
    "r_4 = Position(T_4_0)\n",
    "r_5 = Position(T_5_0)\n",
    "r_6 = Position(T_6_0)\n",
    "r_7 = Position(T_7_0)\n",
    "\n",
    "# Poses\n",
    "omega_1 = p.simplify(MatrixExp_3x3(omega_1_0, theta_1_t) @ omega_1_0)\n",
    "omega_2 = p.simplify(\n",
    "    MatrixExp_3x3(omega_1_0, theta_1_t)\n",
    "    @ MatrixExp_3x3(omega_2_0, theta_2_t)\n",
    "    @ omega_2_0\n",
    ")\n",
    "omega_3 = p.simplify(\n",
    "    MatrixExp_3x3(omega_1_0, theta_1_t)\n",
    "    @ MatrixExp_3x3(omega_2_0, theta_2_t)\n",
    "    @ MatrixExp_3x3(omega_3_0, theta_3_t)\n",
    "    @ omega_3_0\n",
    ")\n",
    "omega_4 = p.simplify(\n",
    "    MatrixExp_3x3(omega_1_0, theta_1_t)\n",
    "    @ MatrixExp_3x3(omega_2_0, theta_2_t)\n",
    "    @ MatrixExp_3x3(omega_3_0, theta_3_t)\n",
    "    @ MatrixExp_3x3(omega_4_0, theta_4_t)\n",
    "    @ omega_4_0\n",
    ")\n",
    "omega_5 = p.simplify(\n",
    "    MatrixExp_3x3(omega_1_0, theta_1_t)\n",
    "    @ MatrixExp_3x3(omega_2_0, theta_2_t)\n",
    "    @ MatrixExp_3x3(omega_3_0, theta_3_t)\n",
    "    @ MatrixExp_3x3(omega_4_0, theta_4_t)\n",
    "    @ MatrixExp_3x3(omega_5_0, theta_5_t)\n",
    "    @ omega_5_0\n",
    ")\n",
    "omega_6 = p.simplify(\n",
    "    MatrixExp_3x3(omega_1_0, theta_1_t)\n",
    "    @ MatrixExp_3x3(omega_2_0, theta_2_t)\n",
    "    @ MatrixExp_3x3(omega_3_0, theta_3_t)\n",
    "    @ MatrixExp_3x3(omega_4_0, theta_4_t)\n",
    "    @ MatrixExp_3x3(omega_5_0, theta_5_t)\n",
    "    @ MatrixExp_3x3(omega_6_0, theta_6_t)\n",
    "    @ omega_6_0\n",
    ")\n",
    "omega_7 = p.simplify(\n",
    "    MatrixExp_3x3(omega_1_0, theta_1_t)\n",
    "    @ MatrixExp_3x3(omega_2_0, theta_2_t)\n",
    "    @ MatrixExp_3x3(omega_3_0, theta_3_t)\n",
    "    @ MatrixExp_3x3(omega_4_0, theta_4_t)\n",
    "    @ MatrixExp_3x3(omega_5_0, theta_5_t)\n",
    "    @ MatrixExp_3x3(omega_6_0, theta_6_t)\n",
    "    @ MatrixExp_3x3(omega_7_0, theta_7_t)\n",
    "    @ omega_7_0\n",
    ")"
   ]
  },
  {
   "cell_type": "markdown",
   "metadata": {},
   "source": [
    "Spatial velocities at $\\vec{\\theta}$.\n"
   ]
  },
  {
   "cell_type": "code",
   "execution_count": 12,
   "metadata": {},
   "outputs": [],
   "source": [
    "# Rotation part of joints' Spatial Velocity\n",
    "SpatialVelocity_Rot_1 = p.simplify(omega_1 * theta_1_t.diff(t))\n",
    "SpatialVelocity_Rot_2 = p.simplify(\n",
    "    omega_1 * theta_1_t.diff(t) + omega_2 * theta_2_t.diff(t)\n",
    ")\n",
    "SpatialVelocity_Rot_3 = p.simplify(\n",
    "    omega_1 * theta_1_t.diff(t)\n",
    "    + omega_2 * theta_2_t.diff(t)\n",
    "    + omega_3 * theta_3_t.diff(t)\n",
    ")\n",
    "SpatialVelocity_Rot_4 = p.simplify(\n",
    "    omega_1 * theta_1_t.diff(t)\n",
    "    + omega_2 * theta_2_t.diff(t)\n",
    "    + omega_3 * theta_3_t.diff(t)\n",
    "    + omega_4 * theta_4_t.diff(t)\n",
    ")\n",
    "SpatialVelocity_Rot_5 = p.simplify(\n",
    "    omega_1 * theta_1_t.diff(t)\n",
    "    + omega_2 * theta_2_t.diff(t)\n",
    "    + omega_3 * theta_3_t.diff(t)\n",
    "    + omega_4 * theta_4_t.diff(t)\n",
    "    + omega_5 * theta_5_t.diff(t)\n",
    ")\n",
    "SpatialVelocity_Rot_6 = p.simplify(\n",
    "    omega_1 * theta_1_t.diff(t)\n",
    "    + omega_2 * theta_2_t.diff(t)\n",
    "    + omega_3 * theta_3_t.diff(t)\n",
    "    + omega_4 * theta_4_t.diff(t)\n",
    "    + omega_5 * theta_5_t.diff(t)\n",
    "    + omega_6 * theta_6_t.diff(t)\n",
    ")\n",
    "SpatialVelocity_Rot_7 = p.simplify(\n",
    "    omega_1 * theta_1_t.diff(t)\n",
    "    + omega_2 * theta_2_t.diff(t)\n",
    "    + omega_3 * theta_3_t.diff(t)\n",
    "    + omega_4 * theta_4_t.diff(t)\n",
    "    + omega_5 * theta_5_t.diff(t)\n",
    "    + omega_6 * theta_6_t.diff(t)\n",
    "    + omega_7 * theta_7_t.diff(t)\n",
    ")\n",
    "\n",
    "# Translation part of Joints' Spatial Velocity\n",
    "SpatialVelocity_Trans_1 = p.simplify(r_1.diff(t))\n",
    "SpatialVelocity_Trans_2 = p.simplify(r_2.diff(t))\n",
    "SpatialVelocity_Trans_3 = p.simplify(r_3.diff(t))\n",
    "SpatialVelocity_Trans_4 = p.simplify(r_4.diff(t))\n",
    "SpatialVelocity_Trans_5 = p.simplify(r_5.diff(t))\n",
    "SpatialVelocity_Trans_6 = p.simplify(r_6.diff(t))\n",
    "SpatialVelocity_Trans_7 = p.simplify(r_7.diff(t))\n",
    "\n",
    "# Joints' Spatial Velocity\n",
    "SpatialVelocity_1 = SpatialVelocity_Rot_1.col_join(SpatialVelocity_Trans_1)\n",
    "SpatialVelocity_2 = SpatialVelocity_Rot_2.col_join(SpatialVelocity_Trans_2)\n",
    "SpatialVelocity_3 = SpatialVelocity_Rot_3.col_join(SpatialVelocity_Trans_3)\n",
    "SpatialVelocity_4 = SpatialVelocity_Rot_4.col_join(SpatialVelocity_Trans_4)\n",
    "SpatialVelocity_5 = SpatialVelocity_Rot_5.col_join(SpatialVelocity_Trans_5)\n",
    "SpatialVelocity_6 = SpatialVelocity_Rot_6.col_join(SpatialVelocity_Trans_6)\n",
    "SpatialVelocity_7 = SpatialVelocity_Rot_7.col_join(SpatialVelocity_Trans_7)"
   ]
  },
  {
   "cell_type": "markdown",
   "metadata": {},
   "source": [
    "## 2. Dynamical Regression Matrix\n"
   ]
  },
  {
   "cell_type": "markdown",
   "metadata": {},
   "source": [
    "$\\tilde{T}^{i}$ s.\n"
   ]
  },
  {
   "cell_type": "code",
   "execution_count": 13,
   "metadata": {},
   "outputs": [],
   "source": [
    "Ttilde_1 = (Ttilde_10x1(SpatialVelocity_1, T_1_0))\n",
    "Ttilde_2 = (Ttilde_10x1(SpatialVelocity_2, T_2_0))\n",
    "Ttilde_3 = (Ttilde_10x1(SpatialVelocity_3, T_3_0))\n",
    "Ttilde_4 = (Ttilde_10x1(SpatialVelocity_4, T_4_0))\n",
    "Ttilde_5 = (Ttilde_10x1(SpatialVelocity_5, T_5_0))\n",
    "Ttilde_6 = (Ttilde_10x1(SpatialVelocity_6, T_6_0))\n",
    "Ttilde_7 = (Ttilde_10x1(SpatialVelocity_7, T_7_0))"
   ]
  },
  {
   "cell_type": "markdown",
   "metadata": {},
   "source": [
    "$\\tilde{V}^{i}$ s.\n"
   ]
  },
  {
   "cell_type": "code",
   "execution_count": 14,
   "metadata": {},
   "outputs": [],
   "source": [
    "Vtilde_1 = (Vtilde_10x1(r_1, p.Matrix([0, 0, -g]).reshape(3, 1), T_1_0))\n",
    "Vtilde_2 = (Vtilde_10x1(r_2, p.Matrix([0, 0, -g]).reshape(3, 1), T_2_0))\n",
    "Vtilde_3 = (Vtilde_10x1(r_3, p.Matrix([0, 0, -g]).reshape(3, 1), T_3_0))\n",
    "Vtilde_4 = (Vtilde_10x1(r_4, p.Matrix([0, 0, -g]).reshape(3, 1), T_4_0))\n",
    "Vtilde_5 = (Vtilde_10x1(r_5, p.Matrix([0, 0, -g]).reshape(3, 1), T_5_0))\n",
    "Vtilde_6 = (Vtilde_10x1(r_6, p.Matrix([0, 0, -g]).reshape(3, 1), T_6_0))\n",
    "Vtilde_7 = (Vtilde_10x1(r_7, p.Matrix([0, 0, -g]).reshape(3, 1), T_7_0))"
   ]
  },
  {
   "cell_type": "markdown",
   "metadata": {},
   "source": [
    "$\\tilde{T}$ and $\\tilde{V}$.\n"
   ]
  },
  {
   "cell_type": "code",
   "execution_count": 15,
   "metadata": {},
   "outputs": [],
   "source": [
    "Ttilde = (\n",
    "    Ttilde_1.col_join(Ttilde_2)\n",
    "    .col_join(Ttilde_3)\n",
    "    .col_join(Ttilde_4)\n",
    "    .col_join(Ttilde_5)\n",
    "    .col_join(Ttilde_6)\n",
    "    .col_join(Ttilde_7)\n",
    ")\n",
    "Vtilde = (\n",
    "    Vtilde_1.col_join(Vtilde_2)\n",
    "    .col_join(Vtilde_3)\n",
    "    .col_join(Vtilde_4)\n",
    "    .col_join(Vtilde_5)\n",
    "    .col_join(Vtilde_6)\n",
    "    .col_join(Vtilde_7)\n",
    ")"
   ]
  },
  {
   "cell_type": "markdown",
   "metadata": {},
   "source": [
    "Define $\\vec{\\theta}$ and $\\vec{\\dot{\\theta}}$.\n"
   ]
  },
  {
   "cell_type": "code",
   "execution_count": 16,
   "metadata": {},
   "outputs": [],
   "source": [
    "theta = p.Matrix(\n",
    "    [theta_1_t, theta_2_t, theta_3_t, theta_4_t, theta_5_t, theta_6_t, theta_7_t]\n",
    ")\n",
    "theta_dot = p.Matrix(\n",
    "    [\n",
    "        theta_1_t.diff(t),\n",
    "        theta_2_t.diff(t),\n",
    "        theta_3_t.diff(t),\n",
    "        theta_4_t.diff(t),\n",
    "        theta_5_t.diff(t),\n",
    "        theta_6_t.diff(t),\n",
    "        theta_7_t.diff(t),\n",
    "    ]\n",
    ")"
   ]
  },
  {
   "cell_type": "markdown",
   "metadata": {},
   "source": [
    "Dynamical regression matrix $Y_{\\text{Full}}$.\n"
   ]
  },
  {
   "cell_type": "code",
   "execution_count": 17,
   "metadata": {},
   "outputs": [],
   "source": [
    "Y_Full = ThetaT2Theta(\n",
    "    VecDiff(Ttilde, theta_dot).diff(t) - VecDiff(Ttilde, theta) + VecDiff(Vtilde, theta)\n",
    ")"
   ]
  },
  {
   "cell_type": "markdown",
   "metadata": {},
   "source": [
    "Remove zero columns in $Y_{\\text{Full}}$ to get $Y$.\n"
   ]
  },
  {
   "cell_type": "code",
   "execution_count": null,
   "metadata": {},
   "outputs": [],
   "source": [
    "cols = [\n",
    "    i for i in range(Y_Full.shape[1]) if Y_Full[:, i] != p.zeros(Y_Full.shape[0], 1)\n",
    "]\n",
    "Y = Y_Full[:, cols]\n",
    "Y.shape"
   ]
  },
  {
   "cell_type": "markdown",
   "metadata": {},
   "source": [
    "Dynamical regression vector $\\vec{y}$.\n"
   ]
  },
  {
   "cell_type": "code",
   "execution_count": null,
   "metadata": {},
   "outputs": [],
   "source": [
    "y = Y.reshape(Y.shape[0] * Y.shape[1], 1)"
   ]
  },
  {
   "cell_type": "markdown",
   "metadata": {},
   "source": [
    "Generate MATLAB function.\n"
   ]
  },
  {
   "cell_type": "code",
   "execution_count": null,
   "metadata": {},
   "outputs": [],
   "source": [
    "# CreateMatlabFunction(\n",
    "#     \"DynRegVec\",\n",
    "#     y,\n",
    "#     [\n",
    "#         theta_1,\n",
    "#         theta_2,\n",
    "#         theta_3,\n",
    "#         theta_4,\n",
    "#         theta_5,\n",
    "#         theta_6,\n",
    "#         theta_7,\n",
    "#         v_1,\n",
    "#         v_2,\n",
    "#         v_3,\n",
    "#         v_4,\n",
    "#         v_5,\n",
    "#         v_6,\n",
    "#         v_7,\n",
    "#         a_1,\n",
    "#         a_2,\n",
    "#         a_3,\n",
    "#         a_4,\n",
    "#         a_5,\n",
    "#         a_6,\n",
    "#         a_7,\n",
    "#     ],\n",
    "# )"
   ]
  }
 ],
 "metadata": {
  "kernelspec": {
   "display_name": "DataDriven",
   "language": "python",
   "name": "python3"
  },
  "language_info": {
   "codemirror_mode": {
    "name": "ipython",
    "version": 3
   },
   "file_extension": ".py",
   "mimetype": "text/x-python",
   "name": "python",
   "nbconvert_exporter": "python",
   "pygments_lexer": "ipython3",
   "version": "3.10.4"
  }
 },
 "nbformat": 4,
 "nbformat_minor": 2
}
