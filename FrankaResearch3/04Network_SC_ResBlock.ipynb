{
 "cells": [
  {
   "cell_type": "markdown",
   "metadata": {},
   "source": [
    "# ResBlock MLP Network with Hadamard Layer and I2E Shortcut\n"
   ]
  },
  {
   "cell_type": "markdown",
   "metadata": {},
   "source": [
    "## 1. Pretreatment\n"
   ]
  },
  {
   "cell_type": "markdown",
   "metadata": {},
   "source": [
    "Import Configuration."
   ]
  },
  {
   "cell_type": "code",
   "execution_count": 1,
   "metadata": {},
   "outputs": [],
   "source": [
    "import scipy as sp\n",
    "import matplotlib.pyplot as plt\n",
    "import numpy as np\n",
    "import yaml\n",
    "\n",
    "import torch\n",
    "import torch.nn as nn\n",
    "from torchinfo import summary\n",
    "\n",
    "with open(\"./config/SC_ResBlock.yaml\", \"r\") as f:\n",
    "    config = yaml.load(f, Loader=yaml.FullLoader)"
   ]
  },
  {
   "cell_type": "markdown",
   "metadata": {},
   "source": [
    "Import data."
   ]
  },
  {
   "cell_type": "code",
   "execution_count": 2,
   "metadata": {},
   "outputs": [],
   "source": [
    "InputData = sp.io.loadmat(config[\"DATA_LOADER\"][\"INPUT_DATA_PATH\"])[\"KinematicsData\"]\n",
    "OutputData = sp.io.loadmat(config[\"DATA_LOADER\"][\"OUTPUT_DATA_PATH\"])[\"DynRegVecData\"]"
   ]
  },
  {
   "cell_type": "markdown",
   "metadata": {},
   "source": [
    "Import `NN_utils` and `Visualization`."
   ]
  },
  {
   "cell_type": "code",
   "execution_count": 3,
   "metadata": {},
   "outputs": [],
   "source": [
    "import sys\n",
    "\n",
    "sys.path.append(\"../utils\")\n",
    "from Blocks import *\n",
    "from NN_utils import *\n",
    "from Visualization import *\n",
    "\n",
    "SETUP_SEED(42)\n",
    "torch.set_default_dtype(torch.float64)"
   ]
  },
  {
   "cell_type": "markdown",
   "metadata": {},
   "source": [
    "Size of input and output data."
   ]
  },
  {
   "cell_type": "code",
   "execution_count": 4,
   "metadata": {},
   "outputs": [
    {
     "data": {
      "text/plain": [
       "((50000, 28), (50000, 413))"
      ]
     },
     "execution_count": 4,
     "metadata": {},
     "output_type": "execute_result"
    }
   ],
   "source": [
    "InputData.shape, OutputData.shape"
   ]
  },
  {
   "cell_type": "markdown",
   "metadata": {},
   "source": [
    "Create **Training**, **Validation** and **Test** datasets."
   ]
  },
  {
   "cell_type": "code",
   "execution_count": 5,
   "metadata": {},
   "outputs": [],
   "source": [
    "InputData = torch.from_numpy(InputData)\n",
    "OutputData = torch.from_numpy(OutputData)\n",
    "TrainingLoader, ValidationLoader, TestLoader = Split2Loaders(\n",
    "    InputData, OutputData, config\n",
    ")"
   ]
  },
  {
   "cell_type": "markdown",
   "metadata": {},
   "source": [
    "## 2. Training\n"
   ]
  },
  {
   "cell_type": "markdown",
   "metadata": {},
   "source": [
    "Define ResBlock with Dropout."
   ]
  },
  {
   "cell_type": "code",
   "execution_count": 6,
   "metadata": {},
   "outputs": [],
   "source": [
    "class ResLinear_Dropout(nn.Module):\n",
    "    def __init__(\n",
    "        self, input_size, output_size, hidden_size=None, dropout=None, bias=True\n",
    "    ):\n",
    "        super().__init__()\n",
    "        self.input_size = input_size\n",
    "        self.hidden_size = output_size if hidden_size is None else hidden_size\n",
    "        self.output_size = output_size\n",
    "        self.Linear_1 = nn.Linear(input_size, hidden_size, bias=bias)\n",
    "        self.Linear_2 = nn.Linear(hidden_size, output_size, bias=bias)\n",
    "        self.Shortcut = nn.Linear(input_size, output_size, bias=False)\n",
    "        if dropout is not None:\n",
    "            self.dropout = nn.Dropout(dropout)\n",
    "        else:\n",
    "            self.register_parameter(\"dropout\", None)\n",
    "\n",
    "    def forward(self, x):\n",
    "        Out = self.Linear_1(x)\n",
    "        if self.dropout is not None:\n",
    "            Out = self.dropout(Out)\n",
    "        return self.Linear_2(torch.relu(Out)) + self.Shortcut(x)\n",
    "\n",
    "    def __repr__(self):\n",
    "        return f\"ResLinear(in_feature={self.input_size}, out_feature={self.output_size}, bias={self.Linear_1.bias is not None})\""
   ]
  },
  {
   "cell_type": "markdown",
   "metadata": {},
   "source": [
    "Define MLP network structure."
   ]
  },
  {
   "cell_type": "code",
   "execution_count": 7,
   "metadata": {},
   "outputs": [],
   "source": [
    "class DynReg_MLP(nn.Module):\n",
    "    def __init__(\n",
    "        self,\n",
    "        input_size,\n",
    "        output_size,\n",
    "        embedding_size,\n",
    "        ResBlock_size=None,\n",
    "        ResBlock_hidden_size=None,\n",
    "        sliding_pair=True,\n",
    "        hadmard_bias=True,\n",
    "        shortcut=True,\n",
    "    ):\n",
    "        if ResBlock_size is None or ResBlock_hidden_size is None:\n",
    "            ResBlock_size = [512, 512]\n",
    "            ResBlock_hidden_size = [256, 512, 512]\n",
    "        super().__init__()\n",
    "        # Degree of Freedom\n",
    "        self.DoF = input_size // 4\n",
    "        # Triangular Layer\n",
    "        self.TrigLayer = Triangular(SlidingPair=sliding_pair)\n",
    "        # Linear Layer List\n",
    "        self.NN = nn.ModuleList()\n",
    "        self.NNStruct = (\n",
    "            [input_size + self.DoF * (sliding_pair + 1)]\n",
    "            + ResBlock_size\n",
    "            + [embedding_size]\n",
    "        )\n",
    "        for i in range(len(self.NNStruct) - 1):\n",
    "            self.NN.append(\n",
    "                ResLinear_Dropout(\n",
    "                    input_size=self.NNStruct[i],\n",
    "                    output_size=self.NNStruct[i + 1],\n",
    "                    hidden_size=(\n",
    "                        ResBlock_hidden_size[i]\n",
    "                        if ResBlock_hidden_size[i] is not None\n",
    "                        else None\n",
    "                    ),\n",
    "                    dropout=0.25,\n",
    "                )\n",
    "            )\n",
    "            self.NN.append(nn.BatchNorm1d(num_features=self.NNStruct[i + 1]))\n",
    "        self.Hadamard = HadamardProduct(embedding_size, bias=hadmard_bias)\n",
    "        self.LinearMapping = nn.Linear(embedding_size, output_size, bias=False)\n",
    "        if shortcut:\n",
    "            self.Shortcut = ShortcutMapping(input_size, embedding_size)\n",
    "        else:\n",
    "            self.register_parameter(\"Shortcut\", None)\n",
    "\n",
    "    def forward(self, x):\n",
    "        Output = self.TrigLayer(x)\n",
    "        for layer in self.NN:\n",
    "            Output = layer(Output)\n",
    "        if self.Shortcut is not None:\n",
    "            Output = self.Hadamard(Output) + self.Shortcut(x)\n",
    "        else:\n",
    "            Output = self.Hadamard(Output)\n",
    "        return self.LinearMapping(Output)"
   ]
  },
  {
   "cell_type": "markdown",
   "metadata": {},
   "source": [
    "Define network."
   ]
  },
  {
   "cell_type": "code",
   "execution_count": 8,
   "metadata": {},
   "outputs": [],
   "source": [
    "Net = DynReg_MLP(\n",
    "    input_size=config[\"NETWORK\"][\"INPUT_SIZE\"],\n",
    "    output_size=config[\"NETWORK\"][\"OUTPUT_SIZE\"],\n",
    "    embedding_size=config[\"NETWORK\"][\"EMBEDDING_SIZE\"],\n",
    "    ResBlock_size=config[\"NETWORK\"][\"RES_BLOCK_SIZE\"],\n",
    "    ResBlock_hidden_size=config[\"NETWORK\"][\"RES_BLOCK_HIDDEN_SIZE\"],\n",
    "    sliding_pair=True,\n",
    "    hadmard_bias=True,\n",
    "    shortcut=True,\n",
    ")"
   ]
  },
  {
   "cell_type": "markdown",
   "metadata": {},
   "source": [
    "Summary."
   ]
  },
  {
   "cell_type": "code",
   "execution_count": 9,
   "metadata": {},
   "outputs": [
    {
     "data": {
      "text/plain": [
       "=====================================================================================\n",
       "Layer (type:depth-idx)                   Input Shape     Output Shape    Param #\n",
       "=====================================================================================\n",
       "DynReg_MLP                               [1, 28]         [1, 413]        --\n",
       "├─Triangular: 1-1                        [1, 28]         [1, 42]         --\n",
       "├─ModuleList: 1-2                        --              --              --\n",
       "│    └─ResLinear_Dropout: 2-1            [1, 42]         [1, 256]        --\n",
       "│    │    └─Linear: 3-1                  [1, 42]         [1, 128]        5,504\n",
       "│    │    └─Dropout: 3-2                 [1, 128]        [1, 128]        --\n",
       "│    │    └─Linear: 3-3                  [1, 128]        [1, 256]        33,024\n",
       "│    │    └─Linear: 3-4                  [1, 42]         [1, 256]        10,752\n",
       "│    └─BatchNorm1d: 2-2                  [1, 256]        [1, 256]        512\n",
       "│    └─ResLinear_Dropout: 2-3            [1, 256]        [1, 256]        --\n",
       "│    │    └─Linear: 3-5                  [1, 256]        [1, 256]        65,792\n",
       "│    │    └─Dropout: 3-6                 [1, 256]        [1, 256]        --\n",
       "│    │    └─Linear: 3-7                  [1, 256]        [1, 256]        65,792\n",
       "│    │    └─Linear: 3-8                  [1, 256]        [1, 256]        65,536\n",
       "│    └─BatchNorm1d: 2-4                  [1, 256]        [1, 256]        512\n",
       "│    └─ResLinear_Dropout: 2-5            [1, 256]        [1, 256]        --\n",
       "│    │    └─Linear: 3-9                  [1, 256]        [1, 256]        65,792\n",
       "│    │    └─Dropout: 3-10                [1, 256]        [1, 256]        --\n",
       "│    │    └─Linear: 3-11                 [1, 256]        [1, 256]        65,792\n",
       "│    │    └─Linear: 3-12                 [1, 256]        [1, 256]        65,536\n",
       "│    └─BatchNorm1d: 2-6                  [1, 256]        [1, 256]        512\n",
       "│    └─ResLinear_Dropout: 2-7            [1, 256]        [1, 222]        --\n",
       "│    │    └─Linear: 3-13                 [1, 256]        [1, 256]        65,792\n",
       "│    │    └─Dropout: 3-14                [1, 256]        [1, 256]        --\n",
       "│    │    └─Linear: 3-15                 [1, 256]        [1, 222]        57,054\n",
       "│    │    └─Linear: 3-16                 [1, 256]        [1, 222]        56,832\n",
       "│    └─BatchNorm1d: 2-8                  [1, 222]        [1, 222]        444\n",
       "├─HadamardProduct: 1-3                   [1, 222]        [1, 222]        444\n",
       "├─ShortcutMapping: 1-4                   [1, 28]         [1, 222]        --\n",
       "│    └─Linear: 2-9                       [1, 7]          [1, 222]        1,554\n",
       "├─Linear: 1-5                            [1, 222]        [1, 413]        91,686\n",
       "=====================================================================================\n",
       "Total params: 718,862\n",
       "Trainable params: 718,862\n",
       "Non-trainable params: 0\n",
       "Total mult-adds (M): 0.72\n",
       "=====================================================================================\n",
       "Input size (MB): 0.00\n",
       "Forward/backward pass size (MB): 0.08\n",
       "Params size (MB): 5.75\n",
       "Estimated Total Size (MB): 5.83\n",
       "====================================================================================="
      ]
     },
     "execution_count": 9,
     "metadata": {},
     "output_type": "execute_result"
    }
   ],
   "source": [
    "summary(\n",
    "    Net,\n",
    "    input_data=torch.zeros(1, InputData.shape[1]),\n",
    "    device=GET_DEVICE(-1),\n",
    "    col_names=[\"input_size\", \"output_size\", \"num_params\"],\n",
    "    col_width=15,\n",
    ")"
   ]
  },
  {
   "cell_type": "markdown",
   "metadata": {},
   "source": [
    "Define loss function."
   ]
  },
  {
   "cell_type": "code",
   "execution_count": 10,
   "metadata": {},
   "outputs": [],
   "source": [
    "def SparityLoss(SparityPromotingLayer, OutputFromNet, OutputFromData):\n",
    "    sparity_loss = 0\n",
    "    for layer in SparityPromotingLayer:\n",
    "        for _, param in layer.named_parameters():\n",
    "            sparity_loss += torch.abs(param).sum()\n",
    "\n",
    "    return sparity_loss"
   ]
  },
  {
   "cell_type": "markdown",
   "metadata": {},
   "source": [
    "Define optimizer."
   ]
  },
  {
   "cell_type": "code",
   "execution_count": 11,
   "metadata": {},
   "outputs": [],
   "source": [
    "optimizer = torch.optim.Adam(\n",
    "    Net.parameters(),\n",
    "    lr=config[\"TRAIN\"][\"LEARNING_RATE\"],\n",
    "    weight_decay=config[\"TRAIN\"][\"WEIGHT_DECAY\"],\n",
    ")"
   ]
  },
  {
   "cell_type": "markdown",
   "metadata": {},
   "source": [
    "Training network."
   ]
  },
  {
   "cell_type": "code",
   "execution_count": 12,
   "metadata": {},
   "outputs": [
    {
     "name": "stdout",
     "output_type": "stream",
     "text": [
      "PyTorch Version: 2.5.1\n",
      "Weight initialized with Kaiming Initialization\n",
      "Training on cuda:0\n",
      "====================================Start training====================================\n"
     ]
    },
    {
     "name": "stderr",
     "output_type": "stream",
     "text": [
      "Epoch 1/30: 100%|██████████| 1250/1250 [00:09<00:00, 136.59batch/s, loss_1=4.43e+3, loss_2=4.43e+3]\n",
      "Epoch 2/30: 100%|██████████| 1250/1250 [00:08<00:00, 141.65batch/s, loss_1=4.45e+3, loss_2=4.45e+3]\n",
      "Epoch 3/30: 100%|██████████| 1250/1250 [00:08<00:00, 141.10batch/s, loss_1=4.33e+3, loss_2=4.33e+3]\n",
      "Epoch 4/30: 100%|██████████| 1250/1250 [00:09<00:00, 138.56batch/s, loss_1=4.63e+3, loss_2=4.63e+3]\n",
      "Epoch 5/30: 100%|██████████| 1250/1250 [00:08<00:00, 141.56batch/s, loss_1=4.53e+3, loss_2=4.53e+3]\n",
      "Epoch 6/30: 100%|██████████| 1250/1250 [00:08<00:00, 141.61batch/s, loss_1=4.21e+3, loss_2=4.21e+3]\n",
      "Epoch 7/30: 100%|██████████| 1250/1250 [00:08<00:00, 141.39batch/s, loss_1=4.19e+3, loss_2=4.19e+3]\n",
      "Epoch 8/30: 100%|██████████| 1250/1250 [00:08<00:00, 141.80batch/s, loss_1=4.9e+3, loss_2=4.9e+3]  \n",
      "Epoch 9/30: 100%|██████████| 1250/1250 [00:09<00:00, 136.87batch/s, loss_1=5.12e+3, loss_2=5.12e+3]\n",
      "Epoch 10/30: 100%|██████████| 1250/1250 [00:09<00:00, 135.43batch/s, loss_1=3.52e+3, loss_2=3.52e+3]\n",
      "Epoch 11/30: 100%|██████████| 1250/1250 [00:09<00:00, 132.91batch/s, loss_1=4.87e+3, loss_2=4.87e+3]\n",
      "Epoch 12/30: 100%|██████████| 1250/1250 [00:09<00:00, 137.25batch/s, loss_1=5.05e+3, loss_2=5.05e+3]\n",
      "Epoch 13/30: 100%|██████████| 1250/1250 [00:09<00:00, 136.06batch/s, loss_1=4.04e+3, loss_2=4.04e+3]\n",
      "Epoch 14/30: 100%|██████████| 1250/1250 [00:09<00:00, 134.06batch/s, loss_1=4.08e+3, loss_2=4.08e+3]\n",
      "Epoch 15/30: 100%|██████████| 1250/1250 [00:09<00:00, 130.76batch/s, loss_1=3.83e+3, loss_2=3.83e+3]\n",
      "Epoch 16/30: 100%|██████████| 1250/1250 [00:09<00:00, 135.01batch/s, loss_1=3.94e+3, loss_2=3.94e+3]\n",
      "Epoch 17/30: 100%|██████████| 1250/1250 [00:09<00:00, 134.72batch/s, loss_1=4.65e+3, loss_2=4.65e+3]\n",
      "Epoch 18/30: 100%|██████████| 1250/1250 [00:09<00:00, 132.00batch/s, loss_1=4.55e+3, loss_2=4.55e+3]\n",
      "Epoch 19/30: 100%|██████████| 1250/1250 [00:09<00:00, 134.26batch/s, loss_1=3.12e+3, loss_2=3.12e+3]\n",
      "Epoch 20/30: 100%|██████████| 1250/1250 [00:09<00:00, 133.30batch/s, loss_1=3.64e+3, loss_2=3.64e+3]\n",
      "Epoch 21/30: 100%|██████████| 1250/1250 [00:09<00:00, 131.60batch/s, loss_1=4.12e+3, loss_2=4.12e+3]\n",
      "Epoch 22/30: 100%|██████████| 1250/1250 [00:09<00:00, 133.33batch/s, loss_1=4.19e+3, loss_2=4.19e+3]\n",
      "Epoch 23/30: 100%|██████████| 1250/1250 [00:09<00:00, 131.84batch/s, loss_1=4.22e+3, loss_2=4.22e+3]\n",
      "Epoch 24/30: 100%|██████████| 1250/1250 [00:09<00:00, 131.50batch/s, loss_1=4.75e+3, loss_2=4.75e+3]\n",
      "Epoch 25/30: 100%|██████████| 1250/1250 [00:09<00:00, 131.18batch/s, loss_1=4.28e+3, loss_2=4.28e+3]\n",
      "Epoch 26/30: 100%|██████████| 1250/1250 [00:09<00:00, 133.32batch/s, loss_1=4.13e+3, loss_2=4.13e+3]\n",
      "Epoch 27/30: 100%|██████████| 1250/1250 [00:09<00:00, 133.63batch/s, loss_1=5.3e+3, loss_2=5.3e+3]  \n",
      "Epoch 28/30: 100%|██████████| 1250/1250 [00:09<00:00, 131.18batch/s, loss_1=3.93e+3, loss_2=3.93e+3]\n",
      "Epoch 29/30: 100%|██████████| 1250/1250 [00:09<00:00, 130.41batch/s, loss_1=4.44e+3, loss_2=4.44e+3]\n",
      "Epoch 30/30: 100%|██████████| 1250/1250 [00:09<00:00, 132.58batch/s, loss_1=3.74e+3, loss_2=3.74e+3]\n"
     ]
    },
    {
     "name": "stdout",
     "output_type": "stream",
     "text": [
      "====================================Finish training====================================\n",
      "\n"
     ]
    }
   ],
   "source": [
    "(\n",
    "    Loss_1_Training_History,\n",
    "    Loss_1_Validation_History,\n",
    "    Loss_2_Training_History,\n",
    "    Loss_2_Validation_History,\n",
    ") = TRAIN_WITH_PROGRESS_BAR_TWO_LOSS(\n",
    "    MODEL=Net,\n",
    "    CONFIG=config,\n",
    "    OPTIMIZER=optimizer,\n",
    "    TRAIN_LOADER=TrainingLoader,\n",
    "    VALIDATION_LOADER=ValidationLoader,\n",
    "    LOSS_TUPLE=[\n",
    "        nn.MSELoss(),\n",
    "        lambda y1, y2: SparityLoss(\n",
    "            [Net.Shortcut.NonZero, Net.LinearMapping],\n",
    "            y1,\n",
    "            y2,\n",
    "        ),\n",
    "    ],\n",
    "    FREEZE_LAYER=[Net.Shortcut.NonZero, Net.LinearMapping],\n",
    ")"
   ]
  },
  {
   "cell_type": "markdown",
   "metadata": {},
   "source": [
    "## 3. Visualization"
   ]
  },
  {
   "cell_type": "markdown",
   "metadata": {},
   "source": [
    "Loss-Epoch Diagram"
   ]
  },
  {
   "cell_type": "code",
   "execution_count": 13,
   "metadata": {},
   "outputs": [
    {
     "data": {
      "image/png": "[encoded data removed]",
      "text/plain": [
       "<Figure size 640x480 with 2 Axes>"
      ]
     },
     "metadata": {},
     "output_type": "display_data"
    }
   ],
   "source": [
    "plt.rcParams[\"text.usetex\"] = True\n",
    "Loss_Epoch_Diagram = LOSS_EPOCH_DIAGRAM_TWO_LOSS(\n",
    "    LOSS_HISTORY_TUPLE=(\n",
    "        Loss_1_Training_History,\n",
    "        Loss_1_Validation_History,\n",
    "        Loss_2_Training_History,\n",
    "        Loss_2_Validation_History,\n",
    "    ),\n",
    "    CONFIG=config,\n",
    "    LAYER_NAME=[\"Shortcut\", \"LinearMapping\"],\n",
    ")"
   ]
  },
  {
   "cell_type": "markdown",
   "metadata": {},
   "source": [
    "Final loss."
   ]
  },
  {
   "cell_type": "code",
   "execution_count": 14,
   "metadata": {},
   "outputs": [
    {
     "data": {
      "text/plain": [
       "4307.618397681421"
      ]
     },
     "execution_count": 14,
     "metadata": {},
     "output_type": "execute_result"
    }
   ],
   "source": [
    "Loss_2_Validation_History[-1]"
   ]
  }
 ],
 "metadata": {
  "kernelspec": {
   "display_name": "DynReg",
   "language": "python",
   "name": "python3"
  },
  "language_info": {
   "codemirror_mode": {
    "name": "ipython",
    "version": 3
   },
   "file_extension": ".py",
   "mimetype": "text/x-python",
   "name": "python",
   "nbconvert_exporter": "python",
   "pygments_lexer": "ipython3",
   "version": "3.10.16"
  }
 },
 "nbformat": 4,
 "nbformat_minor": 2
}
